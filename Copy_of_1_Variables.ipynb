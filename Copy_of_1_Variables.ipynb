{
  "nbformat": 4,
  "nbformat_minor": 0,
  "metadata": {
    "colab": {
      "provenance": [],
      "include_colab_link": true
    },
    "kernelspec": {
      "name": "python3",
      "display_name": "Python 3"
    },
    "language_info": {
      "name": "python"
    }
  },
  "cells": [
    {
      "cell_type": "markdown",
      "metadata": {
        "id": "view-in-github",
        "colab_type": "text"
      },
      "source": [
        "<a href=\"https://colab.research.google.com/github/tpiedrahita-byte/sys2025/blob/main/Copy_of_1_Variables.ipynb\" target=\"_parent\"><img src=\"https://colab.research.google.com/assets/colab-badge.svg\" alt=\"Open In Colab\"/></a>"
      ]
    },
    {
      "cell_type": "markdown",
      "source": [
        "\n",
        "#Introduction to Python Notebooks - Google Colab\n",
        "\n",
        "\n",
        "\n"
      ],
      "metadata": {
        "id": "CY3REa3O8ldU"
      }
    },
    {
      "cell_type": "markdown",
      "source": [
        "In Python, you don't have to declare the data type for variables like in other programming languages. When you assign a value to a variable, Python automatically determines its data type based on the assigned value. However, the basic data types in Python are as follows:\n",
        "\n",
        "1. Integer (int): Represents whole numbers without decimals, such as 5, -10, or 0.\n",
        "\n",
        "2. Float: Represents numbers with decimal points, such as 3.14, -2.5, or 0.0.\n",
        "\n",
        "3. String (str): Represents a sequence of characters enclosed in single quotes ('') or double quotes (\"\"). For example, \"Hello, World!\" or 'Python'.\n",
        "\n",
        "4. Boolean (bool): Represents either True or False. It is used for logical operations and conditional statements.\n",
        "\n",
        "5. List: Represents an ordered collection of items enclosed in square brackets ([]). Lists can contain elements of different data types and are mutable (modifiable).\n",
        "\n",
        "6. Tuple: Similar to lists, tuples are also ordered collections of items, but they are enclosed in parentheses (()). Tuples are immutable (cannot be modified).\n",
        "\n",
        "7. Dictionary (dict): Represents a collection of key-value pairs enclosed in curly braces ({}). Each value is associated with a unique key, allowing fast retrieval of values.\n",
        "\n",
        "8. Set: Represents an unordered collection of unique elements enclosed in curly braces ({}). Sets are useful for eliminating duplicate values and performing mathematical set operations.\n",
        "\n",
        "These are the basic data types in Python, and they provide the foundation for more complex data structures and objects."
      ],
      "metadata": {
        "id": "qePyAGJG8sZF"
      }
    },
    {
      "cell_type": "code",
      "source": [
        "a = 2  # Integer type\n",
        "b = a + 3\n",
        "\n",
        "f = 0.176  # Float type\n",
        "\n",
        "condition = True  # Boolean type\n",
        "\n",
        "s = \"Hello\"  # String type"
      ],
      "metadata": {
        "id": "rSWRG-M_9BQr"
      },
      "execution_count": null,
      "outputs": []
    },
    {
      "cell_type": "code",
      "source": [
        "type(a) #type function print the variable type"
      ],
      "metadata": {
        "colab": {
          "base_uri": "https://localhost:8080/"
        },
        "id": "2kGCqjPnAhYg",
        "outputId": "41182635-9a0c-4378-c8fe-5cd4f63fa61d"
      },
      "execution_count": null,
      "outputs": [
        {
          "output_type": "execute_result",
          "data": {
            "text/plain": [
              "int"
            ]
          },
          "metadata": {},
          "execution_count": 2
        }
      ]
    },
    {
      "cell_type": "code",
      "source": [
        "type(b)"
      ],
      "metadata": {
        "colab": {
          "base_uri": "https://localhost:8080/"
        },
        "id": "Jcif8WDhBWJ3",
        "outputId": "ee0ed196-564a-4ace-b23b-2268a1eecebf"
      },
      "execution_count": null,
      "outputs": [
        {
          "output_type": "execute_result",
          "data": {
            "text/plain": [
              "int"
            ]
          },
          "metadata": {},
          "execution_count": 3
        }
      ]
    },
    {
      "cell_type": "code",
      "source": [
        "type(f)"
      ],
      "metadata": {
        "colab": {
          "base_uri": "https://localhost:8080/"
        },
        "id": "X7UjciSnBAdL",
        "outputId": "1752ebe8-a472-4e6c-dad9-3fdb653141d0"
      },
      "execution_count": null,
      "outputs": [
        {
          "output_type": "execute_result",
          "data": {
            "text/plain": [
              "float"
            ]
          },
          "metadata": {},
          "execution_count": 4
        }
      ]
    },
    {
      "cell_type": "code",
      "source": [
        "type(condition)"
      ],
      "metadata": {
        "colab": {
          "base_uri": "https://localhost:8080/"
        },
        "id": "vPQm2VaBBCni",
        "outputId": "58f66ccd-7a5b-4103-8c7a-e2324c714814"
      },
      "execution_count": null,
      "outputs": [
        {
          "output_type": "execute_result",
          "data": {
            "text/plain": [
              "bool"
            ]
          },
          "metadata": {},
          "execution_count": 5
        }
      ]
    },
    {
      "cell_type": "code",
      "source": [
        "type(s)"
      ],
      "metadata": {
        "colab": {
          "base_uri": "https://localhost:8080/"
        },
        "id": "6TTtTmCkBHNL",
        "outputId": "5346c401-9da7-4ad0-96c9-88bbcf6d9af7"
      },
      "execution_count": null,
      "outputs": [
        {
          "output_type": "execute_result",
          "data": {
            "text/plain": [
              "str"
            ]
          },
          "metadata": {},
          "execution_count": 6
        }
      ]
    },
    {
      "cell_type": "markdown",
      "source": [
        "What happens if we add an int with a float?"
      ],
      "metadata": {
        "id": "nzJTHGf8Bers"
      }
    },
    {
      "cell_type": "code",
      "source": [
        "x = b + f\n",
        "x"
      ],
      "metadata": {
        "colab": {
          "base_uri": "https://localhost:8080/"
        },
        "id": "fxiyqBVlBYrZ",
        "outputId": "6ddfaf73-584a-4a14-de03-96000b5f90e6"
      },
      "execution_count": null,
      "outputs": [
        {
          "output_type": "execute_result",
          "data": {
            "text/plain": [
              "5.176"
            ]
          },
          "metadata": {},
          "execution_count": 7
        }
      ]
    },
    {
      "cell_type": "code",
      "source": [
        "type(x)"
      ],
      "metadata": {
        "colab": {
          "base_uri": "https://localhost:8080/"
        },
        "id": "n0dSEoBEBbiT",
        "outputId": "0a76e649-bc4e-44be-f879-af488c585f90"
      },
      "execution_count": null,
      "outputs": [
        {
          "output_type": "execute_result",
          "data": {
            "text/plain": [
              "float"
            ]
          },
          "metadata": {},
          "execution_count": 8
        }
      ]
    },
    {
      "cell_type": "markdown",
      "source": [
        "Another handy tool is the ability to convert data types.\n",
        "For instance, by converting x to an integer, we obtain only its integer part."
      ],
      "metadata": {
        "id": "qhmzXdWEBkts"
      }
    },
    {
      "cell_type": "code",
      "source": [
        "x2 = int(x) #variable casting\n",
        "x2"
      ],
      "metadata": {
        "colab": {
          "base_uri": "https://localhost:8080/"
        },
        "id": "9urmEVBeB2O7",
        "outputId": "1203ee2d-d7b7-4013-9075-2a6c59475e98"
      },
      "execution_count": null,
      "outputs": [
        {
          "output_type": "execute_result",
          "data": {
            "text/plain": [
              "5"
            ]
          },
          "metadata": {},
          "execution_count": 9
        }
      ]
    },
    {
      "cell_type": "code",
      "source": [
        "type(x2)"
      ],
      "metadata": {
        "colab": {
          "base_uri": "https://localhost:8080/"
        },
        "id": "5vO6QIlA2YJC",
        "outputId": "340e1529-cfb8-4a0b-a0de-2c9424643125"
      },
      "execution_count": null,
      "outputs": [
        {
          "output_type": "execute_result",
          "data": {
            "text/plain": [
              "int"
            ]
          },
          "metadata": {},
          "execution_count": 10
        }
      ]
    },
    {
      "cell_type": "markdown",
      "source": [
        "For boolean variables, their representation as integers can be useful for certain applications. The correspondence is as follows:\n",
        "\n",
        "True $\\neq$ 0 (More commonly represented as 1)\n",
        "\n",
        "False = 0"
      ],
      "metadata": {
        "id": "hUTYPuqRB7JS"
      }
    },
    {
      "cell_type": "code",
      "source": [
        "condicion_int = int(condition)\n",
        "condicion_int"
      ],
      "metadata": {
        "colab": {
          "base_uri": "https://localhost:8080/"
        },
        "id": "m7aHnSweB6Yy",
        "outputId": "d3a423e7-db37-4738-f833-cd9b8484c36a"
      },
      "execution_count": null,
      "outputs": [
        {
          "output_type": "execute_result",
          "data": {
            "text/plain": [
              "1"
            ]
          },
          "metadata": {},
          "execution_count": 11
        }
      ]
    },
    {
      "cell_type": "code",
      "source": [
        "c = 5\n",
        "condicion_2 = bool(c)\n",
        "condicion_2"
      ],
      "metadata": {
        "colab": {
          "base_uri": "https://localhost:8080/"
        },
        "id": "7fswi5YgCP1x",
        "outputId": "902a0124-6843-42c9-821b-aa219eff5918"
      },
      "execution_count": null,
      "outputs": [
        {
          "output_type": "execute_result",
          "data": {
            "text/plain": [
              "True"
            ]
          },
          "metadata": {},
          "execution_count": 12
        }
      ]
    },
    {
      "cell_type": "code",
      "source": [
        "c = 0\n",
        "condicion_2 = bool(c)\n",
        "condicion_2"
      ],
      "metadata": {
        "colab": {
          "base_uri": "https://localhost:8080/"
        },
        "id": "14KqhWnGCwgP",
        "outputId": "2562f529-dba8-479e-a7e1-f93365809caf"
      },
      "execution_count": null,
      "outputs": [
        {
          "output_type": "execute_result",
          "data": {
            "text/plain": [
              "False"
            ]
          },
          "metadata": {},
          "execution_count": 13
        }
      ]
    },
    {
      "cell_type": "markdown",
      "source": [
        "Two of the main commands used to interact with the console are: print() and input()."
      ],
      "metadata": {
        "id": "ZhNkkPAAIDDO"
      }
    },
    {
      "cell_type": "markdown",
      "source": [
        "The print() command allows us to display variables as well as the text that is provided as an argument on the screen."
      ],
      "metadata": {
        "id": "W5sOen9pJXY0"
      }
    },
    {
      "cell_type": "code",
      "source": [
        "print(\"This is the message to be printed.\\nIn this case, it has two lines.\") #\\n print a new line"
      ],
      "metadata": {
        "colab": {
          "base_uri": "https://localhost:8080/"
        },
        "id": "BU-dHeM0Jl7l",
        "outputId": "ba077fe1-5ee5-4092-8572-9d6fbd4cc7d2"
      },
      "execution_count": null,
      "outputs": [
        {
          "output_type": "stream",
          "name": "stdout",
          "text": [
            "This is the message to be printed.\n",
            "In this case, it has two lines.\n"
          ]
        }
      ]
    },
    {
      "cell_type": "code",
      "source": [
        "print(b)"
      ],
      "metadata": {
        "colab": {
          "base_uri": "https://localhost:8080/"
        },
        "id": "vk4hdmzRJ6R-",
        "outputId": "d612a9cf-ff23-4da5-dc76-9db30ee069f7"
      },
      "execution_count": null,
      "outputs": [
        {
          "output_type": "stream",
          "name": "stdout",
          "text": [
            "5\n"
          ]
        }
      ]
    },
    {
      "cell_type": "code",
      "source": [
        "print(condition)"
      ],
      "metadata": {
        "colab": {
          "base_uri": "https://localhost:8080/"
        },
        "id": "fzPS0Fh_KCig",
        "outputId": "183f9521-f492-4a31-8bac-adc70fbba8a8"
      },
      "execution_count": null,
      "outputs": [
        {
          "output_type": "stream",
          "name": "stdout",
          "text": [
            "True\n"
          ]
        }
      ]
    },
    {
      "cell_type": "markdown",
      "source": [
        "On the other hand, the input() command can also display a message on the screen, but it will be displayed before the input field where the value, which will be stored in a string variable, is entered."
      ],
      "metadata": {
        "id": "4Mrq_tb6KYEw"
      }
    },
    {
      "cell_type": "code",
      "source": [
        "y = input(\"Input a number please: \")\n",
        "y"
      ],
      "metadata": {
        "colab": {
          "base_uri": "https://localhost:8080/",
          "height": 53
        },
        "id": "BVX98Bx8LPs_",
        "outputId": "cfe6ad61-8084-4a1b-93d6-e8ace8ee1a52"
      },
      "execution_count": null,
      "outputs": [
        {
          "name": "stdout",
          "output_type": "stream",
          "text": [
            "Input a number please: 5\n"
          ]
        },
        {
          "output_type": "execute_result",
          "data": {
            "text/plain": [
              "'5'"
            ],
            "application/vnd.google.colaboratory.intrinsic+json": {
              "type": "string"
            }
          },
          "metadata": {},
          "execution_count": 17
        }
      ]
    },
    {
      "cell_type": "code",
      "source": [
        "type(y) #note that a str is captured, you need to privide a casting to convert it to a number if needed"
      ],
      "metadata": {
        "colab": {
          "base_uri": "https://localhost:8080/"
        },
        "id": "9JbU9M5rN_Vt",
        "outputId": "2ba2fd24-2335-4900-e042-ed37867e0df9"
      },
      "execution_count": null,
      "outputs": [
        {
          "output_type": "execute_result",
          "data": {
            "text/plain": [
              "str"
            ]
          },
          "metadata": {},
          "execution_count": 18
        }
      ]
    },
    {
      "cell_type": "markdown",
      "source": [
        "\n",
        "Basic arithmetic operations:"
      ],
      "metadata": {
        "id": "QG5TxjW-OWqY"
      }
    },
    {
      "cell_type": "code",
      "source": [
        "a = 2 + 4.5 + 3\n",
        "b = a - 2.5 # . holds decimal operator\n",
        "b"
      ],
      "metadata": {
        "colab": {
          "base_uri": "https://localhost:8080/"
        },
        "id": "AUJtIrleRIdQ",
        "outputId": "e976a8d0-d03c-4fba-9fb1-6c4fb539d141"
      },
      "execution_count": null,
      "outputs": [
        {
          "output_type": "execute_result",
          "data": {
            "text/plain": [
              "7.0"
            ]
          },
          "metadata": {},
          "execution_count": 19
        }
      ]
    },
    {
      "cell_type": "code",
      "source": [
        "a = 3*8 # Multiplication maintains the data type if it is an integer\n",
        "b = a/6 # Division automatically converts it to a float even if it is exact\n",
        "a, b"
      ],
      "metadata": {
        "colab": {
          "base_uri": "https://localhost:8080/"
        },
        "id": "pzLN54zIRPMw",
        "outputId": "8578afaf-12fc-418c-ec85-5d899f02d3b4"
      },
      "execution_count": null,
      "outputs": [
        {
          "output_type": "execute_result",
          "data": {
            "text/plain": [
              "(24, 4.0)"
            ]
          },
          "metadata": {},
          "execution_count": 20
        }
      ]
    },
    {
      "cell_type": "code",
      "source": [
        "a = 2**2 # ** power operator\n",
        "a"
      ],
      "metadata": {
        "colab": {
          "base_uri": "https://localhost:8080/"
        },
        "id": "hPtAUG8ASYWB",
        "outputId": "001316e1-d5d1-473c-abde-ba3120497293"
      },
      "execution_count": null,
      "outputs": [
        {
          "output_type": "execute_result",
          "data": {
            "text/plain": [
              "4"
            ]
          },
          "metadata": {},
          "execution_count": 21
        }
      ]
    },
    {
      "cell_type": "code",
      "source": [
        "b = 9**(1/2)\n",
        "b"
      ],
      "metadata": {
        "colab": {
          "base_uri": "https://localhost:8080/"
        },
        "id": "cxjxYCBVSbp0",
        "outputId": "ac28a652-7776-481a-b3b0-7b39915a4861"
      },
      "execution_count": null,
      "outputs": [
        {
          "output_type": "execute_result",
          "data": {
            "text/plain": [
              "3.0"
            ]
          },
          "metadata": {},
          "execution_count": 22
        }
      ]
    },
    {
      "cell_type": "markdown",
      "source": [
        "\n",
        "This is a way to calculate square roots without using any library.\n",
        "In general, for more advanced calculations, numpy and sympy are commonly used."
      ],
      "metadata": {
        "id": "Q-Zz-FXuSkuC"
      }
    },
    {
      "cell_type": "markdown",
      "source": [
        "## Exercises"
      ],
      "metadata": {
        "id": "fe0JX6B0TEjG"
      }
    },
    {
      "cell_type": "markdown",
      "source": [
        "\n",
        "1. Write a program that displays the result of the following arithmetic operation on the screen: $x(t) = \\left(\\frac{3+2}{2.5}\\right)^2$\n",
        "\n",
        "2. Write a program that asks the user for the number of hours worked and the hourly rate. Then, it should display on the screen the corresponding payment.\n",
        "\n",
        "3. Write a program that asks the user for their weight (in kg) and height (in meters), calculates the body mass index (BMI), stores it in a variable, and displays the message \"Your body mass index is imc\" on the screen, where imc is the calculated BMI rounded to two decimal places."
      ],
      "metadata": {
        "id": "96blkWptzDmu"
      }
    },
    {
      "cell_type": "markdown",
      "source": [
        "Developed by:\n",
        "\n",
        "- Brian Patino Agudelo - bpatinoa@unal.edu.co\n",
        "\n",
        "- Andrés Marino Álvarez Meza - amalvarezme@unal.edu.co\n",
        "\n",
        "- César Germán Castellanos Domínguez - cgcastellanosd@unal.edu.co"
      ],
      "metadata": {
        "id": "pwWLNV4zz5di"
      }
    },
    {
      "cell_type": "code",
      "source": [
        "# Exercise 1\n",
        "x = ((3 + 2) / 2.5)**2\n",
        "print(x)\n",
        "\n",
        "# Exercise 2\n",
        "horas=float(input(\"ingrese el numero de horas trabajadas:\"))\n",
        "tarifa=float(input(\"ingrese la tarifa por hora:\"))\n",
        "pago=horas*tarifa\n",
        "print(\"el pago es: \",pago)\n",
        "\n",
        "# Exercise 3\n",
        "peso=float(input(\"ingrese su peso en Kg:\"))\n",
        "altura=float(input(\"ingrese su altura en metros:\"))\n",
        "IMC=peso/(altura**2)\n",
        "print(\"su indice de masa corporal es:\", round(IMC,2))"
      ],
      "metadata": {
        "colab": {
          "base_uri": "https://localhost:8080/"
        },
        "id": "qTpArHREm-hB",
        "outputId": "c8e8cf75-2696-4867-c262-d21ea9faafad"
      },
      "execution_count": null,
      "outputs": [
        {
          "output_type": "stream",
          "name": "stdout",
          "text": [
            "4.0\n"
          ]
        }
      ]
    }
  ]
}