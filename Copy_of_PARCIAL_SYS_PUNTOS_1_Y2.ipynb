{
  "nbformat": 4,
  "nbformat_minor": 0,
  "metadata": {
    "colab": {
      "private_outputs": true,
      "provenance": [],
      "authorship_tag": "ABX9TyM48KU97ZbWTdUlwaaxGWqU",
      "include_colab_link": true
    },
    "kernelspec": {
      "name": "python3",
      "display_name": "Python 3"
    },
    "language_info": {
      "name": "python"
    }
  },
  "cells": [
    {
      "cell_type": "markdown",
      "metadata": {
        "id": "view-in-github",
        "colab_type": "text"
      },
      "source": [
        "<a href=\"https://colab.research.google.com/github/tpiedrahita-byte/sys2025/blob/main/Copy_of_PARCIAL_SYS_PUNTOS_1_Y2.ipynb\" target=\"_parent\"><img src=\"https://colab.research.google.com/assets/colab-badge.svg\" alt=\"Open In Colab\"/></a>"
      ]
    },
    {
      "cell_type": "code",
      "execution_count": null,
      "metadata": {
        "id": "R0cRl2a4ET7V"
      },
      "outputs": [],
      "source": []
    },
    {
      "cell_type": "markdown",
      "metadata": {
        "id": "398373eb"
      },
      "source": [
        "# Universidad Nacional de Colombia\n",
        "\n",
        "## Parcial de Señales y Sistemas\n",
        "\n",
        "**Estudiante:** Thomas Piedrahita Jaramillo\n",
        "\n",
        "**Fecha:** [11/10/2025]\n",
        "\n",
        "---"
      ]
    },
    {
      "cell_type": "markdown",
      "metadata": {
        "id": "f5a08756"
      },
      "source": [
        "# Tarea:\n",
        "EJERCICIO 1\n",
        "\n",
        "Calcular la distancia media cuadrática entre dos señales periódicas $x_1(t) = Ae^{-jn\\omega_0t}$ y $x_2(t) = Be^{jm\\omega_0t}$, donde $\\omega_0 = \\frac{2\\pi}{T}$, $T, A, B \\in \\mathbb{R}^+$, y $n, m \\in \\mathbb{Z}$. Resolver detalladamente y comprobar los resultados con Python."
      ]
    },
    {
      "cell_type": "markdown",
      "metadata": {
        "id": "a900a29a"
      },
      "source": [
        "## Resumen:\n",
        "\n",
        "### Hallazgos Clave del Análisis de Datos\n",
        "\n",
        "* El período fundamental de la señal $x_1(t) = Ae^{-jn\\omega_0t}$ es $T/|n|$ (para $n \\neq 0$), y el período fundamental de $x_2(t) = Be^{jm\\omega_0t}$ es $T/|m|$ (para $m \\neq 0$). Un período común es $T/MCD(|n|, |m|)$.\n",
        "* La diferencia entre las dos señales es $x_1(t) - x_2(t) = A e^{-jn\\omega_0 t} - B e^{jm\\omega_0 t}$.\n",
        "* El cuadrado de la magnitud de la diferencia es $|x_1(t) - x_2(t)|^2 = A^2 + B^2 - 2AB\\cos((n + m)\\omega_0t)$.\n",
        "* La integral del cuadrado de la magnitud sobre un período $T$ es $A^2T + B^2T$ cuando $n + m \\neq 0$.\n",
        "* La integral del cuadrado de la magnitud sobre un período $T$ es $T(A^2 - 2AB + B^2)$ cuando $n + m = 0$.\n",
        "* La distancia cuadrática media (potencia media de la diferencia) es $A^2 + B^2$ cuando $n + m \\neq 0$.\n",
        "* La distancia cuadrática media (potencia media de la diferencia) es $(A - B)^2$ cuando $n + m = 0$.\n",
        "* Las simulaciones numéricas en Python verificaron los resultados analíticos, mostrando una diferencia de 0.0 entre las distancias cuadráticas medias numéricas y analíticas para valores de parámetros específicos en ambos casos ($n+m \\neq 0$ y $n+m = 0$).\n",
        "\n",
        "### Ideas o Próximos Pasos\n",
        "\n",
        "* La distancia cuadrática media entre las señales depende de si la suma de los índices de frecuencia ($n+m$) es cero o no. Si $n+m \\neq 0$, la distancia es la suma de los cuadrados de las amplitudes; si $n+m = 0$, la distancia es el cuadrado de la diferencia de las amplitudes.\n",
        "* El trabajo futuro podría incluir la exploración de la distancia cuadrática media entre señales periódicas más complejas o señales con diferentes tipos de componentes no periódicas."
      ]
    },
    {
      "cell_type": "markdown",
      "metadata": {
        "id": "0fe9a922"
      },
      "source": [
        "## Análisis de las señales\n",
        "\n",
        "Identificar las características de las señales x1(t) y x2(t), incluyendo sus parámetros y el período.\n"
      ]
    },
    {
      "cell_type": "markdown",
      "metadata": {
        "id": "3b02f918"
      },
      "source": [
        "**Reasoning**:\n",
        "Analyze the given signals, identify their parameters, and determine their periodicity based on the provided definitions.\n",
        "\n"
      ]
    },
    {
      "cell_type": "code",
      "metadata": {
        "id": "9cbe2e7c"
      },
      "source": [
        "# Analizar las señales x1(t) y x2(t)\n",
        "# x1(t) = A * exp(-j * n * w0 * t)\n",
        "# x2(t) = B * exp(j * m * w0 * t)\n",
        "\n",
        "# Parámetros:\n",
        "# A, B son constantes reales positivas (amplitudes).\n",
        "# n, m son números enteros.\n",
        "# w0 = 2 * pi / T es la frecuencia angular, donde T es el período.\n",
        "# t es el tiempo.\n",
        "\n",
        "# Periodicidad:\n",
        "# Una señal x(t) es periódica con período T0 si x(t + T0) = x(t) para todo t.\n",
        "# Para x1(t): x1(t + T0) = A * exp(-j * n * w0 * (t + T0)) = A * exp(-j * n * w0 * t) * exp(-j * n * w0 * T0)\n",
        "# Para que x1(t) sea periódica con período T0, exp(-j * n * w0 * T0) debe ser igual a 1.\n",
        "# Esto ocurre cuando -n * w0 * T0 es un múltiplo de 2 * pi.\n",
        "# -n * (2 * pi / T) * T0 = 2 * pi * k, donde k es un número entero.\n",
        "# -n * T0 / T = k\n",
        "# T0 = -k * T / n. Dado que T0 debe ser positivo, podemos tomar k como un entero negativo o definir T0 = |k| * T / |n|.\n",
        "# El período fundamental de x1(t) es T1 = T / |n| (asumiendo que n no es cero).\n",
        "\n",
        "# Para x2(t): x2(t + T0) = B * exp(j * m * w0 * (t + T0)) = B * exp(j * m * w0 * t) * exp(j * m * w0 * T0)\n",
        "# Para que x2(t) sea periódica con período T0, exp(j * m * w0 * T0) debe ser igual a 1.\n",
        "# Esto ocurre cuando m * w0 * T0 es un múltiplo de 2 * pi.\n",
        "# m * (2 * pi / T) * T0 = 2 * pi * l, donde l es un número entero.\n",
        "# m * T0 / T = l\n",
        "# T0 = l * T / m. El período fundamental de x2(t) es T2 = T / |m| (asumiendo que m no es cero).\n",
        "\n",
        "# Período Común:\n",
        "# Existe un período común T_común si T_común es un múltiplo tanto de T1 como de T2.\n",
        "# T_común = p * T1 = q * T2, donde p y q son números enteros.\n",
        "# p * (T / |n|) = q * (T / |m|)\n",
        "# p / |n| = q / |m|\n",
        "# p * |m| = q * |n|\n",
        "# El mínimo común múltiplo de T1 y T2 es el período común fundamental.\n",
        "# Si n y m son números enteros, la relación T1/T2 = (|m| / |n|) es un número racional.\n",
        "# El mínimo común múltiplo de T/|n| y T/|m| es MCM(T/|n|, T/|m|) = MCM(T, T) / MCD(|n|, |m|) = T / MCD(|n|, |m|). Este es el período común fundamental.\n",
        "\n",
        "# Naturaleza de las señales:\n",
        "# Ambas señales son de valor complejo debido a la presencia de 'j'.\n",
        "# Ambas señales son periódicas.\n",
        "# Son exponenciales complejas.\n",
        "\n",
        "print(\"Análisis de las señales x1(t) y x2(t):\")\n",
        "print(\"x1(t) = A * exp(-j * n * w0 * t)\")\n",
        "print(\"x2(t) = B * exp(j * m * w0 * t)\")\n",
        "print(\"\\nParámetros:\")\n",
        "print(\"A: Amplitud de x1(t), constante real positiva.\")\n",
        "print(\"B: Amplitud de x2(t), constante real positiva.\")\n",
        "print(\"n: Número entero relacionado con la frecuencia de x1(t).\")\n",
        "print(\"m: Número entero relacionado con la frecuencia de x2(t).\")\n",
        "print(\"w0: Frecuencia angular, w0 = 2 * pi / T.\")\n",
        "print(\"T: Período base, constante real positiva.\")\n",
        "print(\"t: Variable de tiempo.\")\n",
        "\n",
        "print(\"\\nPeriodicidad:\")\n",
        "print(\"El período fundamental de x1(t) es T1 = T / |n| (si n != 0).\")\n",
        "print(\"El período fundamental de x2(t) es T2 = T / |m| (si m != 0).\")\n",
        "print(\"Un período común para ambas señales es T_común = T / MCD(|n|, |m|) (si n != 0 y m != 0).\")\n",
        "\n",
        "print(\"\\nNaturaleza de las señales:\")\n",
        "print(\"Ambas señales son funciones exponenciales de valor complejo.\")\n",
        "print(\"Ambas señales son periódicas.\")"
      ],
      "execution_count": null,
      "outputs": []
    },
    {
      "cell_type": "markdown",
      "metadata": {
        "id": "3da60ebe"
      },
      "source": [
        "## Cálculo de la diferencia\n",
        "\n",
        "\n",
        "Calcular la diferencia entre las dos señales: x1(t) - x2(t).\n"
      ]
    },
    {
      "cell_type": "markdown",
      "metadata": {
        "id": "64020025"
      },
      "source": [
        "**Reasoning**:\n",
        "Write the expression for the difference between the two signals, substituting their definitions.\n",
        "\n"
      ]
    },
    {
      "cell_type": "code",
      "metadata": {
        "id": "0fd0ecb4"
      },
      "source": [
        "# Definir la diferencia entre las dos señales\n",
        "# x1(t) = A * exp(-j * n * w0 * t)\n",
        "# x2(t) = B * exp(j * m * w0 * t)\n",
        "# Diferencia = x1(t) - x2(t)\n",
        "difference_expression = \"x1(t) - x2(t) = A * exp(-j * n * w0 * t) - B * exp(j * m * w0 * t)\"\n",
        "\n",
        "print(\"La expresión para la diferencia entre las dos señales es:\")\n",
        "print(difference_expression)"
      ],
      "execution_count": null,
      "outputs": []
    },
    {
      "cell_type": "markdown",
      "metadata": {
        "id": "ee34dada"
      },
      "source": [
        "## Cálculo del cuadrado de la magnitud\n",
        "\n",
        "\n",
        "Calcular el cuadrado de la magnitud de la diferencia: |x1(t) - x2(t)|².\n"
      ]
    },
    {
      "cell_type": "markdown",
      "metadata": {
        "id": "179d53b4"
      },
      "source": [
        "**Reasoning**:\n",
        "Calculate the square of the magnitude of the difference expression by defining the difference, calculating its complex conjugate, multiplying them, and simplifying the resulting expression.\n",
        "\n"
      ]
    },
    {
      "cell_type": "code",
      "metadata": {
        "id": "50cb03fb"
      },
      "source": [
        "import sympy\n",
        "from sympy import symbols, exp, conjugate, I\n",
        "\n",
        "# Definir símbolos\n",
        "t, A, B, w0 = symbols('t A B w0', real=True, positive=True)\n",
        "n, m = symbols('n m', integer=True)\n",
        "\n",
        "# Definir la expresión de la diferencia\n",
        "difference = A * exp(-I * n * w0 * t) - B * exp(I * m * w0 * t)\n",
        "\n",
        "# Calcular el conjugado complejo de la diferencia\n",
        "conjugate_difference = conjugate(difference)\n",
        "\n",
        "# Calcular el cuadrado de la magnitud\n",
        "magnitude_squared = sympy.expand(difference * conjugate_difference)\n",
        "\n",
        "# Simplificar la expresión usando propiedades exponenciales\n",
        "# exp(jx) * exp(-jx) = 1\n",
        "# exp(jx) * exp(jy) = exp(j(x+y))\n",
        "# exp(jx) * exp(-jy) = exp(j(x-y))\n",
        "\n",
        "# La expresión expandida será:\n",
        "# (A * exp(-I * n * w0 * t) - B * exp(I * m * w0 * t)) * (A * exp(I * n * w0 * t) - B * exp(-I * m * w0 * t))\n",
        "# = A**2 * exp(-I * n * w0 * t) * exp(I * n * w0 * t)\n",
        "# - A * B * exp(-I * n * w0 * t) * exp(-I * m * w0 * t)\n",
        "# - B * A * exp(I * m * w0 * t) * exp(I * n * w0 * t)\n",
        "# + B**2 * exp(I * m * w0 * t) * exp(-I * m * w0 * t)\n",
        "# = A**2 * exp(0)\n",
        "# - A * B * exp(-I * (n + m) * w0 * t)\n",
        "# - A * B * exp(I * (m + n) * w0 * t)\n",
        "# + B**2 * exp(0)\n",
        "# = A**2 - A * B * (exp(-I * (n + m) * w0 * t) + exp(I * (n + m) * w0 * t)) + B**2\n",
        "\n",
        "# Usar la fórmula de Euler: cos(x) = (exp(jx) + exp(-jx)) / 2\n",
        "# Entonces, exp(jx) + exp(-jx) = 2 * cos(x)\n",
        "# Aquí x = (n + m) * w0 * t\n",
        "\n",
        "simplified_magnitude_squared = magnitude_squared.subs(exp(I * (n + m) * w0 * t) + exp(-I * (n + m) * w0 * t), 2 * sympy.cos((n + m) * w0 * t))\n",
        "\n",
        "# Imprimir la expresión simplificada\n",
        "print(\"El cuadrado de la magnitud de la diferencia |x1(t) - x2(t)|² es:\")\n",
        "print(simplified_magnitude_squared)"
      ],
      "execution_count": null,
      "outputs": []
    },
    {
      "cell_type": "markdown",
      "metadata": {
        "id": "12c74c5a"
      },
      "source": [
        "**Reasoning**:\n",
        "The previous attempt at simplification was not fully successful as the cosine term was not substituted. I will recalculate the square of the magnitude and use `sympy.simplify` or manually apply the exponential property and Euler's formula substitution to achieve the desired simplified form.\n",
        "\n"
      ]
    },
    {
      "cell_type": "code",
      "metadata": {
        "id": "5657354a"
      },
      "source": [
        "# Volver a calcular el cuadrado de la magnitud y simplificar\n",
        "\n",
        "# La expresión expandida fue:\n",
        "# A**2 - A * B * exp(-I * (n + m) * w0 * t) - A * B * exp(I * (m + n) * w0 * t) + B**2\n",
        "# = A**2 + B**2 - A * B * (exp(I * (n + m) * w0 * t) + exp(-I * (n + m) * w0 * t))\n",
        "\n",
        "# Usar la fórmula de Euler: cos(x) = (exp(jx) + exp(-jx)) / 2\n",
        "# Entonces, exp(jx) + exp(-jx) = 2 * cos(x)\n",
        "# Aquí x = (n + m) * w0 * t\n",
        "\n",
        "simplified_magnitude_squared_correct = A**2 + B**2 - A * B * (2 * sympy.cos((n + m) * w0 * t))\n",
        "\n",
        "# Imprimir la expresión simplificada\n",
        "print(\"El cuadrado simplificado de la magnitud de la diferencia |x1(t) - x2(t)|² es:\")\n",
        "print(simplified_magnitude_squared_correct)"
      ],
      "execution_count": null,
      "outputs": []
    },
    {
      "cell_type": "markdown",
      "metadata": {
        "id": "9eb39955"
      },
      "source": [
        "## Cálculo de la integral\n",
        "\n",
        "\n",
        "Calcular la integral del cuadrado de la magnitud sobre un período T.\n"
      ]
    },
    {
      "cell_type": "markdown",
      "metadata": {
        "id": "02da696a"
      },
      "source": [
        "**Reasoning**:\n",
        "I need to calculate the definite integral of the square of the magnitude of the difference over one period T. I will use sympy's integrate function for this. I also need to consider the two cases for n+m being zero or not.\n",
        "\n"
      ]
    },
    {
      "cell_type": "code",
      "metadata": {
        "id": "c3e5faf5"
      },
      "source": [
        "from sympy import integrate, symbols, cos, pi\n",
        "\n",
        "# Definir símbolos\n",
        "t, A, B, w0, T = symbols('t A B w0 T', real=True, positive=True)\n",
        "n, m = symbols('n m', integer=True)\n",
        "\n",
        "# Definir la expresión del cuadrado de la magnitud\n",
        "magnitude_squared_expr = A**2 + B**2 - 2 * A * B * cos((n + m) * w0 * t)\n",
        "\n",
        "# Definir w0 en términos de T para los límites de integración\n",
        "w0_def = 2 * pi / T\n",
        "\n",
        "# Sustituir w0 en la expresión\n",
        "magnitude_squared_expr_substituted = magnitude_squared_expr.subs(w0, w0_def)\n",
        "\n",
        "# Calcular la integral definida sobre un período [0, T]\n",
        "# Caso 1: n + m != 0\n",
        "# La integral de cos(k*t) sobre [0, T] es sin(k*T)/k - sin(0)/k = sin(k*T)/k\n",
        "# Si k = (n + m) * w0 = (n + m) * 2 * pi / T, entonces k*T = (n + m) * 2 * pi\n",
        "# sin((n + m) * 2 * pi) = 0 para n, m enteros.\n",
        "# Por lo tanto, la integral del término coseno es 0 cuando n + m != 0.\n",
        "integral_n_plus_m_not_zero = integrate(magnitude_squared_expr_substituted, (t, 0, T))\n",
        "\n",
        "# Caso 2: n + m = 0\n",
        "# El término coseno se convierte en cos(0 * w0 * t) = cos(0) = 1.\n",
        "magnitude_squared_n_plus_m_zero = A**2 + B**2 - 2 * A * B * 1\n",
        "integral_n_plus_m_zero = integrate(magnitude_squared_n_plus_m_zero, (t, 0, T))\n",
        "\n",
        "# Imprimir los resultados\n",
        "print(\"Integral de |x1(t) - x2(t)|^2 sobre [0, T]:\")\n",
        "print(f\"Caso n + m != 0: {integral_n_plus_m_not_zero}\")\n",
        "print(f\"Caso n + m = 0: {integral_n_plus_m_zero}\")"
      ],
      "execution_count": null,
      "outputs": []
    },
    {
      "cell_type": "markdown",
      "metadata": {
        "id": "054f7174"
      },
      "source": [
        "## Cálculo de la potencia media\n",
        "\n",
        "\n",
        "Calcular la potencia media de la diferencia dividiendo la integral por el período T.\n"
      ]
    },
    {
      "cell_type": "markdown",
      "metadata": {
        "id": "867a5401"
      },
      "source": [
        "**Reasoning**:\n",
        "Calculate the average power for both cases by dividing the integral results by T and print the results.\n",
        "\n"
      ]
    },
    {
      "cell_type": "code",
      "metadata": {
        "id": "d640a5cd"
      },
      "source": [
        "# Tomar los resultados de la subtarea anterior para la integral del cuadrado de la magnitud sobre un período T.\n",
        "# Caso n + m != 0: integral_n_plus_m_not_zero = A**2*T + B**2*T\n",
        "# Caso n + m = 0: integral_n_plus_m_zero = T*(A**2 - 2*A*B + B**2)\n",
        "\n",
        "# Para cada caso, dividir la integral calculada por T para encontrar la potencia media.\n",
        "\n",
        "# Caso 1: n + m != 0\n",
        "average_power_n_plus_m_not_zero = (A**2 * T + B**2 * T) / T\n",
        "\n",
        "# Caso 2: n + m = 0\n",
        "average_power_n_plus_m_zero = (T * (A**2 - 2 * A * B + B**2)) / T\n",
        "\n",
        "# Simplificar las expresiones\n",
        "average_power_n_plus_m_not_zero_simplified = average_power_n_plus_m_not_zero.simplify()\n",
        "average_power_n_plus_m_zero_simplified = average_power_n_plus_m_zero.simplify()\n",
        "\n",
        "# Imprimir las expresiones resultantes para la potencia media para ambos casos.\n",
        "print(\"Potencia media de la diferencia |x1(t) - x2(t)|^2 sobre [0, T]:\")\n",
        "print(f\"Caso n + m != 0: {average_power_n_plus_m_not_zero_simplified}\")\n",
        "print(f\"Caso n + m = 0: {average_power_n_plus_m_zero_simplified}\")"
      ],
      "execution_count": null,
      "outputs": []
    },
    {
      "cell_type": "markdown",
      "metadata": {
        "id": "760c7d69"
      },
      "source": [
        "## Distancia cuadrática media\n",
        "\n",
        "La distancia cuadrática media es igual a la potencia media de la diferencia.\n"
      ]
    },
    {
      "cell_type": "markdown",
      "metadata": {
        "id": "4e73d73d"
      },
      "source": [
        "**Reasoning**:\n",
        "State the relationship between mean squared distance and average power of the difference and present the final results obtained in the previous subtask for both cases (n+m != 0 and n+m = 0).\n",
        "\n"
      ]
    },
    {
      "cell_type": "code",
      "metadata": {
        "id": "c558982b"
      },
      "source": [
        "# Recordar los resultados de la potencia media calculada en la subtarea anterior:\n",
        "# Caso n + m != 0: Potencia Media = A**2 + B**2\n",
        "# Caso n + m = 0: Potencia Media = (A - B)**2\n",
        "\n",
        "# La distancia cuadrática media entre dos señales es igual a la potencia media de su diferencia.\n",
        "# Por lo tanto, la distancia cuadrática media |x1(t) - x2(t)|^2_media es igual a la potencia media calculada.\n",
        "\n",
        "print(\"La distancia cuadrática media entre dos señales es igual a la potencia media de su diferencia.\")\n",
        "print(\"\\nResultados de la distancia cuadrática media:\")\n",
        "print(f\"Caso n + m != 0: Distancia Cuadrática Media = A**2 + B**2\")\n",
        "print(f\"Caso n + m = 0: Distancia Cuadrática Media = (A - B)**2\")"
      ],
      "execution_count": null,
      "outputs": []
    },
    {
      "cell_type": "markdown",
      "metadata": {
        "id": "0e3f2226"
      },
      "source": [
        "## Implementación en python\n",
        "\n",
        "Utilizar Python para simular las señales y calcular numéricamente la distancia para verificar los resultados.\n"
      ]
    },
    {
      "cell_type": "markdown",
      "metadata": {
        "id": "4bbe3552"
      },
      "source": [
        "**Reasoning**:\n",
        "The subtask requires simulating the signals and calculating the mean squared distance numerically. This involves choosing specific parameter values, creating a time vector, evaluating the signals at these time points, calculating the squared magnitude of the difference, and finally numerically integrating or averaging over a period. I will perform these steps in a single code block for both the n+m != 0 and n+m = 0 cases.\n",
        "\n"
      ]
    },
    {
      "cell_type": "code",
      "metadata": {
        "id": "ad5ed8a0"
      },
      "source": [
        "import numpy as np\n",
        "import sympy\n",
        "from sympy import symbols, exp, I, cos, pi\n",
        "from numpy import trapz\n",
        "\n",
        "# 1. Definir variables simbólicas (ya hecho en pasos anteriores, pero es bueno tenerlas para contexto)\n",
        "t_sym, A_sym, B_sym, w0_sym, T_sym = symbols('t A B w0 T', real=True, positive=True)\n",
        "n_sym, m_sym = symbols('n m', integer=True)\n",
        "\n",
        "# Definir expresiones simbólicas para las señales (ya hecho)\n",
        "x1_sym = A_sym * exp(-I * n_sym * w0_sym * t_sym)\n",
        "x2_sym = B_sym * exp(I * m_sym * w0_sym * t_sym)\n",
        "\n",
        "# Definir w0 en términos de T\n",
        "w0_sym_def = 2 * pi / T_sym\n",
        "\n",
        "# Definir el cuadrado de la magnitud de la diferencia (ya hecho)\n",
        "magnitude_squared_sym = A_sym**2 + B_sym**2 - 2 * A_sym * B_sym * cos((n_sym + m_sym) * w0_sym * t_sym)\n",
        "\n",
        "print(\"Simulando señales y calculando la distancia cuadrática media numérica:\")\n",
        "\n",
        "# Caso 1: n + m != 0\n",
        "print(\"\\n--- Caso: n + m != 0 ---\")\n",
        "\n",
        "# 4. Elegir valores numéricos específicos para los parámetros (n + m != 0)\n",
        "A_val_case1 = 2.0\n",
        "B_val_case1 = 3.0\n",
        "T_val_case1 = 1.0\n",
        "n_val_case1 = 1\n",
        "m_val_case1 = 2  # n + m = 3 != 0\n",
        "\n",
        "print(f\"Parámetros usados: A={A_val_case1}, B={B_val_case1}, T={T_val_case1}, n={n_val_case1}, m={m_val_case1}\")\n",
        "\n",
        "# 5. Sustituir valores numéricos en expresiones simbólicas para obtener funciones numéricas\n",
        "# Para la evaluación numérica, es más fácil trabajar directamente con numpy después de definir los parámetros.\n",
        "w0_val_case1 = 2 * np.pi / T_val_case1\n",
        "\n",
        "# 6. Crear un vector de tiempo numérico\n",
        "num_points = 1000 # Número de puntos para la simulación\n",
        "t_values_case1 = np.linspace(0, T_val_case1, num_points, endpoint=False) # Simular sobre un período\n",
        "\n",
        "# 7. Evaluar las funciones numéricas de x1 y x2\n",
        "x1_num_case1 = A_val_case1 * np.exp(-1j * n_val_case1 * w0_val_case1 * t_values_case1)\n",
        "x2_num_case1 = B_val_case1 * np.exp(1j * m_val_case1 * w0_val_case1 * t_values_case1)\n",
        "\n",
        "# 8. Calcular la diferencia numérica\n",
        "difference_num_case1 = x1_num_case1 - x2_num_case1\n",
        "\n",
        "# 9. Calcular el cuadrado de la magnitud del array de la diferencia numérica\n",
        "squared_magnitude_num_case1 = np.abs(difference_num_case1)**2\n",
        "# Alternativa usando conjugado: squared_magnitude_num_case1_alt = np.real(difference_num_case1 * np.conjugate(difference_num_case1))\n",
        "# np.allclose(squared_magnitude_num_case1, squared_magnitude_num_case1_alt) # Verificar si son cercanos\n",
        "\n",
        "# 10. Integrar numéricamente o calcular la media sobre el período T\n",
        "# Usando el enfoque de la media para señales periódicas sobre un período completo\n",
        "mean_squared_difference_num_case1 = np.mean(squared_magnitude_num_case1)\n",
        "\n",
        "# 11. La distancia cuadrática media calculada numéricamente\n",
        "numerical_msd_case1 = mean_squared_difference_num_case1\n",
        "\n",
        "# 12. Imprimir los resultados numéricos\n",
        "print(f\"Distancia cuadrática media calculada numéricamente (n + m != 0): {numerical_msd_case1}\")\n",
        "# Comparar con el resultado analítico para n + m != 0: A**2 + B**2\n",
        "analytical_msd_case1 = A_val_case1**2 + B_val_case1**2\n",
        "print(f\"Distancia cuadrática media analítica (n + m != 0): {analytical_msd_case1}\")\n",
        "print(f\"Diferencia (Numérica - Analítica): {numerical_msd_case1 - analytical_msd_case1}\")\n",
        "\n",
        "\n",
        "# Caso 2: n + m = 0\n",
        "print(\"\\n--- Caso: n + m = 0 ---\")\n",
        "\n",
        "# 4. Elegir valores numéricos específicos para los parámetros (n + m = 0)\n",
        "A_val_case2 = 4.0\n",
        "B_val_case2 = 2.0\n",
        "T_val_case2 = 1.5\n",
        "n_val_case2 = 2\n",
        "m_val_case2 = -2 # n + m = 0\n",
        "\n",
        "print(f\"Parámetros usados: A={A_val_case2}, B={B_val_case2}, T={T_val_case2}, n={n_val_case2}, m={m_val_case2}\")\n",
        "\n",
        "# 5. Sustituir valores numéricos en expresiones simbólicas para obtener funciones numéricas\n",
        "w0_val_case2 = 2 * np.pi / T_val_case2\n",
        "\n",
        "# 6. Crear un vector de tiempo numérico\n",
        "t_values_case2 = np.linspace(0, T_val_case2, num_points, endpoint=False) # Simular sobre un período\n",
        "\n",
        "# 7. Evaluar las funciones numéricas de x1 y x2\n",
        "x1_num_case2 = A_val_case2 * np.exp(-1j * n_val_case2 * w0_val_case2 * t_values_case2)\n",
        "x2_num_case2 = B_val_case2 * np.exp(1j * m_val_case2 * w0_val_case2 * t_values_case2)\n",
        "\n",
        "# 8. Calcular la diferencia numérica\n",
        "difference_num_case2 = x1_num_case2 - x2_num_case2\n",
        "\n",
        "# 9. Calcular el cuadrado de la magnitud del array de la diferencia numérica\n",
        "squared_magnitude_num_case2 = np.abs(difference_num_case2)**2\n",
        "\n",
        "# 10. Integrar numéricamente o calcular la media sobre el período T\n",
        "mean_squared_difference_num_case2 = np.mean(squared_magnitude_num_case2)\n",
        "\n",
        "# 11. La distancia cuadrática media calculada numéricamente\n",
        "numerical_msd_case2 = mean_squared_difference_num_case2\n",
        "\n",
        "# 12. Imprimir los resultados numéricos\n",
        "print(f\"Distancia cuadrática media calculada numéricamente (n + m = 0): {numerical_msd_case2}\")\n",
        "# Comparar con el resultado analítico para n + m = 0: (A - B)**2\n",
        "analytical_msd_case2 = (A_val_case2 - B_val_case2)**2\n",
        "print(f\"Distancia cuadrática media analítica (n + m = 0): {analytical_msd_case2}\")\n",
        "print(f\"Diferencia (Numérica - Analítica): {numerical_msd_case2 - analytical_msd_case2}\")"
      ],
      "execution_count": null,
      "outputs": []
    },
    {
      "cell_type": "markdown",
      "metadata": {
        "id": "0288de80"
      },
      "source": [
        "## Verificación de resultados\n",
        "\n",
        "Comparar el resultado analítico con el resultado numérico obtenido en Python.\n"
      ]
    },
    {
      "cell_type": "markdown",
      "metadata": {
        "id": "592f14ac"
      },
      "source": [
        "**Reasoning**:\n",
        "Compare the numerical and analytical results for both cases using a tolerance for floating-point comparison and print the comparison results.\n",
        "\n"
      ]
    },
    {
      "cell_type": "code",
      "metadata": {
        "id": "b30d35df"
      },
      "source": [
        "import numpy as np\n",
        "\n",
        "# Comparar Caso 1: n + m != 0\n",
        "tolerance = 1e-9\n",
        "are_close_case1 = np.isclose(numerical_msd_case1, analytical_msd_case1, atol=tolerance)\n",
        "difference_case1 = numerical_msd_case1 - analytical_msd_case1\n",
        "\n",
        "print(\"Comparación para el Caso 1 (n + m != 0):\")\n",
        "print(f\"DCM Numérica: {numerical_msd_case1}\")\n",
        "print(f\"DCM Analítica: {analytical_msd_case1}\")\n",
        "print(f\"¿Los resultados son cercanos? {are_close_case1}\")\n",
        "print(f\"Diferencia: {difference_case1}\")\n",
        "\n",
        "# Comparar Caso 2: n + m = 0\n",
        "are_close_case2 = np.isclose(numerical_msd_case2, analytical_msd_case2, atol=tolerance)\n",
        "difference_case2 = numerical_msd_case2 - analytical_msd_case2\n",
        "\n",
        "print(\"\\nComparación para el Caso 2 (n + m = 0):\")\n",
        "print(f\"DCM Numérica: {numerical_msd_case2}\")\n",
        "print(f\"DCM Analítica: {analytical_msd_case2}\")\n",
        "print(f\"¿Los resultados son cercanos? {are_close_case2}\")\n",
        "print(f\"Diferencia: {difference_case2}\")"
      ],
      "execution_count": null,
      "outputs": []
    },
    {
      "cell_type": "markdown",
      "metadata": {
        "id": "bbb286d4"
      },
      "source": [
        "## Summary:\n",
        "\n",
        "### Data Analysis Key Findings\n",
        "\n",
        "*   The fundamental period of the signal $x_1(t) = Ae^{-jn\\omega_0t}$ is $T/|n|$ (for $n \\neq 0$), and the fundamental period of $x_2(t) = Be^{jm\\omega_0t}$ is $T/|m|$ (for $m \\neq 0$). A common period is $T/GCD(|n|, |m|)$.\n",
        "*   The difference between the two signals is $x_1(t) - x_2(t) = A e^{-jn\\omega_0 t} - B e^{jm\\omega_0 t}$.\n",
        "*   The square of the magnitude of the difference is $|x_1(t) - x_2(t)|^2 = A^2 + B^2 - 2AB\\cos((n + m)\\omega_0t)$.\n",
        "*   The integral of the square of the magnitude over one period $T$ is $A^2T + B^2T$ when $n + m \\neq 0$.\n",
        "*   The integral of the square of the magnitude over one period $T$ is $T(A^2 - 2AB + B^2)$ when $n + m = 0$.\n",
        "*   The mean squared distance (average power of the difference) is $A^2 + B^2$ when $n + m \\neq 0$.\n",
        "*   The mean squared distance (average power of the difference) is $(A - B)^2$ when $n + m = 0$.\n",
        "*   Numerical simulations in Python verified the analytical results, showing a difference of 0.0 between the numerical and analytical mean squared distances for specific parameter values in both the $n+m \\neq 0$ and $n+m = 0$ cases.\n",
        "\n",
        "### Insights or Next Steps\n",
        "\n",
        "*   The mean squared distance between the signals depends on whether the sum of the frequency indices ($n+m$) is zero or not. If $n+m \\neq 0$, the distance is the sum of the squared amplitudes; if $n+m = 0$, the distance is the squared difference of the amplitudes.\n",
        "*   Future work could involve exploring the mean squared distance between more complex periodic signals or signals with different types of non-periodic components.\n"
      ]
    },
    {
      "cell_type": "markdown",
      "metadata": {
        "id": "29532cf0"
      },
      "source": [
        "**Ejercicio 2:**\n",
        "\n",
        "Encuentre la señal en tiempo discreto al utilizar un conversor analogo digital con frecuencia de muestreo de 5kHz y 4 bits de capacidad de representación, aplicado a la señal continua: $x(t) = 3 \\cos(1000\\pi t) + 5 \\sin(3000\\pi t) + 10 \\cos(11000\\pi t)$. Realizar la simulación del proceso de discretización (incluyendo al menos tres periodos de $x(t)$). En caso de que la discretización no sea apropiada, diseñe e implemente un conversor adecuado para la señal estudiada."
      ]
    },
    {
      "cell_type": "markdown",
      "metadata": {
        "id": "a01ba0b4"
      },
      "source": [
        "## Análisis de la señal continua\n",
        "\n",
        "\n",
        "Identificar las frecuencias presentes en la señal continua $x(t)$ y determinar la frecuencia máxima.\n"
      ]
    },
    {
      "cell_type": "markdown",
      "metadata": {
        "id": "e2a5b1b2"
      },
      "source": [
        "**Reasoning**:\n",
        "I will identify the frequencies in the continuous signal $x(t)$, calculate them in Hertz, find the maximum frequency, and print the results.\n",
        "\n"
      ]
    },
    {
      "cell_type": "code",
      "metadata": {
        "id": "407faad9"
      },
      "source": [
        "import numpy as np\n",
        "\n",
        "# Definir la señal continua x(t)\n",
        "# x(t) = 3 * cos(1000*pi*t) + 5 * sin(3000*pi*t) + 10 * cos(11000*pi*t)\n",
        "\n",
        "# 1. Identificar las componentes y sus frecuencias angulares (omega)\n",
        "# Componente 1: 3 * cos(1000*pi*t)  => omega1 = 1000*pi\n",
        "# Componente 2: 5 * sin(3000*pi*t)  => omega2 = 3000*pi\n",
        "# Componente 3: 10 * cos(11000*pi*t) => omega3 = 11000*pi\n",
        "\n",
        "omega1 = 1000 * np.pi\n",
        "omega2 = 3000 * np.pi\n",
        "omega3 = 11000 * np.pi\n",
        "\n",
        "# 2. Convertir frecuencias angulares a frecuencias en Hertz (f = omega / (2*pi))\n",
        "f1 = omega1 / (2 * np.pi)\n",
        "f2 = omega2 / (2 * np.pi)\n",
        "f3 = omega3 / (2 * np.pi)\n",
        "\n",
        "# 3. Identificar la frecuencia máxima\n",
        "frequencies = [f1, f2, f3]\n",
        "max_frequency = max(frequencies)\n",
        "\n",
        "# 4. Imprimir las frecuencias y la frecuencia máxima\n",
        "print(\"Frecuencias presentes en la señal continua x(t):\")\n",
        "print(f\"Frecuencia 1 (de 3*cos(1000*pi*t)): {f1} Hz\")\n",
        "print(f\"Frecuencia 2 (de 5*sin(3000*pi*t)): {f2} Hz\")\n",
        "print(f\"Frecuencia 3 (de 10*cos(11000*pi*t)): {f3} Hz\")\n",
        "print(f\"\\nFrecuencia máxima de la señal continua: {max_frequency} Hz\")"
      ],
      "execution_count": null,
      "outputs": []
    },
    {
      "cell_type": "markdown",
      "metadata": {
        "id": "fc6e9b58"
      },
      "source": [
        "## Análisis del conversor a/d propuesto\n",
        "\n",
        "\n",
        "Evaluar la frecuencia de muestreo y la resolución del conversor analógico-digital propuesto.\n"
      ]
    },
    {
      "cell_type": "markdown",
      "metadata": {
        "id": "ae5ae7e6"
      },
      "source": [
        "**Reasoning**:\n",
        "I will extract the sampling frequency and number of bits from the problem description, calculate the number of quantization levels, and then print these values.\n",
        "\n"
      ]
    },
    {
      "cell_type": "code",
      "metadata": {
        "id": "7a31b8ea"
      },
      "source": [
        "# Ejercicio 2\n",
        "\n",
        "# 1. Identificar la frecuencia de muestreo (fs)\n",
        "# La descripción indica una frecuencia de muestreo de 5kHz.\n",
        "fs = 5000 # Hz\n",
        "\n",
        "# 2. Identificar el número de bits (N)\n",
        "# La descripción indica 4 bits de capacidad de representación.\n",
        "N = 4 # bits\n",
        "\n",
        "# 3. Calcular el número de niveles de cuantización (Q)\n",
        "# La fórmula es Q = 2^N.\n",
        "Q = 2**N\n",
        "\n",
        "# 4. Imprimir la frecuencia de muestreo, el número de bits y el número de niveles de cuantización.\n",
        "print(\"Evaluación del conversor Analógico-Digital propuesto:\")\n",
        "print(f\"Frecuencia de muestreo (fs): {fs} Hz\")\n",
        "print(f\"Número de bits (N): {N}\")\n",
        "print(f\"Número de niveles de cuantización (Q): {Q}\")"
      ],
      "execution_count": null,
      "outputs": []
    },
    {
      "cell_type": "markdown",
      "metadata": {
        "id": "d3a57627"
      },
      "source": [
        "## Aplicación del criterio de nyquist\n",
        "\n",
        "\n",
        "Comparar la frecuencia de muestreo con la frecuencia máxima de la señal continua para determinar si se cumple el criterio de Nyquist y si hay aliasing.\n"
      ]
    },
    {
      "cell_type": "markdown",
      "metadata": {
        "id": "ccaeaffc"
      },
      "source": [
        "**Reasoning**:\n",
        "I need to compare the maximum frequency of the continuous signal with the Nyquist frequency of the proposed ADC to check for aliasing.\n",
        "\n"
      ]
    },
    {
      "cell_type": "code",
      "metadata": {
        "id": "4f17628d"
      },
      "source": [
        "# 1. Recuperar la frecuencia máxima de la señal continua y la frecuencia de muestreo del conversor.\n",
        "# La frecuencia máxima de la señal continua fue calculada en la subtarea anterior y está almacenada en la variable `max_frequency`.\n",
        "# La frecuencia de muestreo del conversor fue identificada en la subtarea anterior y está almacenada en la variable `fs`.\n",
        "\n",
        "# 2. Calcular la frecuencia de Nyquist\n",
        "nyquist_frequency = fs / 2\n",
        "\n",
        "# 3. Comparar la frecuencia máxima de la señal con la frecuencia de Nyquist.\n",
        "print(\"Comparación de frecuencias para el criterio de Nyquist:\")\n",
        "print(f\"Frecuencia máxima de la señal (f_max): {max_frequency} Hz\")\n",
        "print(f\"Frecuencia de muestreo (fs): {fs} Hz\")\n",
        "print(f\"Frecuencia de Nyquist (fs/2): {nyquist_frequency} Hz\")\n",
        "\n",
        "# 4. Determinar si se cumple el criterio de Nyquist y si es probable que ocurra aliasing.\n",
        "# El criterio de Nyquist se cumple si fs > 2 * f_max, o equivalentemente, si fs/2 >= f_max.\n",
        "# Si fs/2 < f_max, ocurrirá aliasing.\n",
        "\n",
        "if nyquist_frequency >= max_frequency:\n",
        "    print(\"\\nSe cumple el criterio de Nyquist (fs/2 >= f_max). No se espera aliasing.\")\n",
        "    nyquist_criterion_met = True\n",
        "    aliasing_expected = False\n",
        "else:\n",
        "    print(\"\\nNO se cumple el criterio de Nyquist (fs/2 < f_max). Se espera aliasing.\")\n",
        "    nyquist_criterion_met = False\n",
        "    aliasing_expected = True\n",
        "\n",
        "# 5. Imprimir los resultados de la comparación (ya hecho en los pasos anteriores)."
      ],
      "execution_count": null,
      "outputs": []
    },
    {
      "cell_type": "markdown",
      "metadata": {
        "id": "43899d77"
      },
      "source": [
        "## Simulación del muestreo\n",
        "\n",
        "\n",
        "Simular el proceso de muestreo de la señal continua $x(t)$ con la frecuencia de muestreo dada para obtener la señal discreta $x[n]$. Visualizar la señal continua y los puntos muestreados.\n"
      ]
    },
    {
      "cell_type": "markdown",
      "metadata": {
        "id": "f4df83b7"
      },
      "source": [
        "**Reasoning**:\n",
        "I need to simulate the sampling process of the continuous signal, which involves defining the continuous signal function, creating time vectors for continuous visualization and discrete sampling, evaluating the signal at these time points, and then plotting both the continuous signal and the sampled points.\n",
        "\n"
      ]
    },
    {
      "cell_type": "code",
      "metadata": {
        "id": "e26f5250"
      },
      "source": [
        "import numpy as np\n",
        "import matplotlib.pyplot as plt\n",
        "\n",
        "# Ejercicio 2\n",
        "\n",
        "# Definir la función Python para la señal continua x(t)\n",
        "def x_t(t):\n",
        "    return 3 * np.cos(1000 * np.pi * t) + 5 * np.sin(3000 * np.pi * t) + 10 * np.cos(11000 * np.pi * t)\n",
        "\n",
        "# Parámetros de la señal (obtenidos de subtareas anteriores)\n",
        "# Frecuencias en Hz: f1=500, f2=1500, f3=5500\n",
        "# Frecuencia más baja: f_min = 500 Hz\n",
        "# Período de la frecuencia más baja: T_min = 1 / f_min = 1 / 500 = 0.002 segundos\n",
        "\n",
        "# Crear un vector de tiempo continuo para la visualización\n",
        "# Cubrir al menos tres períodos de la señal con la frecuencia más baja\n",
        "T_min = 1 / 500.0  # Período de la frecuencia más baja\n",
        "num_periods_to_plot = 3\n",
        "t_continuous_end = num_periods_to_plot * T_min\n",
        "t_continuous = np.linspace(0, t_continuous_end, 5000) # Más puntos para una visualización suave\n",
        "\n",
        "# Evaluar la función x(t) en el vector de tiempo continuo\n",
        "x_continuous = x_t(t_continuous)\n",
        "\n",
        "# Frecuencia de muestreo (obtenida de subtareas anteriores)\n",
        "fs = 5000  # Hz\n",
        "Ts = 1 / fs # Período de muestreo\n",
        "\n",
        "# Crear un vector de tiempo discreto para el muestreo\n",
        "# Asegurarse de que este vector cubra el mismo rango de tiempo que el vector continuo.\n",
        "# Los puntos de muestreo ocurren en 0, Ts, 2*Ts, 3*Ts, ...\n",
        "n_samples = int(t_continuous_end / Ts) + 1\n",
        "t_discrete = np.linspace(0, t_continuous_end, n_samples, endpoint=True)\n",
        "\n",
        "\n",
        "# Evaluar la función x(t) en el vector de tiempo discreto para obtener x[n]\n",
        "x_discrete = x_t(t_discrete)\n",
        "\n",
        "# Visualizar la señal continua y los puntos muestreados\n",
        "plt.figure(figsize=(12, 6))\n",
        "plt.plot(t_continuous, x_continuous, label='Señal Continua $x(t)$')\n",
        "plt.stem(t_discrete, x_discrete, linefmt='C1-', markerfmt='C1o', basefmt='C0-', label='Puntos Muestreados $x[n]$') # Removed use_line_collection\n",
        "plt.title('Simulación del Proceso de Muestreo')\n",
        "plt.xlabel('Tiempo (s)')\n",
        "plt.ylabel('Amplitud')\n",
        "plt.legend()\n",
        "plt.grid(True)\n",
        "plt.show()"
      ],
      "execution_count": null,
      "outputs": []
    },
    {
      "cell_type": "markdown",
      "metadata": {
        "id": "ee687b45"
      },
      "source": [
        "## Resumen:\n",
        "\n",
        "### Hallazgos Clave del Análisis de Datos\n",
        "\n",
        "* La señal continua $x(t)$ contiene frecuencias de 500 Hz, 1500 Hz y 5500 Hz. La frecuencia máxima es de 5500 Hz.\n",
        "* El conversor Analógico-Digital (A/D) propuesto inicialmente tiene una frecuencia de muestreo ($f_s$) de 5000 Hz y una resolución de 4 bits.\n",
        "* Con $f_s = 5000$ Hz, la frecuencia de Nyquist ($f_s/2$) es de 2500 Hz. Esto es menor que la frecuencia máxima de la señal (5500 Hz), lo que indica que no se cumple el criterio de Nyquist y se espera aliasing.\n",
        "* La resolución de 4 bits proporciona $2^4 = 16$ niveles de cuantización.\n",
        "* El rango de la señal muestreada es de aproximadamente 30.545. Esto resulta en un tamaño de paso de cuantización ($\\Delta$) de aproximadamente 1.909 (30.545 / 16). Este tamaño de paso es relativamente grande en comparación con las amplitudes de las componentes de la señal (3, 5, 10), lo que introduce un error de cuantización notable.\n",
        "* Debido al aliasing y a la cuantización relativamente gruesa, la discretización inicial utilizando el conversor de 5 kHz y 4 bits no es apropiada para representar fielmente la señal original.\n",
        "* Se diseñó un conversor A/D adecuado con una nueva frecuencia de muestreo ($f_{s\\_nuevo}$) de 12000 Hz (seleccionada para ser $> 2 \\times 5500$ Hz) y una resolución de 8 bits ($N_{nuevo}$).\n",
        "* La resolución de 8 bits proporciona $2^8 = 256$ niveles de cuantización.\n",
        "* El rango de la señal muestreada a 12000 Hz es de aproximadamente 32.517. Esto resulta en un nuevo tamaño de paso de cuantización ($\\Delta_{nuevo}$) de aproximadamente 0.127, que es aproximadamente 15 veces más pequeño que el $\\Delta$ original, reduciendo significativamente el error de cuantización.\n",
        "* La simulación del proceso de discretización con el conversor diseñado (12000 Hz, 8 bits) muestra que los puntos discretos siguen de cerca la señal continua, lo que indica una fidelidad mejorada en comparación con el intento inicial.\n",
        "\n",
        "### Ideas o Próximos Pasos\n",
        "\n",
        "* El proceso de diseño resalta claramente las compensaciones entre la frecuencia de muestreo (aliasing) y la profundidad de bits (error de cuantización) en la selección de un conversor A/D. Cumplir el criterio de Nyquist es crucial para evitar la pérdida irreversible de datos por aliasing.\n",
        "* Para trabajos futuros, se podría analizar el contenido espectral de la señal discreta obtenida de ambos conversores (el inapropiado y el diseñado) para mostrar cuantitativamente los efectos del aliasing y la mejora en la resolución."
      ]
    },
    {
      "cell_type": "markdown",
      "metadata": {
        "id": "9453d5bf"
      },
      "source": [
        "## Implementación del conversor adecuado (si es necesario)\n",
        "\n",
        "Implementar la simulación del proceso de discretización con el conversor diseñado."
      ]
    },
    {
      "cell_type": "markdown",
      "metadata": {
        "id": "0cc1efea"
      },
      "source": [
        "**Reasoning**:\n",
        "I need to implement the simulation of the discretization process using the newly designed converter. This involves evaluating the original continuous signal at the new sampling points, determining the new quantization levels based on the new number of bits and the signal range, and then quantizing the sampled signal. I will also generate the necessary time vectors for plotting."
      ]
    },
    {
      "cell_type": "code",
      "metadata": {
        "id": "90834c79"
      },
      "source": [
        "import numpy as np\n",
        "import matplotlib.pyplot as plt\n",
        "\n",
        "# 1. Definir la señal continua original x(t) como una función de tiempo.\n",
        "# La señal original es x(t) = 3*cos(1000*pi*t) + 5*sin(3000*pi*t) + 10*cos(11000*pi*t)\n",
        "def x_continuous_func(t):\n",
        "    return 3 * np.cos(1000 * np.pi * t) + 5 * np.sin(3000 * np.pi * t) + 10 * np.cos(11000 * np.pi * t)\n",
        "\n",
        "# Recuperar la frecuencia máxima de la señal para determinar el período (ya calculado)\n",
        "# max_frequency = 5500 Hz\n",
        "# Período fundamental común T_signal = 1 / GCD(500, 1500, 5500) - Esto es complejo.\n",
        "# Un enfoque más simple para la visualización es usar un período basado en la frecuencia fundamental más baja o un tiempo que cubra múltiplos de los períodos.\n",
        "# Las frecuencias son 500 Hz, 1500 Hz, 5500 Hz.\n",
        "# Períodos: 1/500, 1/1500, 1/5500.\n",
        "# Período común: LCM(1/500, 1/1500, 1/5500) = LCM(1, 1, 1) / GCD(500, 1500, 5500) * T_unit.\n",
        "# GCD(500, 1500, 5500) = GCD(500, 1500, 5500) = 500.\n",
        "# Período fundamental común T_fundamental = 1 / 500 Hz = 0.002 segundos.\n",
        "T_fundamental = 1 / 500\n",
        "\n",
        "# 2. Crear un vector de tiempo continuo (t_continuous) para visualizar la señal original en al menos tres períodos.\n",
        "num_periods_to_plot = 3\n",
        "t_continuous_end = num_periods_to_plot * T_fundamental\n",
        "num_points_continuous = 1000 * num_periods_to_plot # Alta resolución para visualización\n",
        "t_continuous = np.linspace(0, t_continuous_end, num_points_continuous)\n",
        "\n",
        "# 3. Evaluar la señal continua en los puntos del vector de tiempo continuo.\n",
        "x_continuous = x_continuous_func(t_continuous)\n",
        "\n",
        "# Recuperar los parámetros del conversor diseñado (calculados en la subtarea anterior)\n",
        "# Definir los parámetros del conversor diseñado (tomados de la subtarea de diseño)\n",
        "# Asegúrate de que estas variables estén definidas antes de usarlas.\n",
        "max_frequency = 5500 # Hz # Recuperado de subtareas anteriores\n",
        "nyquist_minimum_fs = 2 * max_frequency\n",
        "fs_nuevo = nyquist_minimum_fs * 1.20 # Hz # Aumentar en un 20% como ejemplo\n",
        "N_nuevo = 8 # bits\n",
        "Q_nuevo = 2**N_nuevo # Número de niveles de cuantización\n",
        "\n",
        "# 4. Crear un vector de tiempo discreto (t_discrete_nuevo) utilizando la nueva frecuencia de muestreo (fs_nuevo) sobre el mismo rango de tiempo.\n",
        "# El rango de tiempo ya está definido por t_continuous_end.\n",
        "# El número de puntos de muestreo será fs_nuevo * duración.\n",
        "num_samples_nuevo = int(fs_nuevo * t_continuous_end)\n",
        "t_discrete_nuevo = np.linspace(0, t_continuous_end, num_samples_nuevo, endpoint=False) # No incluir el último punto si es el inicio del siguiente período\n",
        "\n",
        "# 5. Evaluar la señal continua en los puntos del nuevo vector de tiempo discreto para obtener la señal muestreada (x_discrete_nuevo).\n",
        "x_discrete_nuevo = x_continuous_func(t_discrete_nuevo)\n",
        "\n",
        "# 6. Determinar el rango de valores de x_discrete_nuevo.\n",
        "min_val_nuevo = np.min(x_discrete_nuevo)\n",
        "max_val_nuevo = np.max(x_discrete_nuevo)\n",
        "signal_range_nuevo = max_val_nuevo - min_val_nuevo\n",
        "\n",
        "print(f\"Rango de la señal muestreada con el nuevo conversor (min, max): ({min_val_nuevo:.4f}, {max_val_nuevo:.4f})\")\n",
        "print(f\"Rango de amplitud de la señal muestreada con el nuevo conversor: {signal_range_nuevo:.4f}\")\n",
        "\n",
        "# 7. Calcular el nuevo tamaño del paso de cuantización (delta_nuevo) y los nuevos niveles de cuantización (quantization_levels_nuevo).\n",
        "delta_nuevo = signal_range_nuevo / Q_nuevo\n",
        "\n",
        "# Los niveles de cuantización son los puntos medios de cada intervalo.\n",
        "quantization_levels_nuevo = min_val_nuevo + (np.arange(Q_nuevo) + 0.5) * delta_nuevo\n",
        "\n",
        "print(f\"Número de bits del nuevo conversor (N_nuevo): {N_nuevo}\")\n",
        "print(f\"Número de niveles de cuantización del nuevo conversor (Q_nuevo): {Q_nuevo}\")\n",
        "print(f\"Nuevo tamaño del paso de cuantización (delta_nuevo): {delta_nuevo:.6f}\")\n",
        "\n",
        "\n",
        "# 8. Cuantizar los valores de x_discrete_nuevo a los quantization_levels_nuevo más cercanos.\n",
        "# Escalar y redondear\n",
        "scaled_x_discrete_nuevo = (x_discrete_nuevo - min_val_nuevo) / delta_nuevo\n",
        "rounded_indices_nuevo = np.round(scaled_x_discrete_nuevo - 0.5).astype(int)\n",
        "clamped_indices_nuevo = np.clip(rounded_indices_nuevo, 0, Q_nuevo - 1)\n",
        "\n",
        "# Mapear los índices a los niveles de cuantización\n",
        "x_quantized_nuevo = quantization_levels_nuevo[clamped_indices_nuevo]\n",
        "\n",
        "# 9. Graficar la señal continua original y superponer los puntos de la señal discreta cuantizada obtenida con el nuevo conversor.\n",
        "plt.figure(figsize=(14, 7))\n",
        "plt.plot(t_continuous, x_continuous, label='Señal Continua $x(t)$', alpha=0.7)\n",
        "plt.stem(t_discrete_nuevo, x_quantized_nuevo, linefmt='C1-', markerfmt='C1o', basefmt='C0-', label='Señal Discreta Cuantizada (Nuevo Conversor)')\n",
        "\n",
        "# 10. Añadir título, etiquetas de ejes, leyenda y cuadrícula.\n",
        "plt.title('Simulación del Proceso de Discretización con Conversor Diseñado')\n",
        "plt.xlabel('Tiempo (s)')\n",
        "plt.ylabel('Amplitud')\n",
        "plt.legend()\n",
        "plt.grid(True)\n",
        "\n",
        "# 11. Mostrar el gráfico.\n",
        "plt.show()"
      ],
      "execution_count": null,
      "outputs": []
    },
    {
      "cell_type": "markdown",
      "metadata": {
        "id": "4f9d008b"
      },
      "source": [
        "## Diseño de un conversor adecuado (si es necesario)\n",
        "\n",
        "Si la discretización no es apropiada, diseñar un conversor A/D con una frecuencia de muestreo y número de bits adecuados para la señal $x(t)$."
      ]
    },
    {
      "cell_type": "markdown",
      "metadata": {
        "id": "683a5eed"
      },
      "source": [
        "**Reasoning**:\n",
        "Based on the evaluation in the previous subtask, the discretization was not appropriate due to aliasing (Nyquist criterion not met) and relatively coarse quantization. I need to design a new ADC by determining an appropriate sampling frequency and number of bits, calculate the new number of quantization levels and step size, and print these new parameters."
      ]
    },
    {
      "cell_type": "code",
      "metadata": {
        "id": "fe2ac8e7"
      },
      "source": [
        "import numpy as np\n",
        "\n",
        "# 1. Evaluar el resultado de la subtarea anterior (\"Evaluación de la discretización\")\n",
        "# La evaluación previa concluyó que la discretización NO es apropiada.\n",
        "# Esto se basó en que nyquist_frequency < max_frequency y delta era relativamente grande.\n",
        "\n",
        "# Recuperar la frecuencia máxima de la señal continua\n",
        "# max_frequency = 5500 Hz (obtenido de una subtarea anterior)\n",
        "\n",
        "print(\"Diseñando un conversor A/D adecuado:\")\n",
        "\n",
        "# 2. Si la discretización no fue apropiada (que es el caso):\n",
        "\n",
        "# Determinar una frecuencia de muestreo (fs_nuevo) que cumpla estrictamente el criterio de Nyquist\n",
        "# Criterio: fs_nuevo > 2 * f_max\n",
        "nyquist_minimum_fs = 2 * max_frequency\n",
        "\n",
        "# Elegir un valor razonable por encima del mínimo requerido. Por ejemplo, 20% más alto o el siguiente valor estándar común.\n",
        "# Vamos a elegir un valor 20% mayor como ejemplo.\n",
        "fs_nuevo = nyquist_minimum_fs * 1.20 # Aumentar en un 20%\n",
        "\n",
        "print(\"\\n--- Diseño de la Frecuencia de Muestreo ---\")\n",
        "print(f\"Frecuencia máxima de la señal (f_max): {max_frequency} Hz\")\n",
        "print(f\"Frecuencia mínima de muestreo requerida por Nyquist (> 2*f_max): > {nyquist_minimum_fs} Hz\")\n",
        "print(f\"Nueva frecuencia de muestreo seleccionada (fs_nuevo): {fs_nuevo:.2f} Hz\")\n",
        "\n",
        "\n",
        "# Determinar un número de bits (N_nuevo) que proporcione una cuantización más fina.\n",
        "# El conversor anterior usó N = 4 bits (Q = 16 niveles). Delta era ~1.91.\n",
        "# El rango de la señal era ~30.545.\n",
        "# Un delta más pequeño es deseable.\n",
        "# Considerar 8 bits, que es común para mejor fidelidad.\n",
        "\n",
        "N_nuevo = 8 # bits\n",
        "\n",
        "# Calcular el nuevo número de niveles de cuantización correspondiente (Q_nuevo)\n",
        "Q_nuevo = 2**N_nuevo\n",
        "\n",
        "# Calcular el tamaño del paso de cuantización del conversor inicial (delta_anterior)\n",
        "# Recuperar las variables relevantes de las subtareas anteriores\n",
        "# signal_range y Q están definidos en subtareas anteriores.\n",
        "# Recalcular signal_range y delta_anterior\n",
        "min_val = np.min(x_discrete)\n",
        "max_val = np.max(x_discrete)\n",
        "signal_range = max_val - min_val\n",
        "delta_anterior = signal_range / Q\n",
        "\n",
        "# Calcular el nuevo tamaño del paso de cuantización (delta_nuevo) para la nueva resolución.\n",
        "# Necesitamos el rango de la señal para calcular delta_nuevo. El rango ya está en `signal_range`.\n",
        "delta_nuevo = signal_range / Q_nuevo\n",
        "\n",
        "\n",
        "print(\"\\n--- Diseño de la Cuantización ---\")\n",
        "print(f\"Número de bits anterior (N): {N}\")\n",
        "print(f\"Número de bits nuevo seleccionado (N_nuevo): {N_nuevo}\")\n",
        "print(f\"Número de niveles anterior (Q): {Q}\")\n",
        "print(f\"Nuevo número de niveles de cuantización (Q_nuevo): {Q_nuevo}\")\n",
        "print(f\"Rango de amplitud de la señal: {signal_range:.4f}\")\n",
        "print(f\"Tamaño del paso de cuantización anterior (delta): {delta_anterior:.4f}\")\n",
        "print(f\"Nuevo tamaño del paso de cuantización (delta_nuevo): {delta_nuevo:.4f}\")\n",
        "print(f\"Reducción en el paso de cuantización: {delta_anterior / delta_nuevo:.2f} veces más pequeño\")\n",
        "\n",
        "\n",
        "# Imprimir los parámetros del conversor diseñado\n",
        "print(\"\\n--- Parámetros del Conversor A/D Diseñado ---\")\n",
        "print(f\"Frecuencia de muestreo (fs_nuevo): {fs_nuevo:.2f} Hz\")\n",
        "print(f\"Número de bits (N_nuevo): {N_nuevo}\")\n",
        "print(f\"Número de niveles de cuantización (Q_nuevo): {Q_nuevo}\")\n",
        "\n",
        "# 3. Si la discretización hubiera sido apropiada (no aplicable en este caso)\n",
        "# print(\"La discretización anterior fue considerada apropiada. No es necesario diseñar un nuevo conversor.\")"
      ],
      "execution_count": null,
      "outputs": []
    },
    {
      "cell_type": "markdown",
      "metadata": {
        "id": "6d8d8387"
      },
      "source": [
        "## Evaluación de la discretización\n",
        "\n",
        "Analizar si la discretización realizada es apropiada basándose en el criterio de Nyquist y la cuantización."
      ]
    },
    {
      "cell_type": "markdown",
      "metadata": {
        "id": "5fb56da0"
      },
      "source": [
        "**Reasoning**:\n",
        "I need to evaluate the appropriateness of the discretization based on the Nyquist criterion and quantization. This involves checking if aliasing occurred based on the previous Nyquist analysis, assessing the impact of the quantization step size based on the number of bits, and concluding whether the overall discretization is appropriate."
      ]
    },
    {
      "cell_type": "code",
      "metadata": {
        "id": "4a623da4"
      },
      "source": [
        "import numpy as np\n",
        "\n",
        "# 1. Evaluar el cumplimiento del criterio de Nyquist (resultado de la subtarea \"Aplicación del criterio de nyquist\")\n",
        "# Recuperar las variables relevantes de las subtareas anteriores\n",
        "# fs (frecuencia de muestreo), max_frequency (frecuencia máxima de la señal)\n",
        "# nyquist_frequency = fs / 2\n",
        "\n",
        "print(\"Análisis de la Discretización:\")\n",
        "\n",
        "print(\"\\n--- Criterio de Nyquist (Aliasing) ---\")\n",
        "print(f\"Frecuencia máxima de la señal continua (f_max): {max_frequency} Hz\")\n",
        "print(f\"Frecuencia de muestreo del conversor propuesto (fs): {fs} Hz\")\n",
        "print(f\"Frecuencia de Nyquist (fs/2): {nyquist_frequency} Hz\")\n",
        "\n",
        "if nyquist_frequency >= max_frequency:\n",
        "    print(\"Conclusión sobre Aliasing: Se cumple el criterio de Nyquist (fs/2 >= f_max). No se espera aliasing.\")\n",
        "    aliasing_implication = \"No se espera pérdida de información debido a aliasing.\"\n",
        "else:\n",
        "    print(\"Conclusión sobre Aliasing: NO se cumple el criterio de Nyquist (fs/2 < f_max). Se espera aliasing.\")\n",
        "    aliasing_implication = \"Hay una pérdida significativa de información y distorsión debido al aliasing, ya que las componentes de alta frecuencia de la señal original se 'pliegan' y aparecen como frecuencias más bajas en la señal discreta.\"\n",
        "\n",
        "print(f\"Implicación del aliasing: {aliasing_implication}\")\n",
        "\n",
        "# 2. Evaluar la cuantización (resultado de la subtarea \"Simulación de la cuantización\")\n",
        "# Recuperar las variables relevantes de las subtareas anteriores\n",
        "# N (número de bits), Q (número de niveles), delta (tamaño del paso de cuantización)\n",
        "# signal_range (rango de amplitud de la señal muestreada)\n",
        "\n",
        "# Recalcular signal_range y delta\n",
        "min_val = np.min(x_discrete)\n",
        "max_val = np.max(x_discrete)\n",
        "signal_range = max_val - min_val\n",
        "delta = signal_range / Q\n",
        "\n",
        "print(\"\\n--- Cuantización ---\")\n",
        "print(f\"Número de bits del conversor (N): {N}\")\n",
        "print(f\"Número de niveles de cuantización (Q): {Q}\")\n",
        "print(f\"Rango de amplitud de la señal muestreada: {signal_range:.4f}\")\n",
        "print(f\"Tamaño del paso de cuantización (delta): {delta:.4f}\")\n",
        "\n",
        "# Evaluar la precisión de la cuantización\n",
        "# Un delta más pequeño implica una cuantización más fina y menos error de cuantización.\n",
        "# Comparar delta con el rango de la señal o la amplitud de las componentes.\n",
        "print(f\"Evaluación del tamaño del paso de cuantización:\")\n",
        "print(f\"- Un 'delta' de {delta:.4f} significa que la mínima diferencia detectable en amplitud es aproximadamente este valor.\")\n",
        "print(f\"- Esto puede generar un error de cuantización máximo de +/- delta/2.\")\n",
        "# Considerar la amplitud de las componentes originales (3, 5, 10). Un delta de ~1.91 es significativo comparado con estas amplitudes.\n",
        "print(f\"- Comparado con las amplitudes de las componentes de la señal original (3, 5, 10), el paso de cuantización es relativamente grande.\")\n",
        "quantization_precision_implication = \"La cuantización con 4 bits resulta en un paso de cuantización relativamente grande, lo que introduce un error de cuantización notable y reduce la fidelidad de la representación de la amplitud de la señal.\"\n",
        "print(f\"Implicación de la cuantización: {quantization_precision_implication}\")\n",
        "\n",
        "\n",
        "# 3. Concluir si la discretización es apropiada\n",
        "print(\"\\n--- Conclusión General sobre la Discretización ---\")\n",
        "\n",
        "overall_conclusion = \"Considerando tanto el criterio de Nyquist como la cuantización:\"\n",
        "\n",
        "if nyquist_criterion_met and delta < (signal_range / 100): # Ejemplo de umbral para delta, se puede ajustar. Usando una heurística simple.\n",
        "     overall_conclusion += \"\\n- El criterio de Nyquist se cumple, evitando aliasing.\"\n",
        "     overall_conclusion += \"\\n- La cuantización con 4 bits es razonablemente fina para esta señal (considerando un delta pequeño en relación al rango).\"\n",
        "     overall_conclusion += \"\\nPor lo tanto, la discretización realizada **es apropiada** para representar fielmente la señal continua original.\"\n",
        "elif not nyquist_criterion_met and delta > (signal_range / 20): # Ejemplo de umbral para delta grande\n",
        "     overall_conclusion += \"\\n- NO se cumple el criterio de Nyquist, lo que causa aliasing severo.\"\n",
        "     overall_conclusion += \"\\n- La cuantización con 4 bits resulta en un paso de cuantización relativamente grande, introduciendo un error de cuantización notable.\"\n",
        "     overall_conclusion += \"\\nPor lo tanto, la discretización realizada **NO es apropiada** para representar fielmente la señal continua original debido a la presencia de aliasing y a una cuantización relativamente gruesa.\"\n",
        "elif not nyquist_criterion_met:\n",
        "     overall_conclusion += \"\\n- NO se cumple el criterio de Nyquist, lo que causa aliasing.\"\n",
        "     overall_conclusion += \"\\n- La cuantización introduce error, aunque su impacto puede ser menor que el del aliasing.\"\n",
        "     overall_conclusion += \"\\nPor lo tanto, la discretización realizada **NO es apropiada** principalmente debido al aliasing.\"\n",
        "else: # nyquist_criterion_met and delta is not very small\n",
        "     overall_conclusion += \"\\n- El criterio de Nyquist se cumple, evitando aliasing.\"\n",
        "     overall_conclusion += \"\\n- La cuantización introduce un error notable debido a un paso de cuantización relativamente grande para 4 bits.\"\n",
        "     overall_conclusion += \"\\nPor lo tanto, la discretización realizada podría considerarse **parcialmente apropiada**. Aunque no hay aliasing, la fidelidad se ve limitada por la resolución de la cuantización.\"\n",
        "\n",
        "print(overall_conclusion)"
      ],
      "execution_count": null,
      "outputs": []
    },
    {
      "cell_type": "markdown",
      "metadata": {
        "id": "7585c243"
      },
      "source": [
        "## Representación de la señal discreta\n",
        "\n",
        "Mostrar la señal en tiempo discreto obtenida después del muestreo y la cuantización."
      ]
    },
    {
      "cell_type": "markdown",
      "metadata": {
        "id": "2e5d19f0"
      },
      "source": [
        "**Reasoning**:\n",
        "Create a figure and plot the quantized discrete-time signal using stem plot as per the instructions, add title, labels, legend, and grid, then show the plot."
      ]
    },
    {
      "cell_type": "code",
      "metadata": {
        "id": "c9c80179"
      },
      "source": [
        "import matplotlib.pyplot as plt\n",
        "import numpy as np\n",
        "\n",
        "# Simular el proceso de cuantización (copiado de la subtarea de simulación de la cuantización)\n",
        "# 1. Determinar el rango de valores de la señal muestreada x_discrete\n",
        "min_val = np.min(x_discrete)\n",
        "max_val = np.max(x_discrete)\n",
        "signal_range = max_val - min_val\n",
        "\n",
        "# 2. Calcular el tamaño del paso de cuantización (delta)\n",
        "# El número de niveles de cuantización (Q) ya se calculó en una subtarea anterior y está en la variable `Q`.\n",
        "delta = signal_range / Q\n",
        "\n",
        "# 3. Calcular los niveles de cuantización.\n",
        "# Los niveles se distribuyen uniformemente dentro del rango de la señal.\n",
        "quantization_levels = min_val + (np.arange(Q) + 0.5) * delta\n",
        "\n",
        "# 4. Cuantizar cada valor en x_discrete al nivel de cuantización más cercano.\n",
        "# Escalar y redondear\n",
        "scaled_x_discrete = (x_discrete - min_val) / delta\n",
        "rounded_indices = np.round(scaled_x_discrete - 0.5).astype(int)\n",
        "# Clampear los índices para asegurarse de que estén dentro del rango válido [0, Q-1]\n",
        "clamped_indices = np.clip(rounded_indices, 0, Q - 1)\n",
        "\n",
        "# Mapear los índices a los niveles de cuantización\n",
        "x_quantized = quantization_levels[clamped_indices]\n",
        "\n",
        "\n",
        "# 1. Crear una figura para la visualización.\n",
        "plt.figure(figsize=(12, 6))\n",
        "\n",
        "# 2. Utilizar plt.stem para graficar la señal discreta cuantizada.\n",
        "# t_discrete y x_quantized fueron generados en subtareas anteriores.\n",
        "plt.stem(t_discrete, x_quantized, linefmt='C1-', markerfmt='C1o', basefmt='C0-', label='Señal Discreta Cuantizada')\n",
        "\n",
        "# 3. Añadir un título al gráfico.\n",
        "plt.title('Señal Discreta Después del Muestreo y Cuantización')\n",
        "\n",
        "# 4. Etiquetar el eje x y el eje y.\n",
        "plt.xlabel('Tiempo (s)')\n",
        "plt.ylabel('Amplitud Cuantizada')\n",
        "\n",
        "# 5. Añadir una leyenda.\n",
        "plt.legend()\n",
        "\n",
        "# 6. Añadir una cuadrícula.\n",
        "plt.grid(True)\n",
        "\n",
        "# 7. Mostrar el gráfico.\n",
        "plt.show()"
      ],
      "execution_count": null,
      "outputs": []
    },
    {
      "cell_type": "markdown",
      "metadata": {
        "id": "300915b9"
      },
      "source": [
        "## Simulación de la cuantización\n",
        "\n",
        "Simular el proceso de cuantización de la señal muestreada $x[n]$ utilizando la capacidad de representación (número de bits) del conversor. Determinar los niveles de cuantización y el tamaño del paso."
      ]
    },
    {
      "cell_type": "markdown",
      "metadata": {
        "id": "cad7a467"
      },
      "source": [
        "**Reasoning**:\n",
        "I need to simulate the quantization process. This involves determining the range of the sampled signal, calculating the step size and quantization levels based on the number of bits, and then mapping each sampled value to the nearest quantization level. I will perform these steps in a single code block."
      ]
    },
    {
      "cell_type": "code",
      "metadata": {
        "id": "f6f0e30d"
      },
      "source": [
        "# Simular el proceso de cuantización\n",
        "\n",
        "# 1. Determinar el rango de valores de la señal muestreada x_discrete\n",
        "min_val = np.min(x_discrete)\n",
        "max_val = np.max(x_discrete)\n",
        "signal_range = max_val - min_val\n",
        "\n",
        "# 2. Calcular el tamaño del paso de cuantización (delta)\n",
        "# El número de niveles de cuantización (Q) ya se calculó en una subtarea anterior y está en la variable `Q`.\n",
        "delta = signal_range / Q\n",
        "\n",
        "# 3. Calcular los niveles de cuantización.\n",
        "# Los niveles se distribuyen uniformemente dentro del rango de la señal.\n",
        "# Podríamos usar los puntos medios de cada intervalo. Los bordes de los intervalos estarían en min_val + i * delta.\n",
        "# Los puntos medios estarían en min_val + i * delta + delta/2, para i desde 0 hasta Q-1.\n",
        "# O, de forma equivalente, podemos definir los niveles desde el valor mínimo con incrementos de delta.\n",
        "# Consideraremos los niveles como los centros de los intervalos.\n",
        "\n",
        "# Los bordes de los intervalos son min_val + i * delta para i = 0, 1, ..., Q.\n",
        "# Los puntos medios (niveles de cuantización) son min_val + (i + 0.5) * delta para i = 0, 1, ..., Q-1.\n",
        "quantization_levels = min_val + (np.arange(Q) + 0.5) * delta\n",
        "\n",
        "# 4. Cuantizar cada valor en x_discrete al nivel de cuantización más cercano.\n",
        "# Esto se puede hacer encontrando para cada valor en x_discrete, el nivel de cuantización más cercano.\n",
        "# Una forma eficiente es escalar los valores de x_discrete al rango [0, Q], redondear al entero más cercano, y luego mapear de vuelta a los niveles.\n",
        "# O más directamente, encontrar el índice del nivel más cercano.\n",
        "# Para cada x_discrete[n], encontrar el índice i tal que quantization_levels[i] es el más cercano.\n",
        "# Indice = round((x_discrete[n] - min_val) / delta - 0.5)\n",
        "# Asegurarse de que el índice esté dentro del rango [0, Q-1]\n",
        "\n",
        "# Escalar y redondear\n",
        "scaled_x_discrete = (x_discrete - min_val) / delta\n",
        "rounded_indices = np.round(scaled_x_discrete - 0.5).astype(int) # Redondear al entero más cercano y ajustar por el offset de 0.5\n",
        "# Clampear los índices para asegurarse de que estén dentro del rango válido [0, Q-1]\n",
        "clamped_indices = np.clip(rounded_indices, 0, Q - 1)\n",
        "\n",
        "# Mapear los índices a los niveles de cuantización\n",
        "x_quantized = quantization_levels[clamped_indices]\n",
        "\n",
        "# 5. Almacenar los valores cuantizados en una nueva variable, por ejemplo, x_quantized (ya hecho).\n",
        "\n",
        "# 6. Imprimir información relevante sobre el proceso de cuantización.\n",
        "print(\"\\nInformación del Proceso de Cuantización:\")\n",
        "print(f\"Rango de la señal muestreada (min, max): ({min_val}, {max_val})\")\n",
        "print(f\"Rango de la señal muestreada (amplitud): {signal_range}\")\n",
        "print(f\"Número de bits (N): {N}\")\n",
        "print(f\"Número de niveles de cuantización (Q): {Q}\")\n",
        "print(f\"Tamaño del paso de cuantización (delta): {delta}\")\n",
        "# Imprimir los primeros niveles de cuantización para verificar\n",
        "print(f\"Primeros 5 niveles de cuantización: {quantization_levels[:5]}\")\n",
        "print(f\"Últimos 5 niveles de cuantización: {quantization_levels[-5:]}\")\n",
        "\n",
        "# Verificar si los valores cuantizados están entre los niveles\n",
        "# print(\"\\nVerificando valores cuantizados:\")\n",
        "# print(f\"Primeros 10 valores muestreados: {x_discrete[:10]}\")\n",
        "# print(f\"Primeros 10 valores cuantizados: {x_quantized[:10]}\")"
      ],
      "execution_count": null,
      "outputs": []
    },
    {
      "cell_type": "markdown",
      "metadata": {
        "id": "1e970a09"
      },
      "source": [
        "**Reasoning**:\n",
        "The previous command failed because the `use_line_collection` argument in `plt.stem` is deprecated in newer versions of Matplotlib. I need to remove this argument and retry the plot.\n",
        "\n"
      ]
    },
    {
      "cell_type": "code",
      "metadata": {
        "id": "kmWCebRcG48t"
      },
      "source": [
        "# Visualizar la señal continua y los puntos muestreados\n",
        "plt.figure(figsize=(12, 6))\n",
        "plt.plot(t_continuous, x_continuous, label='Señal Continua $x(t)$')\n",
        "plt.stem(t_discrete, x_discrete, linefmt='C1-', markerfmt='C1o', basefmt='C0-', label='Puntos Muestreados $x[n]$') # Removed use_line_collection\n",
        "plt.title('Simulación del Proceso de Muestreo')\n",
        "plt.xlabel('Tiempo (s)')\n",
        "plt.ylabel('Amplitud')\n",
        "plt.legend()\n",
        "plt.grid(True)\n",
        "plt.show()"
      ],
      "execution_count": null,
      "outputs": []
    },
    {
      "cell_type": "markdown",
      "metadata": {
        "id": "61544569"
      },
      "source": [
        "## Simulación de la cuantización\n",
        "\n",
        "Simular el proceso de cuantización de la señal muestreada $x[n]$ utilizando la capacidad de representación (número de bits) del conversor. Determinar los niveles de cuantización y el tamaño del paso.\n"
      ]
    },
    {
      "cell_type": "markdown",
      "metadata": {
        "id": "6ca5df76"
      },
      "source": [
        "**Reasoning**:\n",
        "I need to simulate the quantization process. This involves determining the range of the sampled signal, calculating the step size and quantization levels based on the number of bits, and then mapping each sampled value to the nearest quantization level. I will perform these steps in a single code block.\n",
        "\n"
      ]
    },
    {
      "cell_type": "code",
      "metadata": {
        "id": "2c2e727c"
      },
      "source": [
        "# Simular el proceso de cuantización\n",
        "\n",
        "# 1. Determinar el rango de valores de la señal muestreada x_discrete\n",
        "min_val = np.min(x_discrete)\n",
        "max_val = np.max(x_discrete)\n",
        "signal_range = max_val - min_val\n",
        "\n",
        "# 2. Calcular el tamaño del paso de cuantización (delta)\n",
        "# El número de niveles de cuantización (Q) ya se calculó en una subtarea anterior y está en la variable `Q`.\n",
        "delta = signal_range / Q\n",
        "\n",
        "# 3. Calcular los niveles de cuantización.\n",
        "# Los niveles se distribuyen uniformemente dentro del rango de la señal.\n",
        "# Podríamos usar los puntos medios de cada intervalo. Los bordes de los intervalos estarían en min_val + i * delta.\n",
        "# Los puntos medios estarían en min_val + i * delta + delta/2, para i desde 0 hasta Q-1.\n",
        "# O, de forma equivalente, podemos definir los niveles desde el valor mínimo con incrementos de delta.\n",
        "# Consideraremos los niveles como los centros de los intervalos.\n",
        "\n",
        "# Los bordes de los intervalos son min_val + i * delta para i = 0, 1, ..., Q.\n",
        "# Los puntos medios (niveles de cuantización) son min_val + (i + 0.5) * delta para i = 0, 1, ..., Q-1.\n",
        "quantization_levels = min_val + (np.arange(Q) + 0.5) * delta\n",
        "\n",
        "# 4. Cuantizar cada valor en x_discrete al nivel de cuantización más cercano.\n",
        "# Esto se puede hacer encontrando para cada valor en x_discrete, el nivel de cuantización más cercano.\n",
        "# Una forma eficiente es escalar los valores de x_discrete al rango [0, Q], redondear al entero más cercano, y luego mapear de vuelta a los niveles.\n",
        "# O más directamente, encontrar el índice del nivel más cercano.\n",
        "# Para cada x_discrete[n], encontrar el índice i tal que quantization_levels[i] es el más cercano.\n",
        "# Indice = round((x_discrete[n] - min_val) / delta - 0.5)\n",
        "# Asegurarse de que el índice esté dentro del rango [0, Q-1]\n",
        "\n",
        "# Escalar y redondear\n",
        "scaled_x_discrete = (x_discrete - min_val) / delta\n",
        "rounded_indices = np.round(scaled_x_discrete - 0.5).astype(int) # Redondear al entero más cercano y ajustar por el offset de 0.5\n",
        "# Clampear los índices para asegurarse de que estén dentro del rango válido [0, Q-1]\n",
        "clamped_indices = np.clip(rounded_indices, 0, Q - 1)\n",
        "\n",
        "# Mapear los índices a los niveles de cuantización\n",
        "x_quantized = quantization_levels[clamped_indices]\n",
        "\n",
        "# 5. Almacenar los valores cuantizados en una nueva variable, por ejemplo, x_quantized (ya hecho).\n",
        "\n",
        "# 6. Imprimir información relevante sobre el proceso de cuantización.\n",
        "print(\"\\nInformación del Proceso de Cuantización:\")\n",
        "print(f\"Rango de la señal muestreada (min, max): ({min_val}, {max_val})\")\n",
        "print(f\"Rango de la señal muestreada (amplitud): {signal_range}\")\n",
        "print(f\"Número de bits (N): {N}\")\n",
        "print(f\"Número de niveles de cuantización (Q): {Q}\")\n",
        "print(f\"Tamaño del paso de cuantización (delta): {delta}\")\n",
        "# Imprimir los primeros niveles de cuantización para verificar\n",
        "print(f\"Primeros 5 niveles de cuantización: {quantization_levels[:5]}\")\n",
        "print(f\"Últimos 5 niveles de cuantización: {quantization_levels[-5:]}\")\n",
        "\n",
        "# Verificar si los valores cuantizados están entre los niveles\n",
        "# print(\"\\nVerificando valores cuantizados:\")\n",
        "# print(f\"Primeros 10 valores muestreados: {x_discrete[:10]}\")\n",
        "# print(f\"Primeros 10 valores cuantizados: {x_quantized[:10]}\")"
      ],
      "execution_count": null,
      "outputs": []
    },
    {
      "cell_type": "markdown",
      "metadata": {
        "id": "29e5a6e6"
      },
      "source": [
        "## Representación de la señal discreta\n",
        "\n",
        "Mostrar la señal en tiempo discreto obtenida después del muestreo y la cuantización.\n"
      ]
    },
    {
      "cell_type": "markdown",
      "metadata": {
        "id": "2bfe7e28"
      },
      "source": [
        "**Reasoning**:\n",
        "Create a figure and plot the quantized discrete-time signal using stem plot as per the instructions, add title, labels, legend, and grid, then show the plot.\n",
        "\n"
      ]
    },
    {
      "cell_type": "code",
      "metadata": {
        "id": "3b73ff74"
      },
      "source": [
        "import matplotlib.pyplot as plt\n",
        "\n",
        "# 1. Crear una figura para la visualización.\n",
        "plt.figure(figsize=(12, 6))\n",
        "\n",
        "# 2. Utilizar plt.stem para graficar la señal discreta cuantizada.\n",
        "# t_discrete y x_quantized fueron generados en subtareas anteriores.\n",
        "plt.stem(t_discrete, x_quantized, linefmt='C1-', markerfmt='C1o', basefmt='C0-', label='Señal Discreta Cuantizada')\n",
        "\n",
        "# 3. Añadir un título al gráfico.\n",
        "plt.title('Señal Discreta Después del Muestreo y Cuantización')\n",
        "\n",
        "# 4. Etiquetar el eje x y el eje y.\n",
        "plt.xlabel('Tiempo (s)')\n",
        "plt.ylabel('Amplitud Cuantizada')\n",
        "\n",
        "# 5. Añadir una leyenda.\n",
        "plt.legend()\n",
        "\n",
        "# 6. Añadir una cuadrícula.\n",
        "plt.grid(True)\n",
        "\n",
        "# 7. Mostrar el gráfico.\n",
        "plt.show()"
      ],
      "execution_count": null,
      "outputs": []
    },
    {
      "cell_type": "markdown",
      "metadata": {
        "id": "d9d28841"
      },
      "source": [
        "## Evaluación de la discretización\n",
        "\n",
        "Analizar si la discretización realizada es apropiada basándose en el criterio de Nyquist y la cuantización.\n"
      ]
    },
    {
      "cell_type": "markdown",
      "metadata": {
        "id": "a80f81e9"
      },
      "source": [
        "**Reasoning**:\n",
        "I need to evaluate the appropriateness of the discretization based on the Nyquist criterion and quantization. This involves checking if aliasing occurred based on the previous Nyquist analysis, assessing the impact of the quantization step size based on the number of bits, and concluding whether the overall discretization is appropriate.\n",
        "\n"
      ]
    },
    {
      "cell_type": "code",
      "metadata": {
        "id": "0329c5a3"
      },
      "source": [
        "import numpy as np\n",
        "\n",
        "# 1. Evaluar el cumplimiento del criterio de Nyquist (resultado de la subtarea \"Aplicación del criterio de nyquist\")\n",
        "# Recuperar las variables relevantes de las subtareas anteriores\n",
        "# fs (frecuencia de muestreo), max_frequency (frecuencia máxima de la señal)\n",
        "# nyquist_frequency = fs / 2\n",
        "\n",
        "print(\"Análisis de la Discretización:\")\n",
        "\n",
        "print(\"\\n--- Criterio de Nyquist (Aliasing) ---\")\n",
        "print(f\"Frecuencia máxima de la señal continua (f_max): {max_frequency} Hz\")\n",
        "print(f\"Frecuencia de muestreo del conversor propuesto (fs): {fs} Hz\")\n",
        "print(f\"Frecuencia de Nyquist (fs/2): {nyquist_frequency} Hz\")\n",
        "\n",
        "if nyquist_frequency >= max_frequency:\n",
        "    print(\"Conclusión sobre Aliasing: Se cumple el criterio de Nyquist (fs/2 >= f_max). No se espera aliasing.\")\n",
        "    aliasing_implication = \"No se espera pérdida de información debido a aliasing.\"\n",
        "else:\n",
        "    print(\"Conclusión sobre Aliasing: NO se cumple el criterio de Nyquist (fs/2 < f_max). Se espera aliasing.\")\n",
        "    aliasing_implication = \"Hay una pérdida significativa de información y distorsión debido al aliasing, ya que las componentes de alta frecuencia de la señal original se 'pliegan' y aparecen como frecuencias más bajas en la señal discreta.\"\n",
        "\n",
        "print(f\"Implicación del aliasing: {aliasing_implication}\")\n",
        "\n",
        "# 2. Evaluar la cuantización (resultado de la subtarea \"Simulación de la cuantización\")\n",
        "# Recuperar las variables relevantes de las subtareas anteriores\n",
        "# N (número de bits), Q (número de niveles), delta (tamaño del paso de cuantización)\n",
        "# signal_range (rango de amplitud de la señal muestreada)\n",
        "\n",
        "print(\"\\n--- Cuantización ---\")\n",
        "print(f\"Número de bits del conversor (N): {N}\")\n",
        "print(f\"Número de niveles de cuantización (Q): {Q}\")\n",
        "print(f\"Rango de amplitud de la señal muestreada: {signal_range:.4f}\")\n",
        "print(f\"Tamaño del paso de cuantización (delta): {delta:.4f}\")\n",
        "\n",
        "# Evaluar la precisión de la cuantización\n",
        "# Un delta más pequeño implica una cuantización más fina y menos error de cuantización.\n",
        "# Comparar delta con el rango de la señal o la amplitud de las componentes.\n",
        "print(f\"Evaluación del tamaño del paso de cuantización:\")\n",
        "print(f\"- Un 'delta' de {delta:.4f} significa que la mínima diferencia detectable en amplitud es aproximadamente este valor.\")\n",
        "print(f\"- Esto puede generar un error de cuantización máximo de +/- delta/2.\")\n",
        "# Considerar la amplitud de las componentes originales (3, 5, 10). Un delta de ~1.91 es significativo comparado con estas amplitudes.\n",
        "print(f\"- Comparado con las amplitudes de las componentes de la señal original (3, 5, 10), el paso de cuantización es relativamente grande.\")\n",
        "quantization_precision_implication = \"La cuantización con 4 bits resulta en un paso de cuantización relativamente grande, lo que introduce un error de cuantización notable y reduce la fidelidad de la representación de la amplitud de la señal.\"\n",
        "print(f\"Implicación de la cuantización: {quantization_precision_implication}\")\n",
        "\n",
        "\n",
        "# 3. Concluir si la discretización es apropiada\n",
        "print(\"\\n--- Conclusión General sobre la Discretización ---\")\n",
        "\n",
        "overall_conclusion = \"Considerando tanto el criterio de Nyquist como la cuantización:\"\n",
        "\n",
        "if nyquist_criterion_met and delta < (signal_range / 100): # Ejemplo de umbral para delta, se puede ajustar. Usando una heurística simple.\n",
        "     overall_conclusion += \"\\n- El criterio de Nyquist se cumple, evitando aliasing.\"\n",
        "     overall_conclusion += \"\\n- La cuantización con 4 bits es razonablemente fina para esta señal (considerando un delta pequeño en relación al rango).\"\n",
        "     overall_conclusion += \"\\nPor lo tanto, la discretización realizada **es apropiada** para representar fielmente la señal continua original.\"\n",
        "elif not nyquist_criterion_met and delta > (signal_range / 20): # Ejemplo de umbral para delta grande\n",
        "     overall_conclusion += \"\\n- NO se cumple el criterio de Nyquist, lo que causa aliasing severo.\"\n",
        "     overall_conclusion += \"\\n- La cuantización con 4 bits resulta en un paso de cuantización relativamente grande, introduciendo un error de cuantización notable.\"\n",
        "     overall_conclusion += \"\\nPor lo tanto, la discretización realizada **NO es apropiada** para representar fielmente la señal continua original debido a la presencia de aliasing y a una cuantización relativamente gruesa.\"\n",
        "elif not nyquist_criterion_met:\n",
        "     overall_conclusion += \"\\n- NO se cumple el criterio de Nyquist, lo que causa aliasing.\"\n",
        "     overall_conclusion += \"\\n- La cuantización introduce error, aunque su impacto puede ser menor que el del aliasing.\"\n",
        "     overall_conclusion += \"\\nPor lo tanto, la discretización realizada **NO es apropiada** principalmente debido al aliasing.\"\n",
        "else: # nyquist_criterion_met and delta is not very small\n",
        "     overall_conclusion += \"\\n- El criterio de Nyquist se cumple, evitando aliasing.\"\n",
        "     overall_conclusion += \"\\n- La cuantización introduce un error notable debido a un paso de cuantización relativamente grande para 4 bits.\"\n",
        "     overall_conclusion += \"\\nPor lo tanto, la discretización realizada podría considerarse **parcialmente apropiada**. Aunque no hay aliasing, la fidelidad se ve limitada por la resolución de la cuantización.\"\n",
        "\n",
        "print(overall_conclusion)"
      ],
      "execution_count": null,
      "outputs": []
    },
    {
      "cell_type": "markdown",
      "metadata": {
        "id": "065fbeab"
      },
      "source": [
        "## Diseño de un conversor adecuado (si es necesario)\n",
        "\n",
        "Si la discretización no es apropiada, diseñar un conversor A/D con una frecuencia de muestreo y número de bits adecuados para la señal $x(t)$.\n"
      ]
    },
    {
      "cell_type": "markdown",
      "metadata": {
        "id": "b48497b0"
      },
      "source": [
        "**Reasoning**:\n",
        "Based on the evaluation in the previous subtask, the discretization was not appropriate due to aliasing (Nyquist criterion not met) and relatively coarse quantization. I need to design a new ADC by determining an appropriate sampling frequency and number of bits, calculate the new number of quantization levels and step size, and print these new parameters.\n",
        "\n"
      ]
    },
    {
      "cell_type": "code",
      "metadata": {
        "id": "d60dc239"
      },
      "source": [
        "import numpy as np\n",
        "\n",
        "# 1. Evaluar el resultado de la subtarea anterior (\"Evaluación de la discretización\")\n",
        "# La evaluación previa concluyó que la discretización NO es apropiada.\n",
        "# Esto se basó en que nyquist_frequency < max_frequency y delta era relativamente grande.\n",
        "\n",
        "# Recuperar la frecuencia máxima de la señal continua\n",
        "# max_frequency = 5500 Hz (obtenido de una subtarea anterior)\n",
        "\n",
        "print(\"Diseñando un conversor A/D adecuado:\")\n",
        "\n",
        "# 2. Si la discretización no fue apropiada (que es el caso):\n",
        "\n",
        "# Determinar una frecuencia de muestreo (fs_nuevo) que cumpla estrictamente el criterio de Nyquist\n",
        "# Criterio: fs_nuevo > 2 * f_max\n",
        "nyquist_minimum_fs = 2 * max_frequency\n",
        "\n",
        "# Elegir un valor razonable por encima del mínimo requerido. Por ejemplo, 20% más alto o el siguiente valor estándar común.\n",
        "# Vamos a elegir un valor 20% mayor como ejemplo.\n",
        "fs_nuevo = nyquist_minimum_fs * 1.20 # Aumentar en un 20%\n",
        "\n",
        "print(\"\\n--- Diseño de la Frecuencia de Muestreo ---\")\n",
        "print(f\"Frecuencia máxima de la señal (f_max): {max_frequency} Hz\")\n",
        "print(f\"Frecuencia mínima de muestreo requerida por Nyquist (> 2*f_max): > {nyquist_minimum_fs} Hz\")\n",
        "print(f\"Nueva frecuencia de muestreo seleccionada (fs_nuevo): {fs_nuevo:.2f} Hz\")\n",
        "\n",
        "\n",
        "# Determinar un número de bits (N_nuevo) que proporcione una cuantización más fina.\n",
        "# El conversor anterior usó N = 4 bits (Q = 16 niveles). Delta era ~1.91.\n",
        "# El rango de la señal era ~30.545.\n",
        "# Un delta más pequeño es deseable.\n",
        "# Considerar 8 bits, que es común para mejor fidelidad.\n",
        "\n",
        "N_nuevo = 8 # bits\n",
        "\n",
        "# Calcular el nuevo número de niveles de cuantización correspondiente (Q_nuevo)\n",
        "Q_nuevo = 2**N_nuevo\n",
        "\n",
        "# Calcular el nuevo tamaño del paso de cuantización (delta_nuevo) para la nueva resolución.\n",
        "# Necesitamos el rango de la señal para calcular delta_nuevo. El rango ya está en `signal_range`.\n",
        "# signal_range = 30.545 (obtenido de una subtarea anterior)\n",
        "delta_anterior = delta # Guardar el delta anterior para comparación\n",
        "delta_nuevo = signal_range / Q_nuevo\n",
        "\n",
        "\n",
        "print(\"\\n--- Diseño de la Cuantización ---\")\n",
        "print(f\"Número de bits anterior (N): {N}\")\n",
        "print(f\"Número de bits nuevo seleccionado (N_nuevo): {N_nuevo}\")\n",
        "print(f\"Número de niveles anterior (Q): {Q}\")\n",
        "print(f\"Nuevo número de niveles de cuantización (Q_nuevo): {Q_nuevo}\")\n",
        "print(f\"Rango de amplitud de la señal: {signal_range:.4f}\")\n",
        "print(f\"Tamaño del paso de cuantización anterior (delta): {delta_anterior:.4f}\")\n",
        "print(f\"Nuevo tamaño del paso de cuantización (delta_nuevo): {delta_nuevo:.4f}\")\n",
        "print(f\"Reducción en el paso de cuantización: {delta_anterior / delta_nuevo:.2f} veces más pequeño\")\n",
        "\n",
        "\n",
        "# Imprimir los parámetros del conversor diseñado\n",
        "print(\"\\n--- Parámetros del Conversor A/D Diseñado ---\")\n",
        "print(f\"Frecuencia de muestreo (fs_nuevo): {fs_nuevo:.2f} Hz\")\n",
        "print(f\"Número de bits (N_nuevo): {N_nuevo}\")\n",
        "print(f\"Número de niveles de cuantización (Q_nuevo): {Q_nuevo}\")\n",
        "\n",
        "# 3. Si la discretización hubiera sido apropiada (no aplicable en este caso)\n",
        "# print(\"La discretización anterior fue considerada apropiada. No es necesario diseñar un nuevo conversor.\")"
      ],
      "execution_count": null,
      "outputs": []
    },
    {
      "cell_type": "markdown",
      "metadata": {
        "id": "5d9341fd"
      },
      "source": [
        "## Implementación del conversor adecuado (si es necesario)\n",
        "\n",
        "Implementar la simulación del proceso de discretización con el conversor diseñado.\n"
      ]
    },
    {
      "cell_type": "code",
      "metadata": {
        "id": "d297213d"
      },
      "source": [
        "import numpy as np\n",
        "import matplotlib.pyplot as plt\n",
        "\n",
        "# 1. Definir la señal continua original x(t) como una función de tiempo.\n",
        "# La señal original es x(t) = 3*cos(1000*pi*t) + 5*sin(3000*pi*t) + 10*cos(11000*pi*t)\n",
        "def x_continuous_func(t):\n",
        "    return 3 * np.cos(1000 * np.pi * t) + 5 * np.sin(3000 * np.pi * t) + 10 * np.cos(11000 * np.pi * t)\n",
        "\n",
        "# Recuperar la frecuencia máxima de la señal para determinar el período (ya calculado)\n",
        "# max_frequency = 5500 Hz\n",
        "# Período fundamental común T_signal = 1 / GCD(500, 1500, 5500) - Esto es complejo.\n",
        "# Un enfoque más simple para la visualización es usar un período basado en la frecuencia fundamental más baja o un tiempo que cubra múltiplos de los períodos.\n",
        "# Las frecuencias son 500 Hz, 1500 Hz, 5500 Hz.\n",
        "# Períodos: 1/500, 1/1500, 1/5500.\n",
        "# Período común: LCM(1/500, 1/1500, 1/5500) = LCM(1, 1, 1) / GCD(500, 1500, 5500) * T_unit.\n",
        "# GCD(500, 1500, 5500) = GCD(500, 1500, 5500) = 500.\n",
        "# Período fundamental común T_fundamental = 1 / 500 Hz = 0.002 segundos.\n",
        "T_fundamental = 1 / 500\n",
        "\n",
        "# 2. Crear un vector de tiempo continuo (t_continuous) para visualizar la señal original en al menos tres períodos.\n",
        "num_periods_to_plot = 3\n",
        "t_continuous_end = num_periods_to_plot * T_fundamental\n",
        "num_points_continuous = 1000 * num_periods_to_plot # Alta resolución para visualización\n",
        "t_continuous = np.linspace(0, t_continuous_end, num_points_continuous)\n",
        "\n",
        "# 3. Evaluar la señal continua en los puntos del vector de tiempo continuo.\n",
        "x_continuous = x_continuous_func(t_continuous)\n",
        "\n",
        "# Recuperar los parámetros del conversor diseñado (calculados en la subtarea anterior)\n",
        "# fs_nuevo = 13200.00 Hz\n",
        "# N_nuevo = 8\n",
        "# Q_nuevo = 2**N_nuevo = 256\n",
        "# delta_nuevo (aún no calculado con el rango real de la señal muestreada por el nuevo conversor)\n",
        "\n",
        "# 4. Crear un vector de tiempo discreto (t_discrete_nuevo) utilizando la nueva frecuencia de muestreo (fs_nuevo) sobre el mismo rango de tiempo.\n",
        "# El rango de tiempo ya está definido por t_continuous_end.\n",
        "# El número de puntos de muestreo será fs_nuevo * duración.\n",
        "num_samples_nuevo = int(fs_nuevo * t_continuous_end)\n",
        "t_discrete_nuevo = np.linspace(0, t_continuous_end, num_samples_nuevo, endpoint=False) # No incluir el último punto si es el inicio del siguiente período\n",
        "\n",
        "# 5. Evaluar la señal continua en los puntos del nuevo vector de tiempo discreto para obtener la señal muestreada (x_discrete_nuevo).\n",
        "x_discrete_nuevo = x_continuous_func(t_discrete_nuevo)\n",
        "\n",
        "# 6. Determinar el rango de valores de x_discrete_nuevo.\n",
        "min_val_nuevo = np.min(x_discrete_nuevo)\n",
        "max_val_nuevo = np.max(x_discrete_nuevo)\n",
        "signal_range_nuevo = max_val_nuevo - min_val_nuevo\n",
        "\n",
        "print(f\"Rango de la señal muestreada con el nuevo conversor (min, max): ({min_val_nuevo:.4f}, {max_val_nuevo:.4f})\")\n",
        "print(f\"Rango de amplitud de la señal muestreada con el nuevo conversor: {signal_range_nuevo:.4f}\")\n",
        "\n",
        "# 7. Calcular el nuevo tamaño del paso de cuantización (delta_nuevo) y los nuevos niveles de cuantización (quantization_levels_nuevo).\n",
        "delta_nuevo = signal_range_nuevo / Q_nuevo\n",
        "\n",
        "# Los niveles de cuantización son los puntos medios de cada intervalo.\n",
        "quantization_levels_nuevo = min_val_nuevo + (np.arange(Q_nuevo) + 0.5) * delta_nuevo\n",
        "\n",
        "print(f\"Número de bits del nuevo conversor (N_nuevo): {N_nuevo}\")\n",
        "print(f\"Número de niveles de cuantización del nuevo conversor (Q_nuevo): {Q_nuevo}\")\n",
        "print(f\"Nuevo tamaño del paso de cuantización (delta_nuevo): {delta_nuevo:.6f}\")\n",
        "\n",
        "\n",
        "# 8. Cuantizar los valores de x_discrete_nuevo a los quantization_levels_nuevo más cercanos.\n",
        "# Escalar y redondear\n",
        "scaled_x_discrete_nuevo = (x_discrete_nuevo - min_val_nuevo) / delta_nuevo\n",
        "rounded_indices_nuevo = np.round(scaled_x_discrete_nuevo - 0.5).astype(int)\n",
        "clamped_indices_nuevo = np.clip(rounded_indices_nuevo, 0, Q_nuevo - 1)\n",
        "\n",
        "# Mapear los índices a los niveles de cuantización\n",
        "x_quantized_nuevo = quantization_levels_nuevo[clamped_indices_nuevo]\n",
        "\n",
        "# 9. Graficar la señal continua original y superponer los puntos de la señal discreta cuantizada obtenida con el nuevo conversor.\n",
        "plt.figure(figsize=(14, 7))\n",
        "plt.plot(t_continuous, x_continuous, label='Señal Continua $x(t)$', alpha=0.7)\n",
        "plt.stem(t_discrete_nuevo, x_quantized_nuevo, linefmt='C1-', markerfmt='C1o', basefmt='C0-', label='Señal Discreta Cuantizada (Nuevo Conversor)')\n",
        "\n",
        "# 10. Añadir título, etiquetas de ejes, leyenda y cuadrícula.\n",
        "plt.title('Simulación del Proceso de Discretización con Conversor Diseñado')\n",
        "plt.xlabel('Tiempo (s)')\n",
        "plt.ylabel('Amplitud')\n",
        "plt.legend()\n",
        "plt.grid(True)\n",
        "\n",
        "# 11. Mostrar el gráfico.\n",
        "plt.show()"
      ],
      "execution_count": null,
      "outputs": []
    },
    {
      "cell_type": "markdown",
      "metadata": {
        "id": "25366de2"
      },
      "source": [
        "## Summary:\n",
        "\n",
        "### Data Analysis Key Findings\n",
        "\n",
        "*   The continuous signal $x(t)$ contains frequencies of 500 Hz, 1500 Hz, and 5500 Hz. The maximum frequency is 5500 Hz.\n",
        "*   The initially proposed Analog-to-Digital Converter (ADC) has a sampling frequency ($f_s$) of 5000 Hz and a resolution of 4 bits.\n",
        "*   With $f_s = 5000$ Hz, the Nyquist frequency ($f_s/2$) is 2500 Hz. This is less than the maximum signal frequency (5500 Hz), indicating that the Nyquist criterion is not met and aliasing is expected.\n",
        "*   The 4-bit resolution provides $2^4 = 16$ quantization levels.\n",
        "*   The range of the sampled signal is approximately 30.545. This results in a quantization step size ($\\Delta$) of approximately 1.909 (30.545 / 16). This step size is relatively large compared to the amplitudes of the signal's components (3, 5, 10), leading to a noticeable quantization error.\n",
        "*   Due to the aliasing and the relatively coarse quantization, the initial discretization using the 5 kHz, 4-bit converter is not appropriate for faithfully representing the original signal.\n",
        "*   A suitable ADC was designed with a new sampling frequency ($f_{s\\_nuevo}$) of 13200 Hz (selected to be $> 2 \\times 5500$ Hz) and a resolution of 8 bits ($N_{nuevo}$).\n",
        "*   The 8-bit resolution provides $2^8 = 256$ quantization levels.\n",
        "*   The range of the signal sampled at 13200 Hz is approximately 34.374. This results in a new quantization step size ($\\Delta_{nuevo}$) of approximately 0.134, which is about 16 times smaller than the original $\\Delta$, significantly reducing quantization error.\n",
        "*   The simulation of the discretization process with the designed converter (13200 Hz, 8 bits) shows the discrete points closely following the continuous signal, indicating improved fidelity compared to the initial attempt.\n",
        "\n",
        "### Insights or Next Steps\n",
        "\n",
        "*   The design process clearly highlights the trade-offs between sampling frequency (aliasing) and bit depth (quantization error) in ADC selection. Meeting the Nyquist criterion is crucial to avoid irreversible data loss from aliasing.\n",
        "*   For future work, one could analyze the spectral content of the original discrete signal obtained from both the inappropriate and the designed converters to quantitatively show the effects of aliasing and improved resolution.\n"
      ]
    }
  ]
}