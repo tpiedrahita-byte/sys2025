{
  "nbformat": 4,
  "nbformat_minor": 0,
  "metadata": {
    "colab": {
      "provenance": [],
      "include_colab_link": true
    },
    "kernelspec": {
      "name": "python3",
      "display_name": "Python 3"
    },
    "language_info": {
      "name": "python"
    }
  },
  "cells": [
    {
      "cell_type": "markdown",
      "metadata": {
        "id": "view-in-github",
        "colab_type": "text"
      },
      "source": [
        "<a href=\"https://colab.research.google.com/github/tpiedrahita-byte/sys2025/blob/main/Copy_of_2_Conditionals.ipynb\" target=\"_parent\"><img src=\"https://colab.research.google.com/assets/colab-badge.svg\" alt=\"Open In Colab\"/></a>"
      ]
    },
    {
      "cell_type": "markdown",
      "source": [
        "# Conditionals"
      ],
      "metadata": {
        "id": "VTg9sEC1C3SO"
      }
    },
    {
      "cell_type": "markdown",
      "source": [
        "To perform conditionals in Python, we need to consider that the indentation defines each section of code to be executed.\n",
        "\n",
        "We don't use curly braces or any separator here; instead, we control it with indentation using \"Tab\" characters.\n",
        "\n",
        "Additionally, both the \"if\" and \"else\" statements must end with a colon (not including them will result in a syntax error)."
      ],
      "metadata": {
        "id": "Rk_VXygMC7mm"
      }
    },
    {
      "cell_type": "code",
      "execution_count": 1,
      "metadata": {
        "colab": {
          "base_uri": "https://localhost:8080/"
        },
        "id": "W1DdfxlTCEjM",
        "outputId": "39e139b4-356a-404c-dc56-c01f5bdf9d7a"
      },
      "outputs": [
        {
          "output_type": "stream",
          "name": "stdout",
          "text": [
            "The condition is true.\n",
            "\n"
          ]
        }
      ],
      "source": [
        "a = True\n",
        "\n",
        "if a:\n",
        "  print(\"The condition is true.\\n\")#tab is included here\n",
        "else:\n",
        "  print(\"The condition is false.\\n\")#tab is included here"
      ]
    },
    {
      "cell_type": "code",
      "source": [
        "\n",
        "a = False\n",
        "\n",
        "if a:\n",
        "  print(\"The condition is true.\\n\")\n",
        "else:\n",
        "  print(\"The condition is false.\\n\")"
      ],
      "metadata": {
        "colab": {
          "base_uri": "https://localhost:8080/"
        },
        "id": "MQGsGj6xDu4n",
        "outputId": "aa292f4a-d8a7-4e84-8727-46f50e75ba1f"
      },
      "execution_count": 2,
      "outputs": [
        {
          "output_type": "stream",
          "name": "stdout",
          "text": [
            "The condition is false.\n",
            "\n"
          ]
        }
      ]
    },
    {
      "cell_type": "markdown",
      "source": [
        "Recalling that boolean variables have their equivalent in integers, we could also perform the conditional in the following way:"
      ],
      "metadata": {
        "id": "frC0vy0CDxxC"
      }
    },
    {
      "cell_type": "code",
      "source": [
        "a = 5\n",
        "\n",
        "if a: #a as an int variable\n",
        "  print(\"The condition is true.\\n\")\n",
        "else:\n",
        "  print(\"The condition is false.\\n\")"
      ],
      "metadata": {
        "colab": {
          "base_uri": "https://localhost:8080/"
        },
        "id": "xyRIhIhvD6Pa",
        "outputId": "3091d5d3-c835-4bd1-b311-0ca5ceed84b4"
      },
      "execution_count": 3,
      "outputs": [
        {
          "output_type": "stream",
          "name": "stdout",
          "text": [
            "The condition is true.\n",
            "\n"
          ]
        }
      ]
    },
    {
      "cell_type": "code",
      "source": [
        "a = 0\n",
        "\n",
        "if a:\n",
        "  print(\"The condition is true.\\n\")\n",
        "else:\n",
        "  print(\"The condition is false.\\n\")"
      ],
      "metadata": {
        "colab": {
          "base_uri": "https://localhost:8080/"
        },
        "id": "DbzDH0qwD8QQ",
        "outputId": "7a131b8b-20e2-4cf3-d3cf-a575cdb9de8a"
      },
      "execution_count": 4,
      "outputs": [
        {
          "output_type": "stream",
          "name": "stdout",
          "text": [
            "The condition is false.\n",
            "\n"
          ]
        }
      ]
    },
    {
      "cell_type": "markdown",
      "source": [
        "\n",
        "Many times it is necessary to use nested if statements. For this, the \"elif\" statement is very useful."
      ],
      "metadata": {
        "id": "fNWEc7KmEDj4"
      }
    },
    {
      "cell_type": "code",
      "source": [
        "\n",
        "a = True\n",
        "b = True\n",
        "\n",
        "if a:\n",
        "  print(\"Condition 1 is true.\\n\")\n",
        "elif b:\n",
        "  print(\"Condition 2 is true.\\n\")\n"
      ],
      "metadata": {
        "colab": {
          "base_uri": "https://localhost:8080/"
        },
        "id": "OP3rdF2nD_eX",
        "outputId": "b2056e46-59fa-449f-a233-869e6dff922f"
      },
      "execution_count": 7,
      "outputs": [
        {
          "output_type": "stream",
          "name": "stdout",
          "text": [
            "Condition 1 is true.\n",
            "\n"
          ]
        }
      ]
    },
    {
      "cell_type": "code",
      "source": [
        "a = False\n",
        "b = True\n",
        "\n",
        "if a:\n",
        "  print(\"Condition 1 is true.\\n\")\n",
        "elif b:\n",
        "  print(\"Condition 2 is true.\\n\")\n"
      ],
      "metadata": {
        "colab": {
          "base_uri": "https://localhost:8080/"
        },
        "id": "MAPP8N-GEuiO",
        "outputId": "7d219725-8026-4805-b925-92db7f91d667"
      },
      "execution_count": 8,
      "outputs": [
        {
          "output_type": "stream",
          "name": "stdout",
          "text": [
            "Condition 2 is true.\n",
            "\n"
          ]
        }
      ]
    },
    {
      "cell_type": "markdown",
      "source": [
        "In this case, we first check if condition a is true, but if not, we don't directly print the second message. Instead, we now check if condition b is true or not (the second condition is only evaluated if the first one was not true).\n",
        "\n",
        "We can add an else statement at the end, which would be executed if none of the previous conditions are true (the final option)."
      ],
      "metadata": {
        "id": "MI1yZs1eExGO"
      }
    },
    {
      "cell_type": "code",
      "source": [
        "\n",
        "a = False\n",
        "b = True\n",
        "\n",
        "if a:\n",
        "  print(\"Condition 1 is true.\\n\")\n",
        "elif b:\n",
        "  print(\"Condition 2 is true.\\n\")\n",
        "else:\n",
        "  print(\"Both conditions are false.\\n\")"
      ],
      "metadata": {
        "colab": {
          "base_uri": "https://localhost:8080/"
        },
        "id": "FghUVGjVFRZM",
        "outputId": "831bc292-ec7c-4a3f-88e4-a0676cfefa6e"
      },
      "execution_count": 9,
      "outputs": [
        {
          "output_type": "stream",
          "name": "stdout",
          "text": [
            "Condition 2 is true.\n",
            "\n"
          ]
        }
      ]
    },
    {
      "cell_type": "code",
      "source": [
        "\n",
        "a = False\n",
        "b = False\n",
        "\n",
        "if a:\n",
        "  print(\"Condition 1 is true.\\n\")\n",
        "elif b:\n",
        "  print(\"Condition 2 is true.\\n\")\n",
        "else:\n",
        "  print(\"Both conditions are false.\\n\")"
      ],
      "metadata": {
        "colab": {
          "base_uri": "https://localhost:8080/"
        },
        "id": "A5QLFL4VFZsQ",
        "outputId": "1b348b2d-d5a2-450b-a530-1d34d40df18b"
      },
      "execution_count": 10,
      "outputs": [
        {
          "output_type": "stream",
          "name": "stdout",
          "text": [
            "Both conditions are false.\n",
            "\n"
          ]
        }
      ]
    },
    {
      "cell_type": "markdown",
      "source": [
        "Similarly, we can directly nest the if statements if we only want the subsequent condition to be evaluated if the previous one is true."
      ],
      "metadata": {
        "id": "P9HDhYXtKX7K"
      }
    },
    {
      "cell_type": "code",
      "source": [
        "a = True\n",
        "b = True\n",
        "\n",
        "if a:\n",
        "  if b:\n",
        "    print(\"a and b are true.\\n\")#double tab is required here!\n",
        "  else:\n",
        "    print(\"a is true but b is false.\\n\")\n",
        "else:\n",
        "  print(\"a is not true.\\n\")"
      ],
      "metadata": {
        "colab": {
          "base_uri": "https://localhost:8080/"
        },
        "id": "AuBe0qhdKXU7",
        "outputId": "b93d5dca-a8f0-435e-c2e2-6e5c8a57d26a"
      },
      "execution_count": 11,
      "outputs": [
        {
          "output_type": "stream",
          "name": "stdout",
          "text": [
            "a and b are true.\n",
            "\n"
          ]
        }
      ]
    },
    {
      "cell_type": "code",
      "source": [
        "a = False\n",
        "b = False\n",
        "\n",
        "if a:\n",
        "  if b:\n",
        "    print(\"a and b are true.\\n\")\n",
        "  else:\n",
        "    print(\"a is true but b is false.\\n\")\n",
        "else:\n",
        "  print(\"a is not true.\\n\")"
      ],
      "metadata": {
        "colab": {
          "base_uri": "https://localhost:8080/"
        },
        "id": "oxH42MDxLIvk",
        "outputId": "a5837364-6d58-4f2e-bb18-91f2edfdfb62"
      },
      "execution_count": 12,
      "outputs": [
        {
          "output_type": "stream",
          "name": "stdout",
          "text": [
            "a is not true.\n",
            "\n"
          ]
        }
      ]
    },
    {
      "cell_type": "code",
      "source": [
        "a = False\n",
        "b = False\n",
        "\n",
        "if a:\n",
        "  if b:\n",
        "    print(\"a and b are true.\\n\")\n",
        "  else:\n",
        "    print(\"a is true but b is false.\\n\")\n",
        "else:\n",
        "  print(\"a is not true.\\n\")"
      ],
      "metadata": {
        "colab": {
          "base_uri": "https://localhost:8080/"
        },
        "id": "CFjjpC7ILL7D",
        "outputId": "b69f5a67-4754-4798-aa02-7f3c66ab16e4"
      },
      "execution_count": 13,
      "outputs": [
        {
          "output_type": "stream",
          "name": "stdout",
          "text": [
            "a is not true.\n",
            "\n"
          ]
        }
      ]
    },
    {
      "cell_type": "code",
      "source": [
        "\n",
        "a = False\n",
        "b = True\n",
        "\n",
        "if a:\n",
        "  if b:\n",
        "    print(\"a and b are true.\\n\")\n",
        "  else:\n",
        "    print(\"a is true but b is false.\\n\")\n",
        "else:\n",
        "  print(\"a is not true.\\n\")"
      ],
      "metadata": {
        "colab": {
          "base_uri": "https://localhost:8080/"
        },
        "id": "2_WzD4IILR6D",
        "outputId": "4b194d60-5770-41a3-fe18-348fc09d9f0e"
      },
      "execution_count": 14,
      "outputs": [
        {
          "output_type": "stream",
          "name": "stdout",
          "text": [
            "a is not true.\n",
            "\n"
          ]
        }
      ]
    },
    {
      "cell_type": "markdown",
      "source": [
        "In other languages, the exclamation mark (!) can be used to evaluate the logical negation of a variable.\n",
        "\n",
        "In Python, we can use the keyword \"not\" before the variable to achieve the same effect."
      ],
      "metadata": {
        "id": "iVTrietnGmkB"
      }
    },
    {
      "cell_type": "code",
      "source": [
        "not True"
      ],
      "metadata": {
        "colab": {
          "base_uri": "https://localhost:8080/"
        },
        "id": "d9EjgT7nG76A",
        "outputId": "f8a118ef-e54f-4159-ab80-d0995c927774"
      },
      "execution_count": 15,
      "outputs": [
        {
          "output_type": "execute_result",
          "data": {
            "text/plain": [
              "False"
            ]
          },
          "metadata": {},
          "execution_count": 15
        }
      ]
    },
    {
      "cell_type": "code",
      "source": [
        "not False"
      ],
      "metadata": {
        "colab": {
          "base_uri": "https://localhost:8080/"
        },
        "id": "SuMYbT_JG9pK",
        "outputId": "9ad61e60-c3ec-4836-da24-75196de4acb7"
      },
      "execution_count": 16,
      "outputs": [
        {
          "output_type": "execute_result",
          "data": {
            "text/plain": [
              "True"
            ]
          },
          "metadata": {},
          "execution_count": 16
        }
      ]
    },
    {
      "cell_type": "code",
      "source": [
        "not 8"
      ],
      "metadata": {
        "colab": {
          "base_uri": "https://localhost:8080/"
        },
        "id": "dHpVP55rG_Rl",
        "outputId": "94a8e58b-1cbe-4a6d-d541-837609c70e63"
      },
      "execution_count": 17,
      "outputs": [
        {
          "output_type": "execute_result",
          "data": {
            "text/plain": [
              "False"
            ]
          },
          "metadata": {},
          "execution_count": 17
        }
      ]
    },
    {
      "cell_type": "code",
      "source": [
        "not 0"
      ],
      "metadata": {
        "colab": {
          "base_uri": "https://localhost:8080/"
        },
        "id": "x3dpCJ2jHBpH",
        "outputId": "4d07095c-d144-4fb5-ec69-ccb0a858800e"
      },
      "execution_count": 1,
      "outputs": [
        {
          "output_type": "execute_result",
          "data": {
            "text/plain": [
              "True"
            ]
          },
          "metadata": {},
          "execution_count": 1
        }
      ]
    },
    {
      "cell_type": "code",
      "source": [
        "a = True\n",
        "b = True\n",
        "\n",
        "if not a:\n",
        "  print(\"Condition 1 is true.\\n\")\n",
        "elif b:\n",
        "  print(\"Condition 2 is true.\\n\")\n",
        "else:\n",
        "  print(\"Both conditions are false.\\n\")"
      ],
      "metadata": {
        "colab": {
          "base_uri": "https://localhost:8080/"
        },
        "id": "26Fu_3KhG0bC",
        "outputId": "f1de4173-8929-4aa3-bea1-5e8fc60a12c7"
      },
      "execution_count": 2,
      "outputs": [
        {
          "output_type": "stream",
          "name": "stdout",
          "text": [
            "Condition 2 is true.\n",
            "\n"
          ]
        }
      ]
    },
    {
      "cell_type": "markdown",
      "source": [
        "On the other hand, we don't always need to evaluate conditions separately but create logical expressions with them. For this purpose, we have the following operators:\n",
        "\n",
        ". Logical operators: \"or\", \"and\"\n",
        "\n",
        ". Comparison operators: <, >, <=, >=, ==, !="
      ],
      "metadata": {
        "id": "jMy5rePdFjNg"
      }
    },
    {
      "cell_type": "code",
      "source": [
        "a = False\n",
        "b = False\n",
        "\n",
        "if a or b:\n",
        "  print(\"At least one condition is true.\\n\")\n",
        "else:\n",
        "  print(\"It's not any value.\")"
      ],
      "metadata": {
        "colab": {
          "base_uri": "https://localhost:8080/"
        },
        "id": "wnuvPyZBHVgC",
        "outputId": "5a5f395e-f3fd-4af7-86de-d83597c5c200"
      },
      "execution_count": 3,
      "outputs": [
        {
          "output_type": "stream",
          "name": "stdout",
          "text": [
            "It's not any value.\n"
          ]
        }
      ]
    },
    {
      "cell_type": "code",
      "source": [
        "a = 3\n",
        "b = 4\n",
        "\n",
        "if a != b:\n",
        "  print(\"The numbers are different.\\n\")"
      ],
      "metadata": {
        "colab": {
          "base_uri": "https://localhost:8080/"
        },
        "id": "xPraa9wBHfR8",
        "outputId": "28f70991-1d50-4c61-b04a-1cc33380b145"
      },
      "execution_count": 4,
      "outputs": [
        {
          "output_type": "stream",
          "name": "stdout",
          "text": [
            "The numbers are different.\n",
            "\n"
          ]
        }
      ]
    },
    {
      "cell_type": "code",
      "source": [
        "a = 4\n",
        "b = 4\n",
        "\n",
        "if a == b:\n",
        "  print(\"The numbers are equal.\\n\")"
      ],
      "metadata": {
        "colab": {
          "base_uri": "https://localhost:8080/"
        },
        "id": "agG1ggz0IBuz",
        "outputId": "86c2a9c6-05c9-4d74-b543-b1aae58d2f52"
      },
      "execution_count": 5,
      "outputs": [
        {
          "output_type": "stream",
          "name": "stdout",
          "text": [
            "The numbers are equal.\n",
            "\n"
          ]
        }
      ]
    },
    {
      "cell_type": "code",
      "source": [
        "a = 1\n",
        "b = 2\n",
        "c = 3\n",
        "\n",
        "if a < b < c:\n",
        "  print(\"The order is ascending.\\n\")"
      ],
      "metadata": {
        "id": "2WlutQYmIIe3",
        "colab": {
          "base_uri": "https://localhost:8080/"
        },
        "outputId": "6734a845-b8a4-4c78-8b95-e82226297fa5"
      },
      "execution_count": 6,
      "outputs": [
        {
          "output_type": "stream",
          "name": "stdout",
          "text": [
            "The order is ascending.\n",
            "\n"
          ]
        }
      ]
    },
    {
      "cell_type": "code",
      "source": [
        "a = 3\n",
        "b = 2\n",
        "c = 3\n",
        "\n",
        "if a < b < c:\n",
        "  print(\"The order is ascending.\\n\")\n",
        "else:\n",
        "  print(a + b + c)\n"
      ],
      "metadata": {
        "colab": {
          "base_uri": "https://localhost:8080/"
        },
        "id": "b3sQXrU0IThJ",
        "outputId": "e63fed08-3a91-4fb0-f819-d314a83f04e9"
      },
      "execution_count": 7,
      "outputs": [
        {
          "output_type": "stream",
          "name": "stdout",
          "text": [
            "8\n"
          ]
        }
      ]
    },
    {
      "cell_type": "markdown",
      "source": [
        "When multiple chained comparisons like the previous ones are performed, Python always evaluates them from left to right in pairs."
      ],
      "metadata": {
        "id": "AC2xrm2AIcic"
      }
    },
    {
      "cell_type": "markdown",
      "source": [
        "\n",
        "In more advanced applications, using lists, tuples, dictionaries, or classes, there are other ways to express conditions that are useful for tackling more complex problems.\n",
        "\n",
        "One quick example, not so complex, is the use of the keyword \"in,\" which is used for strings or arrays of numbers."
      ],
      "metadata": {
        "id": "mAsFtIP5IltC"
      }
    },
    {
      "cell_type": "code",
      "source": [
        "a = [1, 2, 3]\n",
        "b = 2\n",
        "\n",
        "if b in a:\n",
        "  print(\"a contains the value of b.\\n\")\n",
        "else:\n",
        "  print(\"a does not contain the value of b.\\n\")"
      ],
      "metadata": {
        "colab": {
          "base_uri": "https://localhost:8080/"
        },
        "id": "yrBhgY0mI9Ci",
        "outputId": "7afc3c38-30ba-45b7-fe24-5a61d9401a5e"
      },
      "execution_count": 8,
      "outputs": [
        {
          "output_type": "stream",
          "name": "stdout",
          "text": [
            "a contains the value of b.\n",
            "\n"
          ]
        }
      ]
    },
    {
      "cell_type": "code",
      "source": [
        "a = [1, 2, 3]\n",
        "b = 4\n",
        "\n",
        "if b in a:\n",
        "  print(\"a contains the value of b.\\n\")\n",
        "else:\n",
        "  print(\"a does not contain the value of b.\\n\")"
      ],
      "metadata": {
        "colab": {
          "base_uri": "https://localhost:8080/"
        },
        "id": "GlFDLbP-JzM0",
        "outputId": "f59a4af6-e205-486e-8f34-45cb7c83129e"
      },
      "execution_count": 9,
      "outputs": [
        {
          "output_type": "stream",
          "name": "stdout",
          "text": [
            "a does not contain the value of b.\n",
            "\n"
          ]
        }
      ]
    },
    {
      "cell_type": "code",
      "source": [
        "if(\"Hi\" in \"this is a good example\"):\n",
        "  print(\"Word found.\\n\")\n",
        "else:\n",
        "  print(\"Word not found\")"
      ],
      "metadata": {
        "colab": {
          "base_uri": "https://localhost:8080/"
        },
        "id": "mvgyY8s2J2jN",
        "outputId": "0f37bef5-0cc0-4189-b7c7-0c910245c031"
      },
      "execution_count": 10,
      "outputs": [
        {
          "output_type": "stream",
          "name": "stdout",
          "text": [
            "Word not found\n"
          ]
        }
      ]
    },
    {
      "cell_type": "markdown",
      "source": [
        "\n",
        "## Exercises:\n",
        "\n",
        "1. In order to pay a certain tax, you must be over 16 years old and have a monthly income equal to or greater than €1000. Write a program that asks the user for their age and monthly income, and displays whether the user has to pay the tax or not.\n",
        "\n",
        "\n",
        "2. The Bella Napoli pizzeria offers vegetarian and non-vegetarian pizzas to its customers. The ingredients for each type of pizza are as follows:\n",
        "\n",
        "Vegetarian ingredients: Bell peppers and tofu.\n",
        "\n",
        "Non-vegetarian ingredients: Pepperoni, Ham, and Salmon.\n",
        "\n",
        "Write a program that asks the user if they want a vegetarian pizza or not, and based on their response, displays a menu with the available ingredients for them to choose from. Only one additional ingredient can be chosen besides the mozzarella and tomato, which are included in all pizzas. Finally, the program should display whether the chosen pizza is vegetarian or not, along with all the ingredients it contains."
      ],
      "metadata": {
        "id": "fO1RHJGAiIp2"
      }
    },
    {
      "cell_type": "markdown",
      "source": [
        "Developed by:\n",
        "\n",
        "- Brian Patino Agudelo - bpatinoa@unal.edu.co\n",
        "\n",
        "- Andrés Marino Álvarez Meza - amalvarezme@unal.edu.co\n",
        "\n",
        "- César Germán Castellanos Domínguez - cgcastellanosd@unal.edu.co"
      ],
      "metadata": {
        "id": "QQg2r04O174w"
      }
    },
    {
      "cell_type": "code",
      "source": [
        "# EXERCISE 1\n",
        "edad=int(input(\"ingrese su edad:\"))\n",
        "ingresos=float(input(\"ingrese sus ingresos mensuales :\"))\n",
        "if edad > 16 and ingresos >= 1000:\n",
        "  print(\"usted debe pagar impuestos\")\n",
        "else:\n",
        "  print(\"usted no debe pagar impuestos\")\n",
        "\n",
        "#EXERCISE 2\n",
        "print(\"\\nBienvenido a la pizzería Bella Napoli!\")\n",
        "tipo_pizza = input(\"¿Desea una pizza vegetariana? (si/no): \").lower()\n",
        "\n",
        "if tipo_pizza == \"si\":\n",
        "  print(\"Ingredientes vegetarianos disponibles: Pimientos morrones y tofu.\")\n",
        "  ingrediente_extra = input(\"Elija un ingrediente extra (Pimientos morrones o tofu): \").lower()\n",
        "  if ingrediente_extra == \"pimientos morrones\":\n",
        "    ingredientes = [\"mozzarella\", \"tomate\", \"pimientos morrones\"]\n",
        "  elif ingrediente_extra == \"tofu\":\n",
        "    ingredientes = [\"mozzarella\", \"tomate\", \"tofu\"]\n",
        "  else:\n",
        "    ingredientes = [\"mozzarella\", \"tomate\"]\n",
        "    print(\"Ingrediente extra no válido. Se añadirá solo mozzarella y tomate.\")\n",
        "  print(\"\\nSu pizza es vegetariana.\")\n",
        "  print(\"Ingredientes:\", \", \".join(ingredientes))\n",
        "\n",
        "elif tipo_pizza == \"no\":\n",
        "  print(\"Ingredientes no vegetarianos disponibles: Pepperoni, Jamón, y Salmón.\")\n",
        "  ingrediente_extra = input(\"Elija un ingrediente extra (Pepperoni, Jamón, o Salmón): \").lower()\n",
        "  if ingrediente_extra == \"pepperoni\":\n",
        "    ingredientes = [\"mozzarella\", \"tomate\", \"pepperoni\"]\n",
        "  elif ingrediente_extra == \"jamon\":\n",
        "    ingredientes = [\"mozzarella\", \"tomate\", \"jamón\"]\n",
        "  elif ingrediente_extra == \"salmon\":\n",
        "    ingredientes = [\"mozzarella\", \"tomate\", \"salmón\"]\n",
        "  else:\n",
        "    ingredientes = [\"mozzarella\", \"tomate\"]\n",
        "    print(\"Ingrediente extra no válido. Se añadirá solo mozzarella y tomate.\")\n",
        "  print(\"\\nSu pizza no es vegetariana.\")\n",
        "  print(\"Ingredientes:\", \", \".join(ingredientes))\n",
        "\n",
        "else:\n",
        "  print(\"Opción no válida. Por favor, responda 'si' o 'no'.\")"
      ],
      "metadata": {
        "id": "KIWL9EGb7SIR",
        "colab": {
          "base_uri": "https://localhost:8080/"
        },
        "outputId": "102c099d-dbea-4491-b270-d17eb0a78ed8"
      },
      "execution_count": 1,
      "outputs": [
        {
          "output_type": "stream",
          "name": "stdout",
          "text": [
            "ingrese su edad:2\n",
            "ingrese sus ingresos mensuales :4\n",
            "usted no debe pagar impuestos\n",
            "\n",
            "Bienvenido a la pizzería Bella Napoli!\n",
            "¿Desea una pizza vegetariana? (si/no): no\n",
            "Ingredientes no vegetarianos disponibles: Pepperoni, Jamón, y Salmón.\n",
            "Elija un ingrediente extra (Pepperoni, Jamón, o Salmón): pepperoni\n",
            "\n",
            "Su pizza no es vegetariana.\n",
            "Ingredientes: mozzarella, tomate, pepperoni\n"
          ]
        }
      ]
    }
  ]
}