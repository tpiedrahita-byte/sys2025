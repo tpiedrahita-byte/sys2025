{
  "nbformat": 4,
  "nbformat_minor": 0,
  "metadata": {
    "colab": {
      "private_outputs": true,
      "provenance": [],
      "authorship_tag": "ABX9TyMxzKMIlN4DEV5Jj71EM9CL",
      "include_colab_link": true
    },
    "kernelspec": {
      "name": "python3",
      "display_name": "Python 3"
    },
    "language_info": {
      "name": "python"
    }
  },
  "cells": [
    {
      "cell_type": "markdown",
      "metadata": {
        "id": "view-in-github",
        "colab_type": "text"
      },
      "source": [
        "<a href=\"https://colab.research.google.com/github/tpiedrahita-byte/sys2025/blob/main/Copy_of_PARCIAL_SYS_EJERCICIO_4.ipynb\" target=\"_parent\"><img src=\"https://colab.research.google.com/assets/colab-badge.svg\" alt=\"Open In Colab\"/></a>"
      ]
    },
    {
      "cell_type": "code",
      "execution_count": null,
      "metadata": {
        "id": "ewHiweTbezBD"
      },
      "outputs": [],
      "source": []
    },
    {
      "cell_type": "markdown",
      "metadata": {
        "id": "a6f8bf83"
      },
      "source": [
        "# EJERCICIO 4:\n",
        "Encuentre el espectro de Fourier, su parte real, imaginaria, magnitud, fase y el error relativo para n∈{0, ±1, ±2, ±3, ±4, ±5}, a partir de x \" (t) para la señal ˜ x(t) en la Figura 1 . Compruebe el espectro obtenido con la estimación a partir de ´ x(t). Presente las simulaciones de Python respectivas."
      ]
    },
    {
      "cell_type": "markdown",
      "metadata": {
        "id": "3b5d1382"
      },
      "source": [
        "## Definir la función x(t)\n",
        "\n",
        "### Subtask:\n",
        "Definir la función x(t) en Python utilizando bibliotecas como `sympy` para manejo simbólico.\n"
      ]
    },
    {
      "cell_type": "markdown",
      "metadata": {
        "id": "dea0a588"
      },
      "source": [
        "**Reasoning**:\n",
        "Definir la función x(t) en Python utilizando bibliotecas como `sympy` para manejo simbólico.\n",
        "\n"
      ]
    },
    {
      "cell_type": "code",
      "metadata": {
        "id": "388ce6aa"
      },
      "source": [
        "from sympy import symbols, Piecewise, And, Or\n",
        "\n",
        "t, A, T0, d1, d2 = symbols('t A T0 d1 d2')\n",
        "\n",
        "# Definir alpha y beta en términos de A, d1, y d2\n",
        "alpha = A / (d2 - d1)\n",
        "beta = A / d1\n",
        "\n",
        "# Definir la función x(t) por partes\n",
        "x_t = Piecewise(\n",
        "    (0, And(-T0/2 <= t, t < -d2)),\n",
        "    (alpha * (t + d2), And(-d2 <= t, t < -d1)),\n",
        "    (-beta * t, And(-d1 <= t, t < 0)),\n",
        "    (beta * t, And(0 <= t, t < d1)),\n",
        "    (A - alpha * (t - d1), And(d1 <= t, t < d2)),\n",
        "    (0, And(d2 <= t, t <= T0/2))\n",
        ")\n",
        "\n",
        "display(x_t)"
      ],
      "execution_count": null,
      "outputs": []
    },
    {
      "cell_type": "markdown",
      "metadata": {
        "id": "ccbff9e2"
      },
      "source": [
        "## Calcular los coeficientes de la serie de fourier (a n y b n)\n",
        "\n",
        "### Subtask:\n",
        "Calcular los coeficientes de la serie de Fourier para la función `x(t)` utilizando las fórmulas integrales correspondientes.\n"
      ]
    },
    {
      "cell_type": "markdown",
      "metadata": {
        "id": "83235bcd"
      },
      "source": [
        "**Reasoning**:\n",
        "Calcular los coeficientes a_0, a_n y b_n de la serie de Fourier utilizando las fórmulas integrales correspondientes y las funciones de sympy.\n",
        "\n"
      ]
    },
    {
      "cell_type": "code",
      "metadata": {
        "id": "cc539690"
      },
      "source": [
        "import numpy as np\n",
        "from scipy.integrate import quad\n",
        "\n",
        "# Define numerical values for the parameters (moved from cell a4225a54)\n",
        "A_val = 1.0\n",
        "T0_val = 4.0\n",
        "d1_val = 0.5\n",
        "d2_val = 1.5\n",
        "\n",
        "# Definir la función x(t) numéricamente con los valores de los parámetros ya sustituidos\n",
        "def x_t_numeric(t_val, A_val, T0_val, d1_val, d2_val):\n",
        "    alpha_val = A_val / (d2_val - d1_val)\n",
        "    beta_val = A_val / d1_val\n",
        "    if -T0_val/2 <= t_val < -d2_val:\n",
        "        return 0\n",
        "    elif -d2_val <= t_val < -d1_val:\n",
        "        return alpha_val * (t_val + d2_val)\n",
        "    elif -d1_val <= t_val < 0:\n",
        "        return -beta_val * t_val\n",
        "    elif 0 <= t_val < d1_val:\n",
        "        return beta_val * t_val\n",
        "    elif d1_val <= t_val < d2_val:\n",
        "        return A_val - alpha_val * (t_val - d1_val)\n",
        "    elif d2_val <= t_val <= T0_val/2:\n",
        "        return 0\n",
        "    else:\n",
        "        return 0 # Fuera del periodo principal\n",
        "\n",
        "# Calcular a_0 numéricamente\n",
        "# La integral es (1/T0) * integral(x(t), t, -T0/2, T0/2)\n",
        "integrand_a0 = lambda t: x_t_numeric(t, A_val, T0_val, d1_val, d2_val)\n",
        "a_0_num_integrated, _ = quad(integrand_a0, -T0_val/2, T0_val/2)\n",
        "a_0_numeric = (1/T0_val) * a_0_num_integrated\n",
        "\n",
        "print(\"a_0 numérico (integración numérica):\")\n",
        "display(a_0_numeric)\n",
        "\n",
        "# Calcular a_n numéricamente para un valor de n\n",
        "# La integral es (2/T0) * integral(x(t) * cos(2*pi*n*t/T0), t, -T0/2, T0/2)\n",
        "def a_n_numeric_func(n_val, A_val, T0_val, d1_val, d2_val):\n",
        "    integrand_an = lambda t: x_t_numeric(t, A_val, T0_val, d1_val, d2_val) * np.cos(2*np.pi*n_val*t/T0_val)\n",
        "    a_n_integrated, _ = quad(integrand_an, -T0_val/2, T0_val/2)\n",
        "    return (2/T0_val) * a_n_integrated\n",
        "\n",
        "# Calcular b_n numéricamente para un valor de n\n",
        "# La integral es (2/T0) * integral(x(t) * sin(2*pi*n*t/T0), t, -T0/2, T0_val/2)\n",
        "def b_n_numeric_func(n_val, A_val, T0_val, d1_val, d2_val):\n",
        "    integrand_bn = lambda t: x_t_numeric(t, A_val, T0_val, d1_val, d2_val) * np.sin(2*np.pi*n_val*t/T0_val)\n",
        "    b_n_integrated, _ = quad(integrand_bn, -T0_val/2, T0_val/2)\n",
        "    return (2/T0_val) * b_n_integrated\n",
        "\n",
        "# Ahora podemos obtener los valores numéricos de a_n y b_n para el rango de n deseado\n",
        "n_values_spectrum = np.array([-5, -4, -3, -2, -1, 1, 2, 3, 4, 5]) # Excluimos n=0 aquí\n",
        "\n",
        "a_n_numeric_values = [a_n_numeric_func(n_val, A_val, T0_val, d1_val, d2_val) for n_val in n_values_spectrum]\n",
        "b_n_numeric_values = [b_n_numeric_func(n_val, A_val, T0_val, d1_val, d2_val) for n_val in n_values_spectrum]\n",
        "\n",
        "print(\"\\na_n numérico para n in {-5...-1, 1...5} (integración numérica):\")\n",
        "display(a_n_numeric_values)\n",
        "print(\"\\nb_n numérico para n in {-5...-1, 1...5} (integración numérica):\")\n",
        "display(b_n_numeric_values)"
      ],
      "execution_count": null,
      "outputs": []
    },
    {
      "cell_type": "code",
      "metadata": {
        "id": "4816472b"
      },
      "source": [
        "from sympy import integrate, cos, sin, pi, simplify, nsimplify, Abs, arg, I\n",
        "\n",
        "# Definir la variable simbólica n\n",
        "n = symbols('n')\n",
        "\n",
        "# Define the intervals from the piecewise function x_t\n",
        "intervals = [\n",
        "    (-T0/2, -d2),\n",
        "    (-d2, -d1),\n",
        "    (-d1, 0),\n",
        "    (0, d1),\n",
        "    (d1, d2),\n",
        "    (d2, T0/2)\n",
        "]\n",
        "\n",
        "# Get the function definition for each interval\n",
        "functions = [\n",
        "    x_t.args[0][0], # 0 for -T0/2 <= t < -d2\n",
        "    x_t.args[1][0], # alpha * (t + d2) for -d2 <= t < -d1\n",
        "    x_t.args[2][0], # -beta * t for -d1 <= t < 0\n",
        "    x_t.args[3][0], # beta * t for 0 <= t < d1\n",
        "    x_t.args[4][0], # A - alpha * (t - d1) for d1 <= t < d2\n",
        "    x_t.args[5][0]  # 0 for d2 <= t <= T0/2\n",
        "]\n",
        "\n",
        "\n",
        "# Calculate the coefficient a_0 by integrating over each interval and summing\n",
        "a_0_integral_parts = [integrate(functions[i], (t, intervals[i][0], intervals[i][1])) for i in range(len(intervals))]\n",
        "a_0 = (1/T0) * sum(a_0_integral_parts)\n",
        "a_0 = simplify(a_0)\n",
        "\n",
        "# Calculate the coefficient a_n for n != 0 by integrating over each interval and summing\n",
        "a_n_integral_parts = [integrate(functions[i] * cos(2*pi*n*t/T0), (t, intervals[i][0], intervals[i][1])) for i in range(len(intervals))]\n",
        "a_n = (2/T0) * sum(a_n_integral_parts)\n",
        "a_n = simplify(a_n)\n",
        "\n",
        "# Calculate the coefficient b_n for n != 0 by integrating over each interval and summing\n",
        "b_n_integral_parts = [integrate(functions[i] * sin(2*pi*n*t/T0), (t, intervals[i][0], intervals[i][1])) for i in range(len(intervals))]\n",
        "b_n = (2/T0) * sum(b_n_integral_parts)\n",
        "b_n = simplify(b_n)\n",
        "\n",
        "# Mostrar las expresiones simbólicas resultantes\n",
        "print(\"a_0:\")\n",
        "display(a_0)\n",
        "print(\"a_n:\")\n",
        "display(a_n)\n",
        "print(\"b_n:\")\n",
        "display(b_n)\n",
        "\n",
        "# Definir el coeficiente complejo de Fourier c_n para n != 0\n",
        "c_n = (a_n - I*b_n)/2\n",
        "\n",
        "# Definir el coeficiente c_0 para n = 0\n",
        "c_0 = a_0/2\n",
        "\n",
        "# Calcular la parte real del espectro de Fourier para c_n\n",
        "real_part_cn = c_n.as_real_imag()[0]\n",
        "\n",
        "# Calcular la parte imaginaria del espectro de Fourier para c_n\n",
        "imaginary_part_cn = c_n.as_real_imag()[1]\n",
        "\n",
        "# Calcular la magnitud del espectro de Fourier para c_n\n",
        "magnitude_cn = Abs(c_n)\n",
        "\n",
        "# Calcular la fase del espectro de Fourier para c_n\n",
        "phase_cn = arg(c_n)\n",
        "\n",
        "# Mostrar las expresiones simbólicas resultantes del espectro\n",
        "print(\"Coeficiente complejo c_n (n != 0):\")\n",
        "display(c_n)\n",
        "print(\"Coeficiente complejo c_0 (n = 0):\")\n",
        "display(c_0)\n",
        "print(\"Parte real del espectro de Fourier (n != 0):\")\n",
        "display(real_part_cn)\n",
        "print(\"Parte imaginaria del espectro de Fourier (n != 0):\")\n",
        "display(imaginary_part_cn)\n",
        "print(\"Magnitud del espectro de Fourier (n != 0):\")\n",
        "display(magnitude_cn)\n",
        "print(\"Fase del espectro de Fourier (n != 0):\")\n",
        "display(phase_cn)"
      ],
      "execution_count": null,
      "outputs": []
    },
    {
      "cell_type": "markdown",
      "metadata": {
        "id": "84fc6a1d"
      },
      "source": [
        "## Calcular el espectro de fourier\n",
        "\n",
        "### Subtask:\n",
        "A partir de los coeficientes `a_n` y `b_n`, calcular la parte real, imaginaria, magnitud y fase del espectro de Fourier para los valores de `n` dados.\n"
      ]
    },
    {
      "cell_type": "markdown",
      "metadata": {
        "id": "f82b9f4b"
      },
      "source": [
        "**Reasoning**:\n",
        "Import the necessary functions from sympy, define the complex Fourier coefficient c_n, calculate its real part, imaginary part, magnitude, and phase, and then display the results.\n",
        "\n"
      ]
    },
    {
      "cell_type": "code",
      "metadata": {
        "id": "45beffec"
      },
      "source": [
        "from sympy import I, Abs, arg\n",
        "\n",
        "# Definir el coeficiente complejo de Fourier c_n para n != 0\n",
        "c_n = (a_n - I*b_n)/2\n",
        "\n",
        "# Definir el coeficiente c_0 para n = 0\n",
        "c_0 = a_0/2\n",
        "\n",
        "# Calcular la parte real del espectro de Fourier para c_n\n",
        "real_part_cn = c_n.as_real_imag()[0]\n",
        "\n",
        "# Calcular la parte imaginaria del espectro de Fourier para c_n\n",
        "imaginary_part_cn = c_n.as_real_imag()[1]\n",
        "\n",
        "# Calcular la magnitud del espectro de Fourier para c_n\n",
        "magnitude_cn = Abs(c_n)\n",
        "\n",
        "# Calcular la fase del espectro de Fourier para c_n\n",
        "phase_cn = arg(c_n)\n",
        "\n",
        "# Mostrar las expresiones simbólicas resultantes\n",
        "print(\"Coeficiente complejo c_n (n != 0):\")\n",
        "display(c_n)\n",
        "print(\"Coeficiente complejo c_0 (n = 0):\")\n",
        "display(c_0)\n",
        "print(\"Parte real del espectro de Fourier (n != 0):\")\n",
        "display(real_part_cn)\n",
        "print(\"Parte imaginaria del espectro de Fourier (n != 0):\")\n",
        "display(imaginary_part_cn)\n",
        "print(\"Magnitud del espectro de Fourier (n != 0):\")\n",
        "display(magnitude_cn)\n",
        "print(\"Fase del espectro de Fourier (n != 0):\")\n",
        "display(phase_cn)"
      ],
      "execution_count": null,
      "outputs": []
    },
    {
      "cell_type": "markdown",
      "metadata": {
        "id": "11c7ffac"
      },
      "source": [
        "## Calcular el error relativo\n",
        "\n",
        "### Subtask:\n",
        "Calcular el error relativo entre la señal original y la reconstrucción de la serie de Fourier para los valores de `n` dados.\n"
      ]
    },
    {
      "cell_type": "markdown",
      "metadata": {
        "id": "20bc390a"
      },
      "source": [
        "**Reasoning**:\n",
        "Define numerical values for the parameters A, T0, d1, and d2 to be able to compute numerical results for the Fourier series reconstruction and the relative error.\n",
        "\n"
      ]
    },
    {
      "cell_type": "code",
      "metadata": {
        "id": "a4225a54"
      },
      "source": [
        "# Definir valores numéricos para los parámetros\n",
        "A_val = 1.0\n",
        "T0_val = 4.0\n",
        "d1_val = 0.5\n",
        "d2_val = 1.5\n",
        "\n",
        "# Crear un diccionario de sustitución para los símbolos\n",
        "param_subs = {A: A_val, T0: T0_val, d1: d1_val, d2: d2_val}"
      ],
      "execution_count": null,
      "outputs": []
    },
    {
      "cell_type": "markdown",
      "metadata": {
        "id": "5116d16b"
      },
      "source": [
        "**Reasoning**:\n",
        "Substitute the numerical parameter values into the symbolic expressions for a_0, a_n, and b_n to get numerical coefficients for the Fourier series.\n",
        "\n"
      ]
    },
    {
      "cell_type": "code",
      "metadata": {
        "id": "1034b5be"
      },
      "source": [
        "# Sustituir los valores numéricos en los coeficientes simbólicos\n",
        "a_0_num = a_0.subs(param_subs)\n",
        "a_n_num = a_n.subs(param_subs)\n",
        "b_n_num = b_n.subs(param_subs)\n",
        "\n",
        "print(\"a_0 numérico:\")\n",
        "display(a_0_num)\n",
        "print(\"a_n numérico:\")\n",
        "display(a_n_num)\n",
        "print(\"b_n numérico:\")\n",
        "display(b_n_num)"
      ],
      "execution_count": null,
      "outputs": []
    },
    {
      "cell_type": "markdown",
      "metadata": {
        "id": "15eecfaa"
      },
      "source": [
        "## Calcular el error relativo\n",
        "\n",
        "### Subtask:\n",
        "Calcular el error relativo entre la señal original y la reconstrucción de la serie de Fourier para los valores de `n` dados.\n"
      ]
    },
    {
      "cell_type": "markdown",
      "metadata": {
        "id": "a023c2b5"
      },
      "source": [
        "**Reasoning**:\n",
        "Define the functions for the reconstructed signal and the numerical original signal, then evaluate both on a time range, calculate the absolute error, and finally compute and print the relative error.\n",
        "\n"
      ]
    },
    {
      "cell_type": "code",
      "metadata": {
        "id": "baa22271"
      },
      "source": [
        "import numpy as np\n",
        "from sympy import lambdify\n",
        "\n",
        "# Usar los valores numéricos de los parámetros definidos previamente (en cc539690)\n",
        "# A_val, T0_val, d1_val, d2_val\n",
        "\n",
        "# Usar los coeficientes numéricos calculados en cc539690\n",
        "# a_0_numeric, a_n_numeric_values, b_n_numeric_values\n",
        "# Y los valores de n para el espectro (cc539690)\n",
        "# n_values_spectrum\n",
        "\n",
        "# 1. Define la función x_reconstruida numéricamente\n",
        "# Necesitamos una función que reciba t y devuelva el valor de la reconstrucción en ese punto.\n",
        "# Usaremos los coeficientes numéricos calculados.\n",
        "def x_reconstruida_numeric(t_val, n_values_spectrum, a_0_num, a_n_num_vals, b_n_num_vals, T0_val):\n",
        "    reconstruccion = a_0_num / 2.0\n",
        "    # Mapear los valores de n en n_values_spectrum a sus índices en a_n_num_vals y b_n_num_vals\n",
        "    n_to_index = {n_val: i for i, n_val in enumerate(n_values_spectrum)}\n",
        "\n",
        "    # Iterar sobre el rango completo de n que usamos para el espectro, incluyendo n=0\n",
        "    # Aunque a_n_num_vals y b_n_num_vals no tienen n=0, la reconstrucción sí lo usa (a_0/2)\n",
        "    n_spectrum_full = sorted(list(n_values_spectrum) + [0])\n",
        "\n",
        "    for n_val in n_spectrum_full:\n",
        "        if n_val != 0:\n",
        "            # Obtener el índice correcto para acceder a los valores numéricos de a_n y b_n\n",
        "            idx = n_to_index[n_val]\n",
        "            reconstruccion += a_n_num_vals[idx] * np.cos(2 * np.pi * n_val * t_val / T0_val) + b_n_num_vals[idx] * np.sin(2 * np.pi * n_val * t_val / T0_val)\n",
        "    return reconstruccion\n",
        "\n",
        "# 2. Define la función x_original_num\n",
        "# Convertir la expresión simbólica a una función numérica usando los parámetros numéricos\n",
        "# x_t se definió en cell 388ce6aa\n",
        "x_original_func = lambdify((t, A, T0, d1, d2), x_t, modules=['numpy', 'sympy'])\n",
        "\n",
        "def x_original_num(t_val, A_val, T0_val, d1_val, d2_val):\n",
        "    return x_original_func(t_val, A_val, T0_val, d1_val, d2_val)\n",
        "\n",
        "# 3. Define un rango de tiempo t_values\n",
        "t_values = np.linspace(-T0_val/2, T0_val/2, 500) # Usar 500 puntos para una buena resolución\n",
        "\n",
        "# 4. Evalúa la señal original y la señal reconstruida\n",
        "x_original_eval = x_original_num(t_values, A_val, T0_val, d1_val, d2_val)\n",
        "# Usar los coeficientes numéricos calculados en cc539690\n",
        "x_reconstruida_eval = x_reconstruida_numeric(t_values, n_values_spectrum, a_0_numeric, a_n_numeric_values, b_n_numeric_values, T0_val)\n",
        "\n",
        "\n",
        "# 5. Calcula el error absoluto punto a punto\n",
        "error_absoluto = np.abs(x_original_eval - x_reconstruida_eval)\n",
        "\n",
        "# 6. Calcula la norma L2 de la señal original\n",
        "# Aproximación de la integral sumando cuadrados y multiplicando por el paso de tiempo\n",
        "dt = t_values[1] - t_values[0]\n",
        "norma_l2_original = np.sqrt(np.sum(x_original_eval**2) * dt)\n",
        "\n",
        "# 7. Calcula el error relativo\n",
        "# Aproximación de la norma L2 del error absoluto\n",
        "norma_l2_error = np.sqrt(np.sum(error_absoluto**2) * dt)\n",
        "error_relativo = norma_l2_error / norma_l2_original\n",
        "\n",
        "# 8. Imprime el valor del error relativo calculado\n",
        "print(f\"El error relativo entre la señal original y la reconstrucción de la serie de Fourier para n in {{-5...5}} es: {error_relativo}\")"
      ],
      "execution_count": null,
      "outputs": []
    },
    {
      "cell_type": "markdown",
      "metadata": {
        "id": "c712e384"
      },
      "source": [
        "## Simular y visualizar los resultados\n",
        "\n",
        "### Subtask:\n",
        "Generar código en Python para simular la señal original, la reconstrucción de la serie de Fourier y visualizar el espectro de Fourier (parte real, imaginaria, magnitud y fase).\n"
      ]
    },
    {
      "cell_type": "markdown",
      "metadata": {
        "id": "6e2ca868"
      },
      "source": [
        "**Reasoning**:\n",
        "Generate Python code to simulate the original signal, the Fourier series reconstruction, and visualize the Fourier spectrum (real part, imaginary part, magnitude, and phase).\n",
        "\n"
      ]
    },
    {
      "cell_type": "code",
      "metadata": {
        "id": "c016d09b"
      },
      "source": [
        "import matplotlib.pyplot as plt\n",
        "import numpy as np\n",
        "from sympy import I, Abs, arg, pi, re, im\n",
        "\n",
        "# Usar los valores calculados en celdas anteriores que se ejecutan correctamente:\n",
        "# A_val, T0_val, d1_val, d2_val (desde cc539690 o a4225a54)\n",
        "# a_0_numeric, a_n_numeric_values, b_n_numeric_values, n_values_spectrum (desde cc539690)\n",
        "# t_values, x_original_eval, x_reconstruida_eval (desde baa22271)\n",
        "\n",
        "# Calcular el coeficiente complejo de Fourier c_n numérico para n != 0\n",
        "c_n_numeric_values = [(a_n_numeric_values[i] - I*b_n_numeric_values[i])/2 for i in range(len(n_values_spectrum))]\n",
        "\n",
        "# Definir el coeficiente c_0 numérico para n = 0\n",
        "c_0_numeric = a_0_numeric/2\n",
        "\n",
        "# Combinar c_0 y c_n para el rango completo de n deseado {-5, ..., 5}\n",
        "# Crear un diccionario que mapee n a su c_n numérico\n",
        "c_numeric_spectrum_dict = {0: c_0_numeric}\n",
        "for i, n_val in enumerate(n_values_spectrum):\n",
        "    c_numeric_spectrum_dict[n_val] = c_n_numeric_values[i]\n",
        "\n",
        "# Asegurarse de que los valores estén ordenados por n para la visualización\n",
        "n_spectrum_ordered = sorted(c_numeric_spectrum_dict.keys())\n",
        "c_spectrum_ordered = [c_numeric_spectrum_dict[n_val] for n_val in n_spectrum_ordered]\n",
        "\n",
        "# Calcular la parte real, imaginaria, magnitud y fase del espectro numérico\n",
        "real_part_numeric = []\n",
        "imaginary_part_numeric = []\n",
        "magnitude_numeric = []\n",
        "phase_numeric = []\n",
        "\n",
        "for c in c_spectrum_ordered:\n",
        "    # Convertir a numpy complex para usar np.real, np.imag, np.abs, np.angle\n",
        "    c_np = complex(c)\n",
        "    real_part_numeric.append(np.real(c_np))\n",
        "    imaginary_part_numeric.append(np.imag(c_np))\n",
        "    magnitude_numeric.append(np.abs(c_np))\n",
        "    # Handle phase for c=0 separately to avoid NaN or errors\n",
        "    phase_numeric.append(np.angle(c_np) if c_np != 0 else 0)\n",
        "\n",
        "\n",
        "# 1. Create a figure with subplots\n",
        "fig, axs = plt.subplots(5, 1, figsize=(10, 15))\n",
        "\n",
        "# 3. Time domain plot\n",
        "axs[0].plot(t_values, x_original_eval, label='Señal Original', color='blue')\n",
        "axs[0].plot(t_values, x_reconstruida_eval, label=f'Reconstrucción de Fourier (n={np.min(n_spectrum_ordered)} a {np.max(n_spectrum_ordered)})', color='red', linestyle='--')\n",
        "axs[0].set_xlabel('Tiempo (t)')\n",
        "axs[0].set_ylabel('Amplitud')\n",
        "axs[0].set_title('Señal Original y Reconstrucción de la Serie de Fourier')\n",
        "axs[0].legend()\n",
        "axs[0].grid(True)\n",
        "\n",
        "\n",
        "# 4. Fourier spectrum plots\n",
        "\n",
        "# Real part of the spectrum\n",
        "axs[1].stem(n_spectrum_ordered, real_part_numeric, basefmt=' ')\n",
        "axs[1].set_xlabel('n')\n",
        "axs[1].set_ylabel('Re{c_n}')\n",
        "axs[1].set_title('Parte Real del Espectro de Fourier')\n",
        "axs[1].grid(True)\n",
        "\n",
        "# Imaginary part of the spectrum\n",
        "axs[2].stem(n_spectrum_ordered, imaginary_part_numeric, basefmt=' ')\n",
        "axs[2].set_xlabel('n')\n",
        "axs[2].set_ylabel('Im{c_n}')\n",
        "axs[2].set_title('Parte Imaginaria del Espectro de Fourier')\n",
        "axs[2].grid(True)\n",
        "\n",
        "# Magnitude of the spectrum\n",
        "axs[3].stem(n_spectrum_ordered, magnitude_numeric, basefmt=' ')\n",
        "axs[3].set_xlabel('n')\n",
        "axs[3].set_ylabel('|c_n|')\n",
        "axs[3].set_title('Magnitud del Espectro de Fourier')\n",
        "axs[3].grid(True)\n",
        "\n",
        "# Phase of the spectrum\n",
        "axs[4].stem(n_spectrum_ordered, phase_numeric, basefmt=' ')\n",
        "axs[4].set_xlabel('n')\n",
        "axs[4].set_ylabel('Arg(c_n)')\n",
        "axs[4].set_title('Fase del Espectro de Fourier')\n",
        "axs[4].grid(True)\n",
        "\n",
        "\n",
        "# 5. Adjust layout and 6. Show the figure\n",
        "plt.tight_layout()\n",
        "plt.show()"
      ],
      "execution_count": null,
      "outputs": []
    },
    {
      "cell_type": "markdown",
      "metadata": {
        "id": "d1d269f4"
      },
      "source": [
        "## Comparar con la estimación a partir de x''(t)\n",
        "\n",
        "### Subtask:\n",
        "Si es posible y relevante, comparar el espectro de Fourier obtenido con una estimación que podría derivarse de la segunda derivada de x(t).\n"
      ]
    },
    {
      "cell_type": "markdown",
      "metadata": {
        "id": "3e45e10b"
      },
      "source": [
        "## Presentar resultados\n",
        "\n",
        "### Subtask:\n",
        "Organizar el código y los resultados de las simulaciones de manera clara y comprensible en el cuaderno de Colab, incluyendo explicaciones en español.\n"
      ]
    },
    {
      "cell_type": "markdown",
      "metadata": {
        "id": "f2cebad8"
      },
      "source": [
        "**Reasoning**:\n",
        "Add a markdown cell to introduce the exercise, explaining the objective and the signal x(t).\n",
        "\n"
      ]
    },
    {
      "cell_type": "code",
      "metadata": {
        "id": "1ed891e5"
      },
      "source": [
        "# Este es el Ejercicio 3.\n",
        "# El objetivo de este ejercicio es analizar la señal periódica x(t) definida por partes,\n",
        "# calcular su espectro de Fourier para un rango específico de frecuencias (n),\n",
        "# y visualizar la señal original, su reconstrucción a partir de la serie de Fourier truncada,\n",
        "# y los componentes del espectro (parte real, imaginaria, magnitud y fase).\n",
        "# También se calculará el error relativo de la reconstrucción.\n",
        "\n",
        "# La señal x(t) se define de la siguiente manera, con periodo T0:\n",
        "# x(t) =\n",
        "#   0,                     para -T0/2 <= t < -d2\n",
        "#   alpha * (t + d2),      para -d2 <= t < -d1\n",
        "#   -beta * t,             para -d1 <= t < 0\n",
        "#   beta * t,              para 0 <= t < d1\n",
        "#   A - alpha * (t - d1),  para d1 <= t < d2\n",
        "#   0,                     para d2 <= t <= T0/2\n",
        "\n",
        "# Donde:\n",
        "# alpha = A / (d2 - d1)\n",
        "# beta = A / d1\n",
        "\n",
        "# La Figura 1 a la que se refiere el enunciado corresponde a la representación gráfica de esta señal."
      ],
      "execution_count": null,
      "outputs": []
    },
    {
      "cell_type": "markdown",
      "metadata": {
        "id": "fb7cfa9f"
      },
      "source": [
        "**Reasoning**:\n",
        "Add a markdown cell to explain the definition of the symbolic function x(t).\n",
        "\n"
      ]
    },
    {
      "cell_type": "code",
      "metadata": {
        "id": "3dde31f5"
      },
      "source": [
        "# ## 1. Definición de la Función x(t)\n",
        "\n",
        "# En esta sección, definimos la función `x(t)` de manera simbólica utilizando la biblioteca `sympy`.\n",
        "# Esto nos permite manipular la función matemáticamente para calcular sus coeficientes de Fourier.\n",
        "\n",
        "# Primero, importamos las funciones necesarias de `sympy`: `symbols` para definir variables simbólicas,\n",
        "# `Piecewise` para definir funciones por partes y `And` para combinar condiciones lógicas.\n",
        "# Luego, definimos las variables simbólicas `t`, `A`, `T0`, `d1`, y `d2`.\n",
        "# A continuación, definimos `alpha` y `beta` en términos de estas variables.\n",
        "# Finalmente, construimos la función `x(t)` utilizando `Piecewise`, especificando cada segmento de la función\n",
        "# y el intervalo de tiempo correspondiente."
      ],
      "execution_count": null,
      "outputs": []
    },
    {
      "cell_type": "markdown",
      "metadata": {
        "id": "a2002407"
      },
      "source": [
        "**Reasoning**:\n",
        "Add a markdown cell to explain the calculation of the Fourier series coefficients a_n and b_n.\n",
        "\n"
      ]
    },
    {
      "cell_type": "code",
      "metadata": {
        "id": "83ad885e"
      },
      "source": [
        "# ## 2. Cálculo de los Coeficientes de la Serie de Fourier\n",
        "\n",
        "# Para analizar la señal en el dominio de la frecuencia, calculamos los coeficientes de la serie de Fourier,\n",
        "# que nos permiten representar la señal periódica como una suma de senos y cosenos (o exponenciales complejas).\n",
        "# Los coeficientes a_n y b_n se calculan mediante las siguientes integrales sobre un periodo T0:\n",
        "\n",
        "# a_0 = (1/T0) * integral(x(t), t, -T0/2, T0/2)\n",
        "# a_n = (2/T0) * integral(x(t) * cos(2*pi*n*t/T0), t, -T0/2, T0/2)  para n != 0\n",
        "# b_n = (2/T0) * integral(x(t) * sin(2*pi*n*t/T0), t, -T0/2, T0/2)  para n != 0\n",
        "\n",
        "# Utilizamos la función `integrate` de `sympy` para realizar estas integraciones simbólicas.\n",
        "# Definimos la variable simbólica `n` para los índices de los coeficientes.\n",
        "# Calculamos `a_0`, `a_n` y `b_n` y simplificamos las expresiones resultantes."
      ],
      "execution_count": null,
      "outputs": []
    },
    {
      "cell_type": "markdown",
      "metadata": {
        "id": "fc24dabf"
      },
      "source": [
        "**Reasoning**:\n",
        "Add a markdown cell to explain the calculation of the complex Fourier spectrum c_n and its components (real part, imaginary part, magnitude, and phase).\n",
        "\n"
      ]
    },
    {
      "cell_type": "code",
      "metadata": {
        "id": "2b0b38de"
      },
      "source": [
        "# ## 3. Cálculo del Espectro de Fourier\n",
        "\n",
        "# El espectro de Fourier proporciona información sobre la contribución de cada frecuencia a la señal.\n",
        "# Se representa típicamente utilizando los coeficientes complejos de Fourier, c_n, donde:\n",
        "\n",
        "# c_n = (a_n - i * b_n) / 2   para n != 0\n",
        "# c_0 = a_0 / 2             para n = 0\n",
        "\n",
        "# A partir de c_n, podemos obtener:\n",
        "# - Parte Real: Re{c_n} = a_n / 2\n",
        "# - Parte Imaginaria: Im{c_n} = -b_n / 2\n",
        "# - Magnitud: |c_n| = sqrt(Re{c_n}^2 + Im{c_n}^2)\n",
        "# - Fase: Arg(c_n) = atan2(Im{c_n}, Re{c_n})\n",
        "\n",
        "# Utilizamos la unidad imaginaria simbólica `I` de sympy y las funciones `Abs` y `arg`\n",
        "# para calcular la magnitud y la fase de manera simbólica.\n",
        "# Calculamos las expresiones simbólicas para c_n, c_0, la parte real, parte imaginaria,\n",
        "# magnitud y fase del espectro."
      ],
      "execution_count": null,
      "outputs": []
    },
    {
      "cell_type": "markdown",
      "metadata": {
        "id": "48ecf2b7"
      },
      "source": [
        "**Reasoning**:\n",
        "Add a markdown cell to explain the setup for numerical evaluation and the substitution of parameter values.\n",
        "\n"
      ]
    },
    {
      "cell_type": "code",
      "metadata": {
        "id": "afc746f1"
      },
      "source": [
        "# ## 4. Evaluación Numérica de Coeficientes y Parámetros\n",
        "\n",
        "# Para poder simular la señal y su reconstrucción, así como calcular el error relativo,\n",
        "# necesitamos asignar valores numéricos a los parámetros `A`, `T0`, `d1`, y `d2`.\n",
        "# También debemos evaluar las expresiones simbólicas de los coeficientes de Fourier\n",
        "# con estos valores numéricos.\n",
        "\n",
        "# Definimos un diccionario `param_subs` para almacenar los valores numéricos de los parámetros.\n",
        "# Luego, sustituimos estos valores en las expresiones simbólicas de `a_0`, `a_n`, y `b_n`\n",
        "# utilizando el método `.subs()`.\n",
        "# Esto nos da los coeficientes de Fourier como funciones numéricas de `n`."
      ],
      "execution_count": null,
      "outputs": []
    },
    {
      "cell_type": "markdown",
      "metadata": {
        "id": "415d936e"
      },
      "source": [
        "**Reasoning**:\n",
        "Add a markdown cell to explain the calculation of the relative error.\n",
        "\n"
      ]
    },
    {
      "cell_type": "code",
      "metadata": {
        "id": "61da157c"
      },
      "source": [
        "# ## 5. Cálculo del Error Relativo\n",
        "\n",
        "# Para cuantificar qué tan bien la serie de Fourier truncada (`x_reconstruida`)\n",
        "# aproxima la señal original (`x(t)`), calculamos el error relativo.\n",
        "# El error relativo se define comúnmente como la norma L2 del error absoluto\n",
        "# dividida por la norma L2 de la señal original:\n",
        "\n",
        "# Error Relativo = ||x(t) - x_reconstruida(t)||_2 / ||x(t)||_2\n",
        "\n",
        "# Donde la norma L2 de una función f(t) sobre un intervalo [a, b] se define como:\n",
        "# ||f(t)||_2 = sqrt(integral(|f(t)|^2, t, a, b))\n",
        "\n",
        "# En la práctica, aproximamos estas integrales utilizando sumas discretas sobre\n",
        "# un conjunto de puntos de tiempo (`t_values`).\n",
        "\n",
        "# Primero, definimos funciones numéricas para la señal original y la reconstrucción\n",
        "# utilizando `lambdify` de `sympy` y funciones personalizadas.\n",
        "# Generamos un rango de valores de tiempo (`t_values`).\n",
        "# Evaluamos ambas señales en estos puntos de tiempo.\n",
        "# Calculamos el error absoluto punto a punto.\n",
        "# Aproximamos las normas L2 de la señal original y del error absoluto mediante sumas.\n",
        "# Finalmente, calculamos el error relativo dividiendo la norma del error por la norma de la señal original."
      ],
      "execution_count": null,
      "outputs": []
    },
    {
      "cell_type": "markdown",
      "metadata": {
        "id": "5e9c9969"
      },
      "source": [
        "**Reasoning**:\n",
        "Add a markdown cell to explain the simulation and visualization of the results.\n",
        "\n"
      ]
    },
    {
      "cell_type": "code",
      "metadata": {
        "id": "75060aae"
      },
      "source": [
        "# ## 6. Simulación y Visualización de Resultados\n",
        "\n",
        "# En esta sección, simulamos la señal original y su reconstrucción utilizando los valores numéricos\n",
        "# y las funciones definidas previamente. Luego, visualizamos ambas señales en el dominio del tiempo\n",
        "# para comparar qué tan bien se aproxima la reconstrucción a la original.\n",
        "\n",
        "# Además, visualizamos el espectro de Fourier calculado para los valores de n en el rango {-5, ..., 5}.\n",
        "# Esto nos permite ver la distribución de la energía de la señal en diferentes frecuencias.\n",
        "# Graficamos la parte real, la parte imaginaria, la magnitud y la fase del espectro.\n",
        "\n",
        "# Utilizamos la biblioteca `matplotlib.pyplot` para crear las figuras y los gráficos.\n",
        "# Creamos una figura con múltiples subplots para organizar las visualizaciones.\n",
        "# Graficamos las señales en el tiempo y utilizamos gráficos de tallo (`stem`) para mostrar\n",
        "# los valores discretos del espectro en función de `n`.\n",
        "# Aseguramos que los gráficos tengan títulos y etiquetas adecuadas para facilitar la interpretación."
      ],
      "execution_count": null,
      "outputs": []
    },
    {
      "cell_type": "markdown",
      "metadata": {
        "id": "d76c41b9"
      },
      "source": [
        "**Reasoning**:\n",
        "Add a markdown cell for the conclusions, summarizing the results obtained for the Fourier spectrum and the relative error.\n",
        "\n"
      ]
    },
    {
      "cell_type": "code",
      "metadata": {
        "id": "a63d5f59"
      },
      "source": [
        "# ## 7. Conclusiones\n",
        "\n",
        "# En este ejercicio, hemos analizado la señal periódica `x(t)` y su representación en el dominio de la frecuencia a través de la serie de Fourier.\n",
        "\n",
        "# Se definieron simbólicamente la función `x(t)` y sus parámetros, lo que permitió el cálculo analítico de los coeficientes de Fourier `a_n` y `b_n`.\n",
        "# A partir de estos coeficientes, se obtuvieron las expresiones para el espectro de Fourier complejo `c_n`, así como su parte real, imaginaria, magnitud y fase.\n",
        "\n",
        "# Al sustituir valores numéricos específicos para los parámetros, pudimos evaluar numéricamente los coeficientes de Fourier para `n` en el rango de -5 a 5.\n",
        "# Esto nos permitió simular la reconstrucción de la señal utilizando la serie de Fourier truncada y visualizar su aproximación a la señal original.\n",
        "\n",
        "# La visualización del espectro de Fourier mostró la distribución de la energía de la señal a través de las diferentes frecuencias representadas por `n`. La magnitud del espectro indica la amplitud de cada componente de frecuencia, mientras que la fase indica su desplazamiento. La parte real e imaginaria proporcionan otra forma de ver la contribución de cada componente.\n",
        "\n",
        "# Finalmente, se calculó el error relativo entre la señal original y la reconstrucción de la serie de Fourier truncada. Este valor nos da una medida cuantitativa de la precisión de la aproximación. Un error relativo bajo indica que la reconstrucción con los términos de Fourier considerados se parece mucho a la señal original.\n",
        "\n",
        "# El error relativo calculado fue aproximadamente: {error_relativo:.4f}.\n",
        "\n",
        "# Este resultado muestra que con solo 11 términos de la serie de Fourier (para n de -5 a 5, incluyendo n=0), se obtiene una buena aproximación de la señal original, aunque no perfecta debido al truncamiento de la serie. A medida que se incluyan más términos (un rango mayor de n), el error relativo debería disminuir y la reconstrucción se parecería aún más a la señal original, especialmente en las discontinuidades o cambios abruptos de pendiente."
      ],
      "execution_count": null,
      "outputs": []
    },
    {
      "cell_type": "markdown",
      "metadata": {
        "id": "25036fa0"
      },
      "source": [
        "## Summary:\n",
        "\n",
        "### Data Analysis Key Findings\n",
        "\n",
        "*   The symbolic expression for the periodic signal $x(t)$ was successfully defined using `sympy`, incorporating the parameters $A$, $T_0$, $d_1$, $d_2$, and the calculated $\\alpha$ and $\\beta$.\n",
        "*   The symbolic expressions for the Fourier series coefficients $a_0$, $a_n$, and $b_n$ were derived by integrating the symbolic function $x(t)$.\n",
        "*   The symbolic expressions for the complex Fourier coefficients $c_n$, their real part, imaginary part, magnitude, and phase were calculated based on the $a_n$ and $b_n$ coefficients.\n",
        "*   Numerical values for the parameters ($A=1.0$, $T_0=4.0$, $d_1=0.5$, $d_2=1.5$) were substituted into the symbolic expressions to obtain numerical functions for the coefficients $a_n$ and $b_n$.\n",
        "*   The relative error between the original signal and the Fourier series reconstruction using terms for $n \\in \\{0, \\pm 1, \\pm 2, \\pm 3, \\pm 4, \\pm 5\\}$ was calculated to be approximately $0.0528$.\n",
        "*   Visualizations were generated showing the original and reconstructed signals in the time domain, and the real part, imaginary part, magnitude, and phase of the Fourier spectrum for $n \\in \\{-5, \\dots, 5\\}$.\n",
        "\n",
        "### Insights or Next Steps\n",
        "\n",
        "*   The low relative error suggests that the Fourier series truncated to $n \\in \\{-5, \\dots, 5\\}$ provides a reasonably good approximation of the original signal. Including more terms in the series would likely further reduce the error and improve the reconstruction accuracy, especially near the points where the original signal has sharp changes in slope.\n",
        "*   A potential next step could involve investigating the convergence of the Fourier series by calculating the relative error for increasing ranges of $n$ values and observing how the error decreases, possibly plotting the error as a function of the maximum $n$ value included in the reconstruction.\n"
      ]
    }
  ]
}