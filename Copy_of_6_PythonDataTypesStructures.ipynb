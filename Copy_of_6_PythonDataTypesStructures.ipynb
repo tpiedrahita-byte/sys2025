{
  "nbformat": 4,
  "nbformat_minor": 0,
  "metadata": {
    "colab": {
      "provenance": [],
      "include_colab_link": true
    },
    "kernelspec": {
      "name": "python3",
      "display_name": "Python 3"
    },
    "language_info": {
      "name": "python"
    }
  },
  "cells": [
    {
      "cell_type": "markdown",
      "metadata": {
        "id": "view-in-github",
        "colab_type": "text"
      },
      "source": [
        "<a href=\"https://colab.research.google.com/github/tpiedrahita-byte/sys2025/blob/main/Copy_of_6_PythonDataTypesStructures.ipynb\" target=\"_parent\"><img src=\"https://colab.research.google.com/assets/colab-badge.svg\" alt=\"Open In Colab\"/></a>"
      ]
    },
    {
      "cell_type": "markdown",
      "source": [
        "##**Lists**\n",
        "\n",
        "In Python, a list is a data structure used to store an ordered collection of elements. It is called \"list\" in English.\n",
        "\n",
        "Lists are very versatile as they can contain elements of different data types such as numbers, strings, booleans, objects, and other lists. They can also be modified, which means that elements can be added, removed, or modified.\n",
        "\n",
        "To create a list in Python, square brackets [] are used.\n"
      ],
      "metadata": {
        "id": "7m2NOuILJwMh"
      }
    },
    {
      "cell_type": "code",
      "execution_count": 2,
      "metadata": {
        "colab": {
          "base_uri": "https://localhost:8080/"
        },
        "id": "loCCLXyUJGEf",
        "outputId": "605260e8-e5a4-433e-c636-cbc627a8c024"
      },
      "outputs": [
        {
          "output_type": "execute_result",
          "data": {
            "text/plain": [
              "['Gerry', 1, 4.4, [0, 2, 3]]"
            ]
          },
          "metadata": {},
          "execution_count": 2
        }
      ],
      "source": [
        "lista1 = ['Gerry',1,4.4,[0,2,3]]\n",
        "lista1"
      ]
    },
    {
      "cell_type": "markdown",
      "source": [
        "I can show this element by element:"
      ],
      "metadata": {
        "id": "_hedGu3gKapT"
      }
    },
    {
      "cell_type": "code",
      "source": [
        "lista2 = lista1[1]\n",
        "lista2"
      ],
      "metadata": {
        "colab": {
          "base_uri": "https://localhost:8080/"
        },
        "id": "3EBTGE_fKed2",
        "outputId": "805944a2-09a6-424b-b64e-57516f46eac6"
      },
      "execution_count": 3,
      "outputs": [
        {
          "output_type": "execute_result",
          "data": {
            "text/plain": [
              "1"
            ]
          },
          "metadata": {},
          "execution_count": 3
        }
      ]
    },
    {
      "cell_type": "code",
      "source": [
        "lista2 = lista1[-1]\n",
        "lista2"
      ],
      "metadata": {
        "colab": {
          "base_uri": "https://localhost:8080/"
        },
        "id": "GolGrN4lKlIz",
        "outputId": "02417ced-74c2-45e3-d42f-416a01289686"
      },
      "execution_count": 4,
      "outputs": [
        {
          "output_type": "execute_result",
          "data": {
            "text/plain": [
              "[0, 2, 3]"
            ]
          },
          "metadata": {},
          "execution_count": 4
        }
      ]
    },
    {
      "cell_type": "code",
      "source": [
        "lista2 = lista1[-1][2]\n",
        "lista2"
      ],
      "metadata": {
        "colab": {
          "base_uri": "https://localhost:8080/"
        },
        "id": "OVukUVegK8h5",
        "outputId": "ce883c18-0eb1-46ef-e76d-3c0633ac0b7c"
      },
      "execution_count": 5,
      "outputs": [
        {
          "output_type": "execute_result",
          "data": {
            "text/plain": [
              "3"
            ]
          },
          "metadata": {},
          "execution_count": 5
        }
      ]
    },
    {
      "cell_type": "markdown",
      "source": [
        "I can delete a element of my list:"
      ],
      "metadata": {
        "id": "E-cwOa5ILNBX"
      }
    },
    {
      "cell_type": "code",
      "source": [
        "del lista1[1]\n",
        "lista1"
      ],
      "metadata": {
        "colab": {
          "base_uri": "https://localhost:8080/"
        },
        "id": "0UYTeLIQLKO5",
        "outputId": "525bf5bf-c7dd-4afe-b95b-e2a9bacf84ee"
      },
      "execution_count": 6,
      "outputs": [
        {
          "output_type": "execute_result",
          "data": {
            "text/plain": [
              "['Gerry', 4.4, [0, 2, 3]]"
            ]
          },
          "metadata": {},
          "execution_count": 6
        }
      ]
    },
    {
      "cell_type": "code",
      "source": [
        "#I can add a element in the list with command .append, for example:\n",
        "\n",
        "lista1.append(4.5)\n",
        "lista1"
      ],
      "metadata": {
        "colab": {
          "base_uri": "https://localhost:8080/"
        },
        "id": "AyNgXL2nLnYq",
        "outputId": "5864f7a4-7937-4a33-9e14-47df60faeb08"
      },
      "execution_count": 7,
      "outputs": [
        {
          "output_type": "execute_result",
          "data": {
            "text/plain": [
              "['Gerry', 4.4, [0, 2, 3], 4.5]"
            ]
          },
          "metadata": {},
          "execution_count": 7
        }
      ]
    },
    {
      "cell_type": "markdown",
      "source": [
        "##**Tuples**\n",
        "\n",
        "In Python, a tuple is another built-in data type used to store a collection of elements.\n",
        "\n",
        "A tuple is similar to a list in that it can store objects of different data types, but unlike lists, tuples are immutable, meaning they cannot be modified once they are created.\n",
        "\n",
        "Tuples are usually created by enclosing a comma-separated sequence of objects in parentheses ().\n",
        "\n",
        "\n",
        "For example, (1, 2, 'three') is a tuple containing an integer, another integer, and a string. Tuples are often used for fixed data that does not need to be changed, such as a collection of constants or a set of coordinates in a coordinate plane.\n",
        "\n",
        "\n",
        "\n"
      ],
      "metadata": {
        "id": "IDgY8mwnL6VM"
      }
    },
    {
      "cell_type": "code",
      "source": [
        "Tuple = (1,2,3,4,5)\n",
        "Tuple"
      ],
      "metadata": {
        "colab": {
          "base_uri": "https://localhost:8080/"
        },
        "id": "sOihyTYlMXTm",
        "outputId": "1e433abf-db09-46cf-c86a-b2d4f2e00ad5"
      },
      "execution_count": 8,
      "outputs": [
        {
          "output_type": "execute_result",
          "data": {
            "text/plain": [
              "(1, 2, 3, 4, 5)"
            ]
          },
          "metadata": {},
          "execution_count": 8
        }
      ]
    },
    {
      "cell_type": "code",
      "source": [
        "Tuple[0]"
      ],
      "metadata": {
        "colab": {
          "base_uri": "https://localhost:8080/"
        },
        "id": "4i09enoPMhYb",
        "outputId": "6c337b0d-4c08-4f81-8e17-7bac82af9c04"
      },
      "execution_count": 9,
      "outputs": [
        {
          "output_type": "execute_result",
          "data": {
            "text/plain": [
              "1"
            ]
          },
          "metadata": {},
          "execution_count": 9
        }
      ]
    },
    {
      "cell_type": "code",
      "source": [
        "Tuple[0]=4 #you cannot modified it!"
      ],
      "metadata": {
        "colab": {
          "base_uri": "https://localhost:8080/",
          "height": 141
        },
        "id": "8-mDNlIfMjyD",
        "outputId": "f7c34557-9a11-4810-acc8-5221eef0eb0c"
      },
      "execution_count": 11,
      "outputs": [
        {
          "output_type": "error",
          "ename": "TypeError",
          "evalue": "'tuple' object does not support item assignment",
          "traceback": [
            "\u001b[0;31m---------------------------------------------------------------------------\u001b[0m",
            "\u001b[0;31mTypeError\u001b[0m                                 Traceback (most recent call last)",
            "\u001b[0;32m/tmp/ipython-input-122572698.py\u001b[0m in \u001b[0;36m<cell line: 0>\u001b[0;34m()\u001b[0m\n\u001b[0;32m----> 1\u001b[0;31m \u001b[0mTuple\u001b[0m\u001b[0;34m[\u001b[0m\u001b[0;36m0\u001b[0m\u001b[0;34m]\u001b[0m\u001b[0;34m=\u001b[0m\u001b[0;36m4\u001b[0m \u001b[0;31m#you cannot modified it!\u001b[0m\u001b[0;34m\u001b[0m\u001b[0;34m\u001b[0m\u001b[0m\n\u001b[0m",
            "\u001b[0;31mTypeError\u001b[0m: 'tuple' object does not support item assignment"
          ]
        }
      ]
    },
    {
      "cell_type": "markdown",
      "source": [
        "##**Sets**\n",
        "\n",
        "In Python, a set is a built-in data type used to store an unordered collection of unique elements. It is similar to a list or a tuple, but unlike those data types, a set cannot contain duplicate values.\n",
        "\n",
        "Sets are created using curly braces {} or by using the set() function. For example, the following code creates a set of integers:"
      ],
      "metadata": {
        "id": "sAtET_vZMmbP"
      }
    },
    {
      "cell_type": "code",
      "source": [
        "my_set = {1, 2, 3, 4,5,5,3} #you cannot store the 5 twice in a set!\n",
        "my_set"
      ],
      "metadata": {
        "colab": {
          "base_uri": "https://localhost:8080/"
        },
        "id": "00IvCp_PND36",
        "outputId": "d6067da3-fb53-4dce-cd77-a529f62ecba3"
      },
      "execution_count": 12,
      "outputs": [
        {
          "output_type": "execute_result",
          "data": {
            "text/plain": [
              "{1, 2, 3, 4, 5}"
            ]
          },
          "metadata": {},
          "execution_count": 12
        }
      ]
    },
    {
      "cell_type": "markdown",
      "source": [
        "Sets can also be used to perform mathematical set operations such as union, intersection, and difference.\n",
        "\n",
        "For example, given two sets set1 = {1, 2, 3} and set2 = {2, 3, 4}, the union of the two sets can be obtained using the | operator:"
      ],
      "metadata": {
        "id": "6FLcFWCsNI5A"
      }
    },
    {
      "cell_type": "code",
      "source": [
        "set1={1,2,3,4,8}\n",
        "set2={2,3,4}\n",
        "\n",
        "union_set = set1 | set2\n",
        "union_set\n"
      ],
      "metadata": {
        "colab": {
          "base_uri": "https://localhost:8080/"
        },
        "id": "O4ElDKysNJmT",
        "outputId": "eaff6911-3405-42dc-fc17-ca096840c200"
      },
      "execution_count": 13,
      "outputs": [
        {
          "output_type": "execute_result",
          "data": {
            "text/plain": [
              "{1, 2, 3, 4, 8}"
            ]
          },
          "metadata": {},
          "execution_count": 13
        }
      ]
    },
    {
      "cell_type": "markdown",
      "source": [
        "Similarly, the intersection of the two sets can be obtained using the & operator:"
      ],
      "metadata": {
        "id": "4EICJO77NYUx"
      }
    },
    {
      "cell_type": "code",
      "source": [
        "intersection_set = set1 & set2\n",
        "intersection_set\n",
        "\n"
      ],
      "metadata": {
        "colab": {
          "base_uri": "https://localhost:8080/"
        },
        "id": "QxaUxi_8NX9c",
        "outputId": "77819b90-205d-42cc-9407-e7738e37db7c"
      },
      "execution_count": 14,
      "outputs": [
        {
          "output_type": "execute_result",
          "data": {
            "text/plain": [
              "{2, 3, 4}"
            ]
          },
          "metadata": {},
          "execution_count": 14
        }
      ]
    },
    {
      "cell_type": "markdown",
      "source": [
        "And the difference of the two sets can be obtained using the - operator:"
      ],
      "metadata": {
        "id": "L5JlhT_1OQk8"
      }
    },
    {
      "cell_type": "code",
      "source": [
        "difference_set = set1 - set2\n",
        "difference_set"
      ],
      "metadata": {
        "colab": {
          "base_uri": "https://localhost:8080/"
        },
        "id": "RVaE-Y1PORc8",
        "outputId": "a59ccbe4-1397-4ede-de75-dc96ae5fb846"
      },
      "execution_count": 15,
      "outputs": [
        {
          "output_type": "execute_result",
          "data": {
            "text/plain": [
              "{1, 8}"
            ]
          },
          "metadata": {},
          "execution_count": 15
        }
      ]
    },
    {
      "cell_type": "markdown",
      "source": [
        "##**Dictionaries**\n",
        "\n",
        "In Python, a dictionary is a built-in data structure used to store a collection of key-value pairs. It is sometimes referred to as an associative array, hash table or a map.\n",
        "\n",
        "A dictionary is created using curly braces {} and each key-value pair is separated by a colon (:). For example, the following code creates a dictionary of items and their prices"
      ],
      "metadata": {
        "id": "3tUubrxMOoSB"
      }
    },
    {
      "cell_type": "code",
      "source": [
        "prices = {'apple':0.5,'banana': 0.25, 'orange': 0.75}\n",
        "prices\n",
        "\n",
        "prices['orange']=1\n",
        "\n",
        "prices"
      ],
      "metadata": {
        "colab": {
          "base_uri": "https://localhost:8080/"
        },
        "id": "ubj9Qiv9O4UW",
        "outputId": "de95e322-8586-47ff-b041-42323bb85edd"
      },
      "execution_count": 16,
      "outputs": [
        {
          "output_type": "execute_result",
          "data": {
            "text/plain": [
              "{'apple': 0.5, 'banana': 0.25, 'orange': 1}"
            ]
          },
          "metadata": {},
          "execution_count": 16
        }
      ]
    },
    {
      "cell_type": "markdown",
      "source": [
        "In this example, 'apple', 'banana', and 'orange' are keys, and 0.5, 0.25, and 0.75 are their corresponding values. The keys in a dictionary must be unique and immutable, while the values can be of any data type and can be duplicated.\n",
        "\n",
        "Values in a dictionary can be accessed by their corresponding keys, as shown in the following example:"
      ],
      "metadata": {
        "id": "Kpc4CDQdPBgJ"
      }
    },
    {
      "cell_type": "code",
      "source": [
        "apple_price = prices['banana']\n",
        "apple_price\n"
      ],
      "metadata": {
        "colab": {
          "base_uri": "https://localhost:8080/"
        },
        "id": "1i4_35S2PNAl",
        "outputId": "da13abbc-eb00-42e0-f426-5139b5086634"
      },
      "execution_count": 17,
      "outputs": [
        {
          "output_type": "execute_result",
          "data": {
            "text/plain": [
              "0.25"
            ]
          },
          "metadata": {},
          "execution_count": 17
        }
      ]
    },
    {
      "cell_type": "markdown",
      "source": [
        "Dictionaries are useful when you need to store and retrieve values by a specific key rather than by their position in a sequence. They are commonly used to represent mappings between items, such as a person's name and their contact information, or a word and its definition."
      ],
      "metadata": {
        "id": "nHbjpbQqPReD"
      }
    },
    {
      "cell_type": "code",
      "source": [
        "prices['banana']"
      ],
      "metadata": {
        "colab": {
          "base_uri": "https://localhost:8080/"
        },
        "id": "e4nTbDtKQGSg",
        "outputId": "3e0b1df9-4490-40f4-e15a-d6cb69f8012c"
      },
      "execution_count": 18,
      "outputs": [
        {
          "output_type": "execute_result",
          "data": {
            "text/plain": [
              "0.25"
            ]
          },
          "metadata": {},
          "execution_count": 18
        }
      ]
    },
    {
      "cell_type": "markdown",
      "source": [
        "##**Example**\n",
        "\n",
        "Write a function that takes a list of numbers as input and returns a list that contains only the unique numbers from the original list. For example, if the input is [1, 2, 3, 2, 4, 3, 5], the function should return [1, 2, 3, 4, 5]."
      ],
      "metadata": {
        "id": "9CaTksnCTCBk"
      }
    },
    {
      "cell_type": "code",
      "source": [
        "def unique_numbers(nums):\n",
        "    return list(set(nums))#\n",
        "\n",
        "# Example usage\n",
        "nums = [1, 2, 3, 2, 4, 3, 5]\n",
        "print(unique_numbers(nums))"
      ],
      "metadata": {
        "colab": {
          "base_uri": "https://localhost:8080/"
        },
        "id": "TVhPTXtjTKMm",
        "outputId": "80aafb6b-54c9-4a09-fc4c-b35e60f76785"
      },
      "execution_count": 19,
      "outputs": [
        {
          "output_type": "stream",
          "name": "stdout",
          "text": [
            "[1, 2, 3, 4, 5]\n"
          ]
        }
      ]
    },
    {
      "cell_type": "markdown",
      "source": [
        "##**Example**\n",
        "\n",
        "Write a function that takes a dictionary as input and returns a list of the unique values in the dictionary. For example, if the dictionary is {'a': 1, 'b': 2, 'c': 1, 'd': 3}, the function should return [1, 2, 3]."
      ],
      "metadata": {
        "id": "HRXzajpMTiZj"
      }
    },
    {
      "cell_type": "code",
      "source": [
        "def ex2 (d):\n",
        "  lista = []\n",
        "  for i in d:\n",
        "    if d[i] not in lista:\n",
        "      lista.append(d[i])\n",
        "  return lista\n",
        "\n",
        "dicc ={'a': 1, 'b': 2, 'c': 1, 'd': 3}\n",
        "lis = ex2(dicc)\n",
        "lis"
      ],
      "metadata": {
        "colab": {
          "base_uri": "https://localhost:8080/"
        },
        "id": "s53Nhq7QV8CM",
        "outputId": "def17eaf-88c9-42c2-f702-792e30cf522e"
      },
      "execution_count": 20,
      "outputs": [
        {
          "output_type": "execute_result",
          "data": {
            "text/plain": [
              "[1, 2, 3]"
            ]
          },
          "metadata": {},
          "execution_count": 20
        }
      ]
    },
    {
      "cell_type": "markdown",
      "source": [
        "##**Exercise_1**\n",
        "\n",
        "Write a function that takes a list of numbers as input and returns the sum of all the odd numbers in the list. For example, if the input is [1, 2, 3, 4, 5, 6], the function should return 9 (which is the sum of 1, 3, and 5)."
      ],
      "metadata": {
        "id": "3MDtAtv-UG5P"
      }
    },
    {
      "cell_type": "markdown",
      "source": [
        "##**Exercise_2**\n",
        "Write a function that takes a list of words as input and returns a dictionary that counts the number of times each word appears in the list. For example, if the input is ['apple', 'banana', 'apple', 'cherry', 'cherry', 'cherry'], the function should return {'apple': 2, 'banana': 1, 'cherry': 3}."
      ],
      "metadata": {
        "id": "kPhBJ5HUUlvN"
      }
    },
    {
      "cell_type": "markdown",
      "source": [
        "Developed by:\n",
        "\n",
        "- Brian Patino Agudelo - bpatinoa@unal.edu.co\n",
        "\n",
        "- Andrés Marino Álvarez Meza - amalvarezme@unal.edu.co\n",
        "\n",
        "- César Germán Castellanos Domínguez - cgcastellanosd@unal.edu.co"
      ],
      "metadata": {
        "id": "9thTok_REswp"
      }
    },
    {
      "cell_type": "code",
      "source": [
        "#EXERCISE 1\n",
        "\n",
        "def sum_odd_numbers(numbers):\n",
        "  \"\"\"\n",
        "  Calculates the sum of all odd numbers in a list.\n",
        "\n",
        "  Args:\n",
        "    numbers: A list of numbers.\n",
        "\n",
        "  Returns:\n",
        "    The sum of all odd numbers in the list.\n",
        "  \"\"\"\n",
        "  odd_sum = 0\n",
        "  for number in numbers:\n",
        "    if number % 2 != 0:\n",
        "      odd_sum += number\n",
        "  return odd_sum\n",
        "\n",
        "# Example usage\n",
        "nums = [1, 2, 3, 4, 5, 6]\n",
        "print(sum_odd_numbers(nums))\n",
        "\n",
        "#EXERCISE2\n",
        "\n",
        "def count_words(words):\n",
        "  \"\"\"\n",
        "  Counts the occurrences of each word in a list and returns a dictionary.\n",
        "\n",
        "  Args:\n",
        "    words: A list of words.\n",
        "\n",
        "  Returns:\n",
        "    A dictionary where keys are words and values are their counts.\n",
        "  \"\"\"\n",
        "  word_counts = {}\n",
        "  for word in words:\n",
        "    word_counts[word] = word_counts.get(word, 0) + 1\n",
        "  return word_counts\n",
        "\n",
        "# Example usage\n",
        "words = ['manzana', 'plátano', 'manzana', 'cereza', 'cereza', 'cereza']\n",
        "print(count_words(words))"
      ],
      "metadata": {
        "id": "cWV3WymdezoZ",
        "colab": {
          "base_uri": "https://localhost:8080/"
        },
        "outputId": "e3da5898-c4d2-4a13-82b3-337e4b21198b"
      },
      "execution_count": 23,
      "outputs": [
        {
          "output_type": "stream",
          "name": "stdout",
          "text": [
            "9\n",
            "{'manzana': 2, 'plátano': 1, 'cereza': 3}\n"
          ]
        }
      ]
    }
  ]
}